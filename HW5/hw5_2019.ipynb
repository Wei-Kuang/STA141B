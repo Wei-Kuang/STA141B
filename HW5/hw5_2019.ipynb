{
 "cells": [
  {
   "cell_type": "markdown",
   "metadata": {
    "class": "fill"
   },
   "source": [
    "# STA 141B: Homework 5\n",
    "## Wei-Kuang  (Jerry) Lin "
   ]
  },
  {
   "cell_type": "markdown",
   "metadata": {
    "class": "fill"
   },
   "source": [
    "# Housing data\n",
    "\n",
    "In this assignment, you'll analyze a collection of data sets from the [San Francisco Open Data Portal](http://data.sfgov.org/) and [Zillow](https://www.zillow.com/). The data sets have been stored in the SQLite database `sf_data.sqlite`, which you can [download here](http://anson.ucdavis.edu/~nulle/sf_data.sqlite). The database contains the following tables:\n",
    "\n",
    "Table                   | Description\n",
    "----------------------- | -----------\n",
    "`crime`                 | Crime reports dating back to 2010.\n",
    "`mobile_food_locations` | List of all locations where mobile food vendors sell.\n",
    "`mobile_food_permits`   | List of all mobile food vendor permits. More details [here](https://data.sfgov.org/api/views/rqzj-sfat/files/8g2f5RV4PEk0_b24iJEtgEet9gnh_eA27GlqoOjjK4k?download=true&filename=DPW_DataDictionary_Mobile-Food-Facility-Permit.pdf).\n",
    "`mobile_food_schedule`  | Schedules for mobile food vendors.\n",
    "`noise`                 | Noise complaints dating back to August 2015.\n",
    "`parking`               | List of all parking lots.\n",
    "`parks`                 | List of all parks.\n",
    "`schools`               | List of all schools.\n",
    "`zillow`                | Zillow rent and housing statistics dating back to 1996. More details [here](https://www.zillow.com/research/data/).\n",
    "\n",
    "The `mobile_food_` tables are explicitly connected through the `locationid` and `permit` columns. The other tables are not connected, but you may be able to connect them using dates, latitude/longitude, or postal codes.\n",
    "\n",
    "Shapefiles for US postal codes are available [here](https://www.census.gov/geo/maps-data/data/cbf/cbf_zcta.html). These may be useful for converting latitude/longitude to postal codes.\n",
    "\n",
    "Shapefiles for San Francisco Neighborhoods are available [here](https://data.sfgov.org/Geographic-Locations-and-Boundaries/SF-Find-Neighborhoods/pty2-tcw4)."
   ]
  },
  {
   "cell_type": "code",
   "execution_count": 28,
   "metadata": {},
   "outputs": [],
   "source": [
    "# Data Frame and array operation\n",
    "import pandas as pd\n",
    "import numpy as np\n",
    "\n",
    "# Geography operation\n",
    "import geopandas as gpd           # conda install -c conda-forge geopandas\n",
    "import osmnx as ox                # conda install -c conda-forge osmnx\n",
    "import shapely.geometry as geom   # conda install -c conda-forge shapely\n",
    "\n",
    "# SQL\n",
    "import sqlalchemy as sqla         # a nice “Pythonic” way of interacting with SQL databases\n",
    "                                  # Discussion-07 provides info to use SQL in python\n",
    "                                  # Prof. Sharpnack's Lesson_13_Notebook : SQL with Pandas\n",
    "\n",
    "# Data visualization\n",
    "%matplotlib inline                \n",
    "import matplotlib.pyplot as plt\n",
    "plt.style.use('ggplot')           # This adjusts the plotting style to emulate ggplot's aesthetic design.\n",
    "import seaborn as sns"
   ]
  },
  {
   "cell_type": "markdown",
   "metadata": {
    "class": "ex",
    "exercise": "1.1",
    "points": "20"
   },
   "source": [
    "# Exercise 1:  Which mobile food vendor(s) sells at the most locations?"
   ]
  },
  {
   "cell_type": "code",
   "execution_count": 29,
   "metadata": {},
   "outputs": [],
   "source": [
    "# Let's create the sqlite file, and create the connection.\n",
    "sqlite_file = 'C:/Users/WeiKuang/Documents/GitHub/data/sf_data.sqlite'\n",
    "sf_conn = sqla.create_engine('sqlite:///' + sqlite_file)    \n",
    "# sf_conn is the connection between SQL and python"
   ]
  },
  {
   "cell_type": "code",
   "execution_count": 31,
   "metadata": {},
   "outputs": [
    {
     "data": {
      "text/html": [
       "<div>\n",
       "<style scoped>\n",
       "    .dataframe tbody tr th:only-of-type {\n",
       "        vertical-align: middle;\n",
       "    }\n",
       "\n",
       "    .dataframe tbody tr th {\n",
       "        vertical-align: top;\n",
       "    }\n",
       "\n",
       "    .dataframe thead th {\n",
       "        text-align: right;\n",
       "    }\n",
       "</style>\n",
       "<table border=\"1\" class=\"dataframe\">\n",
       "  <thead>\n",
       "    <tr style=\"text-align: right;\">\n",
       "      <th></th>\n",
       "      <th>type</th>\n",
       "      <th>name</th>\n",
       "      <th>tbl_name</th>\n",
       "      <th>rootpage</th>\n",
       "      <th>sql</th>\n",
       "    </tr>\n",
       "  </thead>\n",
       "  <tbody>\n",
       "    <tr>\n",
       "      <th>0</th>\n",
       "      <td>table</td>\n",
       "      <td>crime</td>\n",
       "      <td>crime</td>\n",
       "      <td>2</td>\n",
       "      <td>CREATE TABLE \"crime\" (\\n\"IncidntNum\" INTEGER,\\...</td>\n",
       "    </tr>\n",
       "    <tr>\n",
       "      <th>1</th>\n",
       "      <td>table</td>\n",
       "      <td>noise</td>\n",
       "      <td>noise</td>\n",
       "      <td>35775</td>\n",
       "      <td>CREATE TABLE \"noise\" (\\n\"CaseID\" INTEGER,\\n  \"...</td>\n",
       "    </tr>\n",
       "    <tr>\n",
       "      <th>2</th>\n",
       "      <td>table</td>\n",
       "      <td>parking</td>\n",
       "      <td>parking</td>\n",
       "      <td>35921</td>\n",
       "      <td>CREATE TABLE \"parking\" (\\n\"Owner\" TEXT,\\n  \"Ad...</td>\n",
       "    </tr>\n",
       "    <tr>\n",
       "      <th>3</th>\n",
       "      <td>table</td>\n",
       "      <td>schools</td>\n",
       "      <td>schools</td>\n",
       "      <td>35944</td>\n",
       "      <td>CREATE TABLE \"schools\" (\\n\"Name\" TEXT,\\n  \"Ent...</td>\n",
       "    </tr>\n",
       "    <tr>\n",
       "      <th>4</th>\n",
       "      <td>table</td>\n",
       "      <td>parks</td>\n",
       "      <td>parks</td>\n",
       "      <td>35961</td>\n",
       "      <td>CREATE TABLE \"parks\" (\\n\"Name\" TEXT,\\n  \"Type\"...</td>\n",
       "    </tr>\n",
       "    <tr>\n",
       "      <th>5</th>\n",
       "      <td>table</td>\n",
       "      <td>zillow</td>\n",
       "      <td>zillow</td>\n",
       "      <td>35967</td>\n",
       "      <td>CREATE TABLE \"zillow\" (\\n\"RegionName\" INTEGER,...</td>\n",
       "    </tr>\n",
       "    <tr>\n",
       "      <th>6</th>\n",
       "      <td>table</td>\n",
       "      <td>mobile_food_permits</td>\n",
       "      <td>mobile_food_permits</td>\n",
       "      <td>36050</td>\n",
       "      <td>CREATE TABLE \"mobile_food_permits\" (\\n\"permit\"...</td>\n",
       "    </tr>\n",
       "    <tr>\n",
       "      <th>7</th>\n",
       "      <td>table</td>\n",
       "      <td>mobile_food_locations</td>\n",
       "      <td>mobile_food_locations</td>\n",
       "      <td>36060</td>\n",
       "      <td>CREATE TABLE \"mobile_food_locations\" (\\n\"locat...</td>\n",
       "    </tr>\n",
       "    <tr>\n",
       "      <th>8</th>\n",
       "      <td>table</td>\n",
       "      <td>mobile_food_schedule</td>\n",
       "      <td>mobile_food_schedule</td>\n",
       "      <td>36079</td>\n",
       "      <td>CREATE TABLE \"mobile_food_schedule\" (\\n\"locati...</td>\n",
       "    </tr>\n",
       "  </tbody>\n",
       "</table>\n",
       "</div>"
      ],
      "text/plain": [
       "    type                   name               tbl_name  rootpage  \\\n",
       "0  table                  crime                  crime         2   \n",
       "1  table                  noise                  noise     35775   \n",
       "2  table                parking                parking     35921   \n",
       "3  table                schools                schools     35944   \n",
       "4  table                  parks                  parks     35961   \n",
       "5  table                 zillow                 zillow     35967   \n",
       "6  table    mobile_food_permits    mobile_food_permits     36050   \n",
       "7  table  mobile_food_locations  mobile_food_locations     36060   \n",
       "8  table   mobile_food_schedule   mobile_food_schedule     36079   \n",
       "\n",
       "                                                 sql  \n",
       "0  CREATE TABLE \"crime\" (\\n\"IncidntNum\" INTEGER,\\...  \n",
       "1  CREATE TABLE \"noise\" (\\n\"CaseID\" INTEGER,\\n  \"...  \n",
       "2  CREATE TABLE \"parking\" (\\n\"Owner\" TEXT,\\n  \"Ad...  \n",
       "3  CREATE TABLE \"schools\" (\\n\"Name\" TEXT,\\n  \"Ent...  \n",
       "4  CREATE TABLE \"parks\" (\\n\"Name\" TEXT,\\n  \"Type\"...  \n",
       "5  CREATE TABLE \"zillow\" (\\n\"RegionName\" INTEGER,...  \n",
       "6  CREATE TABLE \"mobile_food_permits\" (\\n\"permit\"...  \n",
       "7  CREATE TABLE \"mobile_food_locations\" (\\n\"locat...  \n",
       "8  CREATE TABLE \"mobile_food_schedule\" (\\n\"locati...  "
      ]
     },
     "execution_count": 31,
     "metadata": {},
     "output_type": "execute_result"
    }
   ],
   "source": [
    "sql_query= \"\"\"\n",
    "select * from sqlite_master\n",
    "\"\"\"\n",
    "overview = pd.read_sql_query(sql_query, sf_conn)\n",
    "overview"
   ]
  },
  {
   "cell_type": "code",
   "execution_count": 3,
   "metadata": {},
   "outputs": [
    {
     "data": {
      "text/html": [
       "<div>\n",
       "<style scoped>\n",
       "    .dataframe tbody tr th:only-of-type {\n",
       "        vertical-align: middle;\n",
       "    }\n",
       "\n",
       "    .dataframe tbody tr th {\n",
       "        vertical-align: top;\n",
       "    }\n",
       "\n",
       "    .dataframe thead th {\n",
       "        text-align: right;\n",
       "    }\n",
       "</style>\n",
       "<table border=\"1\" class=\"dataframe\">\n",
       "  <thead>\n",
       "    <tr style=\"text-align: right;\">\n",
       "      <th></th>\n",
       "      <th>permit</th>\n",
       "      <th>Status</th>\n",
       "      <th>Applicant</th>\n",
       "      <th>FacilityType</th>\n",
       "      <th>FoodItems</th>\n",
       "      <th>PriorPermit</th>\n",
       "      <th>Approved</th>\n",
       "      <th>Expiration</th>\n",
       "    </tr>\n",
       "  </thead>\n",
       "  <tbody>\n",
       "    <tr>\n",
       "      <th>0</th>\n",
       "      <td>16MFF-0027</td>\n",
       "      <td>APPROVED</td>\n",
       "      <td>F &amp; C Catering</td>\n",
       "      <td>Truck</td>\n",
       "      <td>Cold Truck: Hot/Cold Sandwiches: Water: Soda: ...</td>\n",
       "      <td>1</td>\n",
       "      <td>2016-03-09 12:00:00</td>\n",
       "      <td>2017-03-15 12:00:00</td>\n",
       "    </tr>\n",
       "    <tr>\n",
       "      <th>1</th>\n",
       "      <td>16MFF-0069</td>\n",
       "      <td>APPROVED</td>\n",
       "      <td>Munch A Bunch</td>\n",
       "      <td>Truck</td>\n",
       "      <td>Cold Truck: packaged sandwiches: pitas: breakf...</td>\n",
       "      <td>1</td>\n",
       "      <td>2016-03-15 12:00:00</td>\n",
       "      <td>2017-03-15 12:00:00</td>\n",
       "    </tr>\n",
       "    <tr>\n",
       "      <th>2</th>\n",
       "      <td>16MFF-0051</td>\n",
       "      <td>APPROVED</td>\n",
       "      <td>Park's Catering</td>\n",
       "      <td>Truck</td>\n",
       "      <td>Cold Truck: Hamburger: cheeseburgers: hot dogs...</td>\n",
       "      <td>1</td>\n",
       "      <td>2016-03-15 12:00:00</td>\n",
       "      <td>2017-03-15 12:00:00</td>\n",
       "    </tr>\n",
       "  </tbody>\n",
       "</table>\n",
       "</div>"
      ],
      "text/plain": [
       "       permit    Status        Applicant FacilityType  \\\n",
       "0  16MFF-0027  APPROVED   F & C Catering        Truck   \n",
       "1  16MFF-0069  APPROVED    Munch A Bunch        Truck   \n",
       "2  16MFF-0051  APPROVED  Park's Catering        Truck   \n",
       "\n",
       "                                           FoodItems  PriorPermit  \\\n",
       "0  Cold Truck: Hot/Cold Sandwiches: Water: Soda: ...            1   \n",
       "1  Cold Truck: packaged sandwiches: pitas: breakf...            1   \n",
       "2  Cold Truck: Hamburger: cheeseburgers: hot dogs...            1   \n",
       "\n",
       "              Approved           Expiration  \n",
       "0  2016-03-09 12:00:00  2017-03-15 12:00:00  \n",
       "1  2016-03-15 12:00:00  2017-03-15 12:00:00  \n",
       "2  2016-03-15 12:00:00  2017-03-15 12:00:00  "
      ]
     },
     "execution_count": 3,
     "metadata": {},
     "output_type": "execute_result"
    }
   ],
   "source": [
    "# permit\n",
    "sql_query = \"\"\" \n",
    "select * from mobile_food_permits\n",
    "where Status = 'APPROVED' \n",
    "\"\"\"\n",
    "permits = pd.read_sql_query(sql_query, sf_conn)\n",
    "permits.head(3)"
   ]
  },
  {
   "cell_type": "code",
   "execution_count": 4,
   "metadata": {},
   "outputs": [
    {
     "data": {
      "text/html": [
       "<div>\n",
       "<style scoped>\n",
       "    .dataframe tbody tr th:only-of-type {\n",
       "        vertical-align: middle;\n",
       "    }\n",
       "\n",
       "    .dataframe tbody tr th {\n",
       "        vertical-align: top;\n",
       "    }\n",
       "\n",
       "    .dataframe thead th {\n",
       "        text-align: right;\n",
       "    }\n",
       "</style>\n",
       "<table border=\"1\" class=\"dataframe\">\n",
       "  <thead>\n",
       "    <tr style=\"text-align: right;\">\n",
       "      <th></th>\n",
       "      <th>locationid</th>\n",
       "      <th>permit</th>\n",
       "      <th>DayOfWeek</th>\n",
       "      <th>EndHour</th>\n",
       "      <th>StartHour</th>\n",
       "    </tr>\n",
       "  </thead>\n",
       "  <tbody>\n",
       "    <tr>\n",
       "      <th>0</th>\n",
       "      <td>305727</td>\n",
       "      <td>11MFF-0040</td>\n",
       "      <td>Mo</td>\n",
       "      <td>15</td>\n",
       "      <td>10</td>\n",
       "    </tr>\n",
       "    <tr>\n",
       "      <th>1</th>\n",
       "      <td>305727</td>\n",
       "      <td>11MFF-0040</td>\n",
       "      <td>Tu</td>\n",
       "      <td>15</td>\n",
       "      <td>10</td>\n",
       "    </tr>\n",
       "    <tr>\n",
       "      <th>2</th>\n",
       "      <td>305727</td>\n",
       "      <td>11MFF-0040</td>\n",
       "      <td>We</td>\n",
       "      <td>15</td>\n",
       "      <td>10</td>\n",
       "    </tr>\n",
       "    <tr>\n",
       "      <th>3</th>\n",
       "      <td>305727</td>\n",
       "      <td>11MFF-0040</td>\n",
       "      <td>Th</td>\n",
       "      <td>15</td>\n",
       "      <td>10</td>\n",
       "    </tr>\n",
       "    <tr>\n",
       "      <th>4</th>\n",
       "      <td>305727</td>\n",
       "      <td>11MFF-0040</td>\n",
       "      <td>Fr</td>\n",
       "      <td>15</td>\n",
       "      <td>10</td>\n",
       "    </tr>\n",
       "    <tr>\n",
       "      <th>5</th>\n",
       "      <td>305727</td>\n",
       "      <td>11MFF-0040</td>\n",
       "      <td>Sa</td>\n",
       "      <td>15</td>\n",
       "      <td>10</td>\n",
       "    </tr>\n",
       "    <tr>\n",
       "      <th>6</th>\n",
       "      <td>305727</td>\n",
       "      <td>11MFF-0040</td>\n",
       "      <td>Su</td>\n",
       "      <td>15</td>\n",
       "      <td>10</td>\n",
       "    </tr>\n",
       "    <tr>\n",
       "      <th>7</th>\n",
       "      <td>305727</td>\n",
       "      <td>11MFF-0040</td>\n",
       "      <td>Mo</td>\n",
       "      <td>20</td>\n",
       "      <td>17</td>\n",
       "    </tr>\n",
       "    <tr>\n",
       "      <th>8</th>\n",
       "      <td>305727</td>\n",
       "      <td>11MFF-0040</td>\n",
       "      <td>Tu</td>\n",
       "      <td>20</td>\n",
       "      <td>17</td>\n",
       "    </tr>\n",
       "    <tr>\n",
       "      <th>9</th>\n",
       "      <td>305727</td>\n",
       "      <td>11MFF-0040</td>\n",
       "      <td>We</td>\n",
       "      <td>20</td>\n",
       "      <td>17</td>\n",
       "    </tr>\n",
       "  </tbody>\n",
       "</table>\n",
       "</div>"
      ],
      "text/plain": [
       "   locationid      permit DayOfWeek  EndHour  StartHour\n",
       "0      305727  11MFF-0040        Mo       15         10\n",
       "1      305727  11MFF-0040        Tu       15         10\n",
       "2      305727  11MFF-0040        We       15         10\n",
       "3      305727  11MFF-0040        Th       15         10\n",
       "4      305727  11MFF-0040        Fr       15         10\n",
       "5      305727  11MFF-0040        Sa       15         10\n",
       "6      305727  11MFF-0040        Su       15         10\n",
       "7      305727  11MFF-0040        Mo       20         17\n",
       "8      305727  11MFF-0040        Tu       20         17\n",
       "9      305727  11MFF-0040        We       20         17"
      ]
     },
     "execution_count": 4,
     "metadata": {},
     "output_type": "execute_result"
    }
   ],
   "source": [
    "# schedule\n",
    "sql_query = \"\"\" \n",
    "select * from mobile_food_schedule\n",
    "\"\"\"\n",
    "schedule = pd.read_sql_query(sql_query, sf_conn)\n",
    "schedule.head(10)"
   ]
  },
  {
   "cell_type": "markdown",
   "metadata": {},
   "source": [
    "##### My Results"
   ]
  },
  {
   "cell_type": "code",
   "execution_count": 5,
   "metadata": {},
   "outputs": [
    {
     "data": {
      "text/html": [
       "<div>\n",
       "<style scoped>\n",
       "    .dataframe tbody tr th:only-of-type {\n",
       "        vertical-align: middle;\n",
       "    }\n",
       "\n",
       "    .dataframe tbody tr th {\n",
       "        vertical-align: top;\n",
       "    }\n",
       "\n",
       "    .dataframe thead th {\n",
       "        text-align: right;\n",
       "    }\n",
       "</style>\n",
       "<table border=\"1\" class=\"dataframe\">\n",
       "  <thead>\n",
       "    <tr style=\"text-align: right;\">\n",
       "      <th></th>\n",
       "      <th>permit</th>\n",
       "      <th>Status</th>\n",
       "      <th>my_count</th>\n",
       "      <th>Vendor_Name</th>\n",
       "    </tr>\n",
       "  </thead>\n",
       "  <tbody>\n",
       "    <tr>\n",
       "      <th>0</th>\n",
       "      <td>16MFF-0051</td>\n",
       "      <td>APPROVED</td>\n",
       "      <td>23</td>\n",
       "      <td>Park's Catering</td>\n",
       "    </tr>\n",
       "    <tr>\n",
       "      <th>1</th>\n",
       "      <td>16MFF-0037</td>\n",
       "      <td>APPROVED</td>\n",
       "      <td>17</td>\n",
       "      <td>D &amp; T Catering</td>\n",
       "    </tr>\n",
       "    <tr>\n",
       "      <th>2</th>\n",
       "      <td>16MFF-0027</td>\n",
       "      <td>APPROVED</td>\n",
       "      <td>13</td>\n",
       "      <td>F &amp; C Catering</td>\n",
       "    </tr>\n",
       "    <tr>\n",
       "      <th>3</th>\n",
       "      <td>16MFF-0069</td>\n",
       "      <td>APPROVED</td>\n",
       "      <td>10</td>\n",
       "      <td>Munch A Bunch</td>\n",
       "    </tr>\n",
       "    <tr>\n",
       "      <th>4</th>\n",
       "      <td>16MFF-0019</td>\n",
       "      <td>APPROVED</td>\n",
       "      <td>7</td>\n",
       "      <td>Linda's Catering</td>\n",
       "    </tr>\n",
       "  </tbody>\n",
       "</table>\n",
       "</div>"
      ],
      "text/plain": [
       "       permit    Status  my_count       Vendor_Name\n",
       "0  16MFF-0051  APPROVED        23   Park's Catering\n",
       "1  16MFF-0037  APPROVED        17    D & T Catering\n",
       "2  16MFF-0027  APPROVED        13    F & C Catering\n",
       "3  16MFF-0069  APPROVED        10     Munch A Bunch\n",
       "4  16MFF-0019  APPROVED         7  Linda's Catering"
      ]
     },
     "execution_count": 5,
     "metadata": {},
     "output_type": "execute_result"
    }
   ],
   "source": [
    "# To find the id which sell food at the most location\n",
    "# The key is to use \"distinct\" on the column name, in the select statment. \n",
    "resutlt = pd.read_sql(\"\"\"select Table_2.permit, \n",
    "                         Table_2.status,\n",
    "                         count(distinct Table_1.locationid) as my_count,\n",
    "                         Applicant as Vendor_Name\n",
    "\n",
    "                         from (mobile_food_schedule as Table_1 \n",
    "                               left join \n",
    "                               mobile_food_permits as Table_2\n",
    "                               on Table_1.permit = Table_2.permit) \n",
    "                         \n",
    "                         where Table_2.status = 'APPROVED'\n",
    "                         group by Table_2.permit \n",
    "                         order by my_count DESC\n",
    "                         \"\"\",sf_conn)\n",
    "resutlt.head(5)"
   ]
  },
  {
   "cell_type": "markdown",
   "metadata": {},
   "source": [
    "#### Ans to Exercise 1.1. (20 pts) Which mobile food vendor(s) sells at the most locations?\n",
    "Park's Catering ( permit id 16MFF-0051) is the mobile food vendor that sells at the most locatoins (23 places)."
   ]
  },
  {
   "cell_type": "markdown",
   "metadata": {},
   "source": [
    "<pre>\n",
    "\n",
    "</pre>"
   ]
  },
  {
   "cell_type": "markdown",
   "metadata": {
    "class": "ex",
    "exercise": "1.2",
    "points": "40"
   },
   "source": [
    "# Exercise 2: Ask and use the database to analyze 5 questions about San Francisco. For each question, write at least 150 words and support your answer with plots. Make a map for at least 2 of the 5 questions.\n",
    "\n",
    "You should try to come up with some questions on your own, but these are examples of reasonable questions:\n",
    "\n",
    "* Which parts of the city are the most and least expensive?\n",
    "* Which parts of the city are the most dangerous (and at what times)?\n",
    "* Are noise complaints and mobile food vendors related?\n",
    "* What are the best times and places to find food trucks?\n",
    "* Is there a relationship between housing prices and any of the other tables?\n",
    "\n",
    "Please make sure to clearly state each of your questions in your submission."
   ]
  },
  {
   "cell_type": "markdown",
   "metadata": {
    "collapsed": true
   },
   "source": [
    "## 2.1 Which parts of the city are the most and least expensive?"
   ]
  },
  {
   "cell_type": "code",
   "execution_count": 6,
   "metadata": {},
   "outputs": [
    {
     "data": {
      "text/html": [
       "<div>\n",
       "<style scoped>\n",
       "    .dataframe tbody tr th:only-of-type {\n",
       "        vertical-align: middle;\n",
       "    }\n",
       "\n",
       "    .dataframe tbody tr th {\n",
       "        vertical-align: top;\n",
       "    }\n",
       "\n",
       "    .dataframe thead th {\n",
       "        text-align: right;\n",
       "    }\n",
       "</style>\n",
       "<table border=\"1\" class=\"dataframe\">\n",
       "  <thead>\n",
       "    <tr style=\"text-align: right;\">\n",
       "      <th></th>\n",
       "      <th>RegionName</th>\n",
       "      <th>Date</th>\n",
       "      <th>MedianSoldPricePerSqft_AllHomes</th>\n",
       "      <th>Year</th>\n",
       "      <th>Month</th>\n",
       "    </tr>\n",
       "  </thead>\n",
       "  <tbody>\n",
       "    <tr>\n",
       "      <th>0</th>\n",
       "      <td>94109</td>\n",
       "      <td>2010-11-01</td>\n",
       "      <td>675.1913</td>\n",
       "      <td>2010</td>\n",
       "      <td>11</td>\n",
       "    </tr>\n",
       "    <tr>\n",
       "      <th>1</th>\n",
       "      <td>94110</td>\n",
       "      <td>2010-11-01</td>\n",
       "      <td>599.6785</td>\n",
       "      <td>2010</td>\n",
       "      <td>11</td>\n",
       "    </tr>\n",
       "    <tr>\n",
       "      <th>2</th>\n",
       "      <td>94122</td>\n",
       "      <td>2010-11-01</td>\n",
       "      <td>495.4432</td>\n",
       "      <td>2010</td>\n",
       "      <td>11</td>\n",
       "    </tr>\n",
       "  </tbody>\n",
       "</table>\n",
       "</div>"
      ],
      "text/plain": [
       "   RegionName       Date  MedianSoldPricePerSqft_AllHomes  Year  Month\n",
       "0       94109 2010-11-01                         675.1913  2010     11\n",
       "1       94110 2010-11-01                         599.6785  2010     11\n",
       "2       94122 2010-11-01                         495.4432  2010     11"
      ]
     },
     "execution_count": 6,
     "metadata": {},
     "output_type": "execute_result"
    }
   ],
   "source": [
    "housing = pd.read_sql_query(\n",
    "    \"\"\"\n",
    "    select RegionName, Date, MedianSoldPricePerSqft_AllHomes \n",
    "    from zillow\n",
    "    where MedianSoldPricePerSqft_AllHomes IS NOT NULL\n",
    "    \"\"\",sf_conn) \n",
    " \n",
    "# Convert Date to real \"Date\" data\n",
    "housing['Date'] = pd.to_datetime(housing[\"Date\"])    \n",
    "\n",
    "# Add year and month column\n",
    "housing['Year'] =  housing['Date'].dt.year\n",
    "housing['Month'] = housing['Date'].dt.month\n",
    "\n",
    "# Remove South SF zipzode: 94080\n",
    "# South SF does not belong SF county!\n",
    "housing =  housing[ housing.RegionName !=  94080]\n",
    "    \n",
    "# Display    \n",
    "housing.head(3)"
   ]
  },
  {
   "cell_type": "code",
   "execution_count": 7,
   "metadata": {},
   "outputs": [
    {
     "data": {
      "text/plain": [
       "array([94109, 94110, 94122, 94112, 94115, 94117, 94121, 94118, 94114,\n",
       "       94107, 94116, 94123, 94131, 94134, 94124, 94127, 94105, 94103,\n",
       "       94133, 94132, 94102, 94158, 94111, 94108, 94104], dtype=int64)"
      ]
     },
     "execution_count": 7,
     "metadata": {},
     "output_type": "execute_result"
    }
   ],
   "source": [
    "SF_City_zipcode = housing.RegionName.unique()\n",
    "SF_City_zipcode"
   ]
  },
  {
   "cell_type": "code",
   "execution_count": 8,
   "metadata": {},
   "outputs": [
    {
     "data": {
      "text/html": [
       "<div>\n",
       "<style scoped>\n",
       "    .dataframe tbody tr th:only-of-type {\n",
       "        vertical-align: middle;\n",
       "    }\n",
       "\n",
       "    .dataframe tbody tr th {\n",
       "        vertical-align: top;\n",
       "    }\n",
       "\n",
       "    .dataframe thead th {\n",
       "        text-align: right;\n",
       "    }\n",
       "</style>\n",
       "<table border=\"1\" class=\"dataframe\">\n",
       "  <thead>\n",
       "    <tr style=\"text-align: right;\">\n",
       "      <th></th>\n",
       "      <th>RegionName</th>\n",
       "      <th>Date</th>\n",
       "      <th>MedianSoldPricePerSqft_AllHomes</th>\n",
       "    </tr>\n",
       "  </thead>\n",
       "  <tbody>\n",
       "    <tr>\n",
       "      <th>0</th>\n",
       "      <td>94124</td>\n",
       "      <td>2016-05-01</td>\n",
       "      <td>583.533173</td>\n",
       "    </tr>\n",
       "    <tr>\n",
       "      <th>1</th>\n",
       "      <td>94132</td>\n",
       "      <td>2016-06-01</td>\n",
       "      <td>639.163277</td>\n",
       "    </tr>\n",
       "    <tr>\n",
       "      <th>2</th>\n",
       "      <td>94134</td>\n",
       "      <td>2016-05-01</td>\n",
       "      <td>650.256100</td>\n",
       "    </tr>\n",
       "    <tr>\n",
       "      <th>3</th>\n",
       "      <td>94112</td>\n",
       "      <td>2016-07-01</td>\n",
       "      <td>755.397000</td>\n",
       "    </tr>\n",
       "    <tr>\n",
       "      <th>4</th>\n",
       "      <td>94108</td>\n",
       "      <td>2004-11-01</td>\n",
       "      <td>769.973545</td>\n",
       "    </tr>\n",
       "    <tr>\n",
       "      <th>5</th>\n",
       "      <td>94122</td>\n",
       "      <td>2016-07-01</td>\n",
       "      <td>798.023500</td>\n",
       "    </tr>\n",
       "    <tr>\n",
       "      <th>6</th>\n",
       "      <td>94121</td>\n",
       "      <td>2016-06-01</td>\n",
       "      <td>826.116300</td>\n",
       "    </tr>\n",
       "    <tr>\n",
       "      <th>7</th>\n",
       "      <td>94116</td>\n",
       "      <td>2016-06-01</td>\n",
       "      <td>840.558200</td>\n",
       "    </tr>\n",
       "    <tr>\n",
       "      <th>8</th>\n",
       "      <td>94111</td>\n",
       "      <td>2007-09-01</td>\n",
       "      <td>901.804100</td>\n",
       "    </tr>\n",
       "    <tr>\n",
       "      <th>9</th>\n",
       "      <td>94127</td>\n",
       "      <td>2016-06-01</td>\n",
       "      <td>904.136200</td>\n",
       "    </tr>\n",
       "    <tr>\n",
       "      <th>10</th>\n",
       "      <td>94103</td>\n",
       "      <td>2016-06-01</td>\n",
       "      <td>985.085000</td>\n",
       "    </tr>\n",
       "    <tr>\n",
       "      <th>11</th>\n",
       "      <td>94118</td>\n",
       "      <td>2016-06-01</td>\n",
       "      <td>991.042700</td>\n",
       "    </tr>\n",
       "    <tr>\n",
       "      <th>12</th>\n",
       "      <td>94109</td>\n",
       "      <td>2016-06-01</td>\n",
       "      <td>1006.101100</td>\n",
       "    </tr>\n",
       "    <tr>\n",
       "      <th>13</th>\n",
       "      <td>94107</td>\n",
       "      <td>2016-07-01</td>\n",
       "      <td>1007.227200</td>\n",
       "    </tr>\n",
       "    <tr>\n",
       "      <th>14</th>\n",
       "      <td>94117</td>\n",
       "      <td>2016-06-01</td>\n",
       "      <td>1017.780800</td>\n",
       "    </tr>\n",
       "    <tr>\n",
       "      <th>15</th>\n",
       "      <td>94115</td>\n",
       "      <td>2016-06-01</td>\n",
       "      <td>1044.638300</td>\n",
       "    </tr>\n",
       "    <tr>\n",
       "      <th>16</th>\n",
       "      <td>94133</td>\n",
       "      <td>2015-12-01</td>\n",
       "      <td>1063.829787</td>\n",
       "    </tr>\n",
       "    <tr>\n",
       "      <th>17</th>\n",
       "      <td>94110</td>\n",
       "      <td>2016-07-01</td>\n",
       "      <td>1087.436500</td>\n",
       "    </tr>\n",
       "    <tr>\n",
       "      <th>18</th>\n",
       "      <td>94114</td>\n",
       "      <td>2016-07-01</td>\n",
       "      <td>1109.307600</td>\n",
       "    </tr>\n",
       "    <tr>\n",
       "      <th>19</th>\n",
       "      <td>94158</td>\n",
       "      <td>2015-04-01</td>\n",
       "      <td>1120.358515</td>\n",
       "    </tr>\n",
       "    <tr>\n",
       "      <th>20</th>\n",
       "      <td>94131</td>\n",
       "      <td>2016-06-01</td>\n",
       "      <td>1123.055600</td>\n",
       "    </tr>\n",
       "    <tr>\n",
       "      <th>21</th>\n",
       "      <td>94105</td>\n",
       "      <td>2016-05-01</td>\n",
       "      <td>1188.261200</td>\n",
       "    </tr>\n",
       "    <tr>\n",
       "      <th>22</th>\n",
       "      <td>94102</td>\n",
       "      <td>2015-06-01</td>\n",
       "      <td>1189.393939</td>\n",
       "    </tr>\n",
       "    <tr>\n",
       "      <th>23</th>\n",
       "      <td>94123</td>\n",
       "      <td>2016-05-01</td>\n",
       "      <td>1276.685200</td>\n",
       "    </tr>\n",
       "    <tr>\n",
       "      <th>24</th>\n",
       "      <td>94104</td>\n",
       "      <td>2007-10-01</td>\n",
       "      <td>1336.128581</td>\n",
       "    </tr>\n",
       "  </tbody>\n",
       "</table>\n",
       "</div>"
      ],
      "text/plain": [
       "    RegionName       Date  MedianSoldPricePerSqft_AllHomes\n",
       "0        94124 2016-05-01                       583.533173\n",
       "1        94132 2016-06-01                       639.163277\n",
       "2        94134 2016-05-01                       650.256100\n",
       "3        94112 2016-07-01                       755.397000\n",
       "4        94108 2004-11-01                       769.973545\n",
       "5        94122 2016-07-01                       798.023500\n",
       "6        94121 2016-06-01                       826.116300\n",
       "7        94116 2016-06-01                       840.558200\n",
       "8        94111 2007-09-01                       901.804100\n",
       "9        94127 2016-06-01                       904.136200\n",
       "10       94103 2016-06-01                       985.085000\n",
       "11       94118 2016-06-01                       991.042700\n",
       "12       94109 2016-06-01                      1006.101100\n",
       "13       94107 2016-07-01                      1007.227200\n",
       "14       94117 2016-06-01                      1017.780800\n",
       "15       94115 2016-06-01                      1044.638300\n",
       "16       94133 2015-12-01                      1063.829787\n",
       "17       94110 2016-07-01                      1087.436500\n",
       "18       94114 2016-07-01                      1109.307600\n",
       "19       94158 2015-04-01                      1120.358515\n",
       "20       94131 2016-06-01                      1123.055600\n",
       "21       94105 2016-05-01                      1188.261200\n",
       "22       94102 2015-06-01                      1189.393939\n",
       "23       94123 2016-05-01                      1276.685200\n",
       "24       94104 2007-10-01                      1336.128581"
      ]
     },
     "execution_count": 8,
     "metadata": {},
     "output_type": "execute_result"
    }
   ],
   "source": [
    "SoldPrice = pd.DataFrame()\n",
    "\n",
    "for zipcode in SF_City_zipcode:\n",
    "    df = housing[housing['RegionName'] == zipcode]          # Select a particular zipcode \n",
    "    df = df [ df['Date'] == df['Date'].max() ]              # Then, select its most recent data\n",
    "    SoldPrice = SoldPrice.append(df, ignore_index=True)\n",
    "    \n",
    "SoldPrice = SoldPrice.sort_values(by='MedianSoldPricePerSqft_AllHomes')\n",
    "SoldPrice[['RegionName','Date', 'MedianSoldPricePerSqft_AllHomes']].reset_index(drop= True)"
   ]
  },
  {
   "cell_type": "markdown",
   "metadata": {},
   "source": [
    "## Geovisualization"
   ]
  },
  {
   "cell_type": "code",
   "execution_count": 9,
   "metadata": {
    "scrolled": false
   },
   "outputs": [
    {
     "data": {
      "text/html": [
       "<div>\n",
       "<style scoped>\n",
       "    .dataframe tbody tr th:only-of-type {\n",
       "        vertical-align: middle;\n",
       "    }\n",
       "\n",
       "    .dataframe tbody tr th {\n",
       "        vertical-align: top;\n",
       "    }\n",
       "\n",
       "    .dataframe thead th {\n",
       "        text-align: right;\n",
       "    }\n",
       "</style>\n",
       "<table border=\"1\" class=\"dataframe\">\n",
       "  <thead>\n",
       "    <tr style=\"text-align: right;\">\n",
       "      <th></th>\n",
       "      <th>ZCTA5CE10</th>\n",
       "      <th>AFFGEOID10</th>\n",
       "      <th>GEOID10</th>\n",
       "      <th>ALAND10</th>\n",
       "      <th>AWATER10</th>\n",
       "      <th>geometry</th>\n",
       "    </tr>\n",
       "  </thead>\n",
       "  <tbody>\n",
       "    <tr>\n",
       "      <th>0</th>\n",
       "      <td>21914</td>\n",
       "      <td>8600000US21914</td>\n",
       "      <td>21914</td>\n",
       "      <td>1924479</td>\n",
       "      <td>477175</td>\n",
       "      <td>POLYGON ((-75.99444799999999 39.567742, -75.99...</td>\n",
       "    </tr>\n",
       "    <tr>\n",
       "      <th>1</th>\n",
       "      <td>01001</td>\n",
       "      <td>8600000US01001</td>\n",
       "      <td>1001</td>\n",
       "      <td>29731610</td>\n",
       "      <td>2118827</td>\n",
       "      <td>POLYGON ((-72.667677 42.045022, -72.657715 42....</td>\n",
       "    </tr>\n",
       "    <tr>\n",
       "      <th>2</th>\n",
       "      <td>34736</td>\n",
       "      <td>8600000US34736</td>\n",
       "      <td>34736</td>\n",
       "      <td>322808220</td>\n",
       "      <td>78588518</td>\n",
       "      <td>(POLYGON ((-81.806163 28.568643, -81.801577999...</td>\n",
       "    </tr>\n",
       "    <tr>\n",
       "      <th>3</th>\n",
       "      <td>46151</td>\n",
       "      <td>8600000US46151</td>\n",
       "      <td>46151</td>\n",
       "      <td>530632048</td>\n",
       "      <td>9804480</td>\n",
       "      <td>(POLYGON ((-86.398562 39.320829, -86.398125999...</td>\n",
       "    </tr>\n",
       "    <tr>\n",
       "      <th>4</th>\n",
       "      <td>48039</td>\n",
       "      <td>8600000US48039</td>\n",
       "      <td>48039</td>\n",
       "      <td>59592687</td>\n",
       "      <td>4845242</td>\n",
       "      <td>POLYGON ((-82.61060000000001 42.724669, -82.51...</td>\n",
       "    </tr>\n",
       "  </tbody>\n",
       "</table>\n",
       "</div>"
      ],
      "text/plain": [
       "  ZCTA5CE10      AFFGEOID10  GEOID10    ALAND10  AWATER10  \\\n",
       "0     21914  8600000US21914    21914    1924479    477175   \n",
       "1     01001  8600000US01001     1001   29731610   2118827   \n",
       "2     34736  8600000US34736    34736  322808220  78588518   \n",
       "3     46151  8600000US46151    46151  530632048   9804480   \n",
       "4     48039  8600000US48039    48039   59592687   4845242   \n",
       "\n",
       "                                            geometry  \n",
       "0  POLYGON ((-75.99444799999999 39.567742, -75.99...  \n",
       "1  POLYGON ((-72.667677 42.045022, -72.657715 42....  \n",
       "2  (POLYGON ((-81.806163 28.568643, -81.801577999...  \n",
       "3  (POLYGON ((-86.398562 39.320829, -86.398125999...  \n",
       "4  POLYGON ((-82.61060000000001 42.724669, -82.51...  "
      ]
     },
     "execution_count": 9,
     "metadata": {},
     "output_type": "execute_result"
    }
   ],
   "source": [
    "# Read the shape file of each UC zipcode\n",
    "Geo_US = gpd.read_file(\"C:/Users/WeiKuang/Documents/GitHub/data/us_zip/cb_2016_us_zcta510_500k.shp\")\n",
    "# Convert GEOID10 ( zipecode) into interger\n",
    "Geo_US[\"GEOID10\"]= Geo_US[\"GEOID10\"].astype(int) \n",
    "# Display\n",
    "Geo_US.head()"
   ]
  },
  {
   "cell_type": "code",
   "execution_count": 10,
   "metadata": {},
   "outputs": [
    {
     "data": {
      "text/html": [
       "<div>\n",
       "<style scoped>\n",
       "    .dataframe tbody tr th:only-of-type {\n",
       "        vertical-align: middle;\n",
       "    }\n",
       "\n",
       "    .dataframe tbody tr th {\n",
       "        vertical-align: top;\n",
       "    }\n",
       "\n",
       "    .dataframe thead th {\n",
       "        text-align: right;\n",
       "    }\n",
       "</style>\n",
       "<table border=\"1\" class=\"dataframe\">\n",
       "  <thead>\n",
       "    <tr style=\"text-align: right;\">\n",
       "      <th></th>\n",
       "      <th>RegionName</th>\n",
       "      <th>MedianSoldPricePerSqft_AllHomes</th>\n",
       "      <th>geometry</th>\n",
       "    </tr>\n",
       "  </thead>\n",
       "  <tbody>\n",
       "    <tr>\n",
       "      <th>0</th>\n",
       "      <td>94124</td>\n",
       "      <td>583.533173</td>\n",
       "      <td>POLYGON ((-122.407752 37.740585, -122.404819 3...</td>\n",
       "    </tr>\n",
       "    <tr>\n",
       "      <th>1</th>\n",
       "      <td>94132</td>\n",
       "      <td>639.163277</td>\n",
       "      <td>POLYGON ((-122.508087717965 37.735197790538, -...</td>\n",
       "    </tr>\n",
       "    <tr>\n",
       "      <th>2</th>\n",
       "      <td>94134</td>\n",
       "      <td>650.256100</td>\n",
       "      <td>POLYGON ((-122.429927 37.711574, -122.427454 3...</td>\n",
       "    </tr>\n",
       "  </tbody>\n",
       "</table>\n",
       "</div>"
      ],
      "text/plain": [
       "   RegionName  MedianSoldPricePerSqft_AllHomes  \\\n",
       "0       94124                       583.533173   \n",
       "1       94132                       639.163277   \n",
       "2       94134                       650.256100   \n",
       "\n",
       "                                            geometry  \n",
       "0  POLYGON ((-122.407752 37.740585, -122.404819 3...  \n",
       "1  POLYGON ((-122.508087717965 37.735197790538, -...  \n",
       "2  POLYGON ((-122.429927 37.711574, -122.427454 3...  "
      ]
     },
     "execution_count": 10,
     "metadata": {},
     "output_type": "execute_result"
    }
   ],
   "source": [
    "# Joint \n",
    "merge_df = SoldPrice.merge(Geo_US, left_on='RegionName', right_on='GEOID10', how='inner' )\n",
    "\n",
    "# Conver merge_df back to GeoDataFrame for Visualization\n",
    "Geo_df = gpd.GeoDataFrame(merge_df)\n",
    "Geo_df[['RegionName', 'MedianSoldPricePerSqft_AllHomes', 'geometry']].head(3)"
   ]
  },
  {
   "cell_type": "markdown",
   "metadata": {},
   "source": [
    "#### Make Choropleth map\n",
    "http://geopandas.org/mapping.html"
   ]
  },
  {
   "cell_type": "code",
   "execution_count": 33,
   "metadata": {},
   "outputs": [
    {
     "data": {
      "image/png": "[encoded data removed]",
      "text/plain": [
       "<matplotlib.figure.Figure at 0x1c1ccf93748>"
      ]
     },
     "metadata": {},
     "output_type": "display_data"
    }
   ],
   "source": [
    "# Visualization\n",
    "\n",
    "# Size\n",
    "fig, ax = plt.subplots(1, 1, figsize = (13, 13))\n",
    "#ax = Geo_df.plot(column = \"MedianSoldPricePerSqft_AllHomes\", cmap = \"OrRd\", figsize = (14, 14))\n",
    "\n",
    "# Set x and y limits to adjust the \"zoom\".\n",
    "ax.set_xlim([-122.52, -122.35])\n",
    "ax.set_ylim([37.71, 37.82])\n",
    "\n",
    "# Given a row, this function gets a point and plots the sting at that point.\n",
    "def add_label(row):\n",
    "    coords = row.geometry.representative_point().coords[0]\n",
    "    ax.annotate(row.RegionName, xy = coords, horizontalalignment = \"center\", fontsize=10, fontweight=\"bold\")\n",
    "    \n",
    "# Call add_label() on each row.\n",
    "Geo_df.apply(add_label, axis = 1)\n",
    "\n",
    "\n",
    "#Adjust the legend size\n",
    "from mpl_toolkits.axes_grid1 import make_axes_locatable\n",
    "divider = make_axes_locatable(ax)\n",
    "cax = divider.append_axes(\"right\", size=\"5%\", pad=0.1)\n",
    "\n",
    "Geo_df.plot(column = 'MedianSoldPricePerSqft_AllHomes', ax = ax, legend = True, cax = cax, cmap = \"OrRd\")\n",
    "\n",
    "\n",
    "# labeling\n",
    "plt.title(\"Choropleth Map of Sold Price in SF City\", fontsize=30, fontweight=\"bold\", loc='right')\n",
    "plt.xlabel(\"\", fontsize=12)\n",
    "plt.ylabel(\"\", fontsize=12)\n",
    "plt.xticks(fontsize=12)\n",
    "plt.yticks(fontsize=12)\n",
    "\n",
    "\n",
    "plt.show() \n",
    "# Don't print out the result from the .apply()."
   ]
  },
  {
   "cell_type": "markdown",
   "metadata": {},
   "source": [
    "####  Report: Which parts of the city are the most and least expensive?\n",
    "1. The color of each shape is based on the value of an associated median sold price per square feet. The darker the color is, the more expensive the area is. The most recent median sold price of that area is chosen to be analyzed. The range of the median sold price is from 1336.12 to 583.53 dollars. \n",
    "\n",
    "2. The zip code - 94104 is the most expensive area, which is the financial district of San Francisco. Its median sold price per square feet is 1336.12 dollars, according to the most recent record on 2007-10-01.\n",
    "\n",
    "3. In contrast, the zip code -94124, including Bayview, Hunters Point, India Basin, Islais Creek, and Silver Terrace district is the least expensive area. Its median sold price per square feet is 583.53 dollars, according to the most recent record on 2016-05-01.\n",
    "\n",
    "4. The choropleth map shows that northeast areas tend to be more expensive than south areas in San Francisco.\n"
   ]
  },
  {
   "cell_type": "markdown",
   "metadata": {},
   "source": [
    "## 2.2  Which parts of the city are the most dangerous (and at what times)?"
   ]
  },
  {
   "cell_type": "code",
   "execution_count": 12,
   "metadata": {
    "scrolled": true
   },
   "outputs": [
    {
     "data": {
      "text/html": [
       "<div>\n",
       "<style scoped>\n",
       "    .dataframe tbody tr th:only-of-type {\n",
       "        vertical-align: middle;\n",
       "    }\n",
       "\n",
       "    .dataframe tbody tr th {\n",
       "        vertical-align: top;\n",
       "    }\n",
       "\n",
       "    .dataframe thead th {\n",
       "        text-align: right;\n",
       "    }\n",
       "</style>\n",
       "<table border=\"1\" class=\"dataframe\">\n",
       "  <thead>\n",
       "    <tr style=\"text-align: right;\">\n",
       "      <th></th>\n",
       "      <th>IncidntNum</th>\n",
       "      <th>Category</th>\n",
       "      <th>Descript</th>\n",
       "      <th>DayOfWeek</th>\n",
       "      <th>Datetime</th>\n",
       "      <th>PdDistrict</th>\n",
       "      <th>Resolution</th>\n",
       "      <th>Address</th>\n",
       "      <th>Lon</th>\n",
       "      <th>Lat</th>\n",
       "    </tr>\n",
       "  </thead>\n",
       "  <tbody>\n",
       "    <tr>\n",
       "      <th>0</th>\n",
       "      <td>150060275</td>\n",
       "      <td>NON-CRIMINAL</td>\n",
       "      <td>LOST PROPERTY</td>\n",
       "      <td>Monday</td>\n",
       "      <td>2015-01-19 14:00:00</td>\n",
       "      <td>MISSION</td>\n",
       "      <td>NONE</td>\n",
       "      <td>18TH ST / VALENCIA ST</td>\n",
       "      <td>-122.421582</td>\n",
       "      <td>37.761701</td>\n",
       "    </tr>\n",
       "    <tr>\n",
       "      <th>1</th>\n",
       "      <td>150098210</td>\n",
       "      <td>ROBBERY</td>\n",
       "      <td>ROBBERY, BODILY FORCE</td>\n",
       "      <td>Sunday</td>\n",
       "      <td>2015-02-01 15:45:00</td>\n",
       "      <td>TENDERLOIN</td>\n",
       "      <td>NONE</td>\n",
       "      <td>300 Block of LEAVENWORTH ST</td>\n",
       "      <td>-122.414406</td>\n",
       "      <td>37.784191</td>\n",
       "    </tr>\n",
       "    <tr>\n",
       "      <th>2</th>\n",
       "      <td>150098210</td>\n",
       "      <td>ASSAULT</td>\n",
       "      <td>AGGRAVATED ASSAULT WITH BODILY FORCE</td>\n",
       "      <td>Sunday</td>\n",
       "      <td>2015-02-01 15:45:00</td>\n",
       "      <td>TENDERLOIN</td>\n",
       "      <td>NONE</td>\n",
       "      <td>300 Block of LEAVENWORTH ST</td>\n",
       "      <td>-122.414406</td>\n",
       "      <td>37.784191</td>\n",
       "    </tr>\n",
       "  </tbody>\n",
       "</table>\n",
       "</div>"
      ],
      "text/plain": [
       "   IncidntNum      Category                              Descript DayOfWeek  \\\n",
       "0   150060275  NON-CRIMINAL                         LOST PROPERTY    Monday   \n",
       "1   150098210       ROBBERY                 ROBBERY, BODILY FORCE    Sunday   \n",
       "2   150098210       ASSAULT  AGGRAVATED ASSAULT WITH BODILY FORCE    Sunday   \n",
       "\n",
       "             Datetime  PdDistrict Resolution                      Address  \\\n",
       "0 2015-01-19 14:00:00     MISSION       NONE        18TH ST / VALENCIA ST   \n",
       "1 2015-02-01 15:45:00  TENDERLOIN       NONE  300 Block of LEAVENWORTH ST   \n",
       "2 2015-02-01 15:45:00  TENDERLOIN       NONE  300 Block of LEAVENWORTH ST   \n",
       "\n",
       "          Lon        Lat  \n",
       "0 -122.421582  37.761701  \n",
       "1 -122.414406  37.784191  \n",
       "2 -122.414406  37.784191  "
      ]
     },
     "execution_count": 12,
     "metadata": {},
     "output_type": "execute_result"
    }
   ],
   "source": [
    "crime = pd.read_sql_query(\"\"\"select * from crime\"\"\",sf_conn)\n",
    "crime['Datetime'] = pd.to_datetime(crime['Datetime'])\n",
    "crime.head(3)"
   ]
  },
  {
   "cell_type": "code",
   "execution_count": 13,
   "metadata": {},
   "outputs": [
    {
     "data": {
      "text/html": [
       "<div>\n",
       "<style scoped>\n",
       "    .dataframe tbody tr th:only-of-type {\n",
       "        vertical-align: middle;\n",
       "    }\n",
       "\n",
       "    .dataframe tbody tr th {\n",
       "        vertical-align: top;\n",
       "    }\n",
       "\n",
       "    .dataframe thead th {\n",
       "        text-align: right;\n",
       "    }\n",
       "</style>\n",
       "<table border=\"1\" class=\"dataframe\">\n",
       "  <thead>\n",
       "    <tr style=\"text-align: right;\">\n",
       "      <th></th>\n",
       "      <th>Crime_Count</th>\n",
       "      <th>Area</th>\n",
       "    </tr>\n",
       "  </thead>\n",
       "  <tbody>\n",
       "    <tr>\n",
       "      <th>7</th>\n",
       "      <td>196178</td>\n",
       "      <td>SOUTHERN</td>\n",
       "    </tr>\n",
       "    <tr>\n",
       "      <th>3</th>\n",
       "      <td>136216</td>\n",
       "      <td>MISSION</td>\n",
       "    </tr>\n",
       "    <tr>\n",
       "      <th>4</th>\n",
       "      <td>124365</td>\n",
       "      <td>NORTHERN</td>\n",
       "    </tr>\n",
       "    <tr>\n",
       "      <th>1</th>\n",
       "      <td>109242</td>\n",
       "      <td>CENTRAL</td>\n",
       "    </tr>\n",
       "    <tr>\n",
       "      <th>0</th>\n",
       "      <td>101655</td>\n",
       "      <td>BAYVIEW</td>\n",
       "    </tr>\n",
       "    <tr>\n",
       "      <th>2</th>\n",
       "      <td>89044</td>\n",
       "      <td>INGLESIDE</td>\n",
       "    </tr>\n",
       "    <tr>\n",
       "      <th>9</th>\n",
       "      <td>84009</td>\n",
       "      <td>TENDERLOIN</td>\n",
       "    </tr>\n",
       "    <tr>\n",
       "      <th>8</th>\n",
       "      <td>75459</td>\n",
       "      <td>TARAVAL</td>\n",
       "    </tr>\n",
       "    <tr>\n",
       "      <th>5</th>\n",
       "      <td>60974</td>\n",
       "      <td>PARK</td>\n",
       "    </tr>\n",
       "    <tr>\n",
       "      <th>6</th>\n",
       "      <td>56258</td>\n",
       "      <td>RICHMOND</td>\n",
       "    </tr>\n",
       "  </tbody>\n",
       "</table>\n",
       "</div>"
      ],
      "text/plain": [
       "   Crime_Count        Area\n",
       "7       196178    SOUTHERN\n",
       "3       136216     MISSION\n",
       "4       124365    NORTHERN\n",
       "1       109242     CENTRAL\n",
       "0       101655     BAYVIEW\n",
       "2        89044   INGLESIDE\n",
       "9        84009  TENDERLOIN\n",
       "8        75459     TARAVAL\n",
       "5        60974        PARK\n",
       "6        56258    RICHMOND"
      ]
     },
     "execution_count": 13,
     "metadata": {},
     "output_type": "execute_result"
    }
   ],
   "source": [
    "CrimeCount = crime.groupby(['PdDistrict'])['IncidntNum'].count() \n",
    "CrimeCount = pd.DataFrame ( CrimeCount)\n",
    "CrimeCount['PdDistrict'] = CrimeCount.index\n",
    "CrimeCount.columns = ['Crime_Count', 'Area']\n",
    "CrimeCount.reset_index( drop = True, inplace = True)\n",
    "CrimeCount.sort_values(by= ['Crime_Count'], ascending=False, inplace = True)\n",
    "CrimeCount"
   ]
  },
  {
   "cell_type": "markdown",
   "metadata": {
    "collapsed": true
   },
   "source": [
    "#### Note: SOUTHERN area has highest crime number."
   ]
  },
  {
   "cell_type": "markdown",
   "metadata": {},
   "source": [
    "#### Visualization"
   ]
  },
  {
   "cell_type": "code",
   "execution_count": null,
   "metadata": {},
   "outputs": [],
   "source": [
    "# Size\n",
    "f, ax1 = plt.subplots(1, 1, figsize=(8, 6), sharex=True)\n",
    "\n",
    "# Color\n",
    "pal =sns.color_palette(\"Reds_d\", n_colors=10)\n",
    "\n",
    "# Seaborn\n",
    "sns.barplot( x='Area' , y='Crime_Count', data = CrimeCount, palette=pal,ax=ax1)\n",
    "\n",
    "# Label\n",
    "plt.title('Crime Count by Area',fontsize=20 )\n",
    "plt.xticks(fontsize=10 , fontweight=\"bold\")\n",
    "plt.yticks(fontsize=15 , fontweight=\"bold\")\n",
    "plt.xlabel(\"Area Name\", fontsize=20, fontweight=\"bold\")\n",
    "plt.ylabel(\"Crime Count \", fontsize=20, fontweight=\"bold\")\n",
    "plt.xticks(rotation=90, fontsize=15)\n",
    "\n",
    "plt.show()"
   ]
  },
  {
   "cell_type": "markdown",
   "metadata": {},
   "source": [
    "#### To dig more into crime time at SOUTHERN area"
   ]
  },
  {
   "cell_type": "code",
   "execution_count": null,
   "metadata": {},
   "outputs": [],
   "source": [
    "# subset the SOUTHERN\n",
    "SOUTHERN = crime[ crime['PdDistrict'] == 'SOUTHERN' ]"
   ]
  },
  {
   "cell_type": "code",
   "execution_count": null,
   "metadata": {},
   "outputs": [],
   "source": [
    "# Most dangerous time at SOUTHERN\n",
    "CrimeTime = SOUTHERN.groupby(  [SOUTHERN['Datetime'].map(lambda t: t.hour)] ).count()\n",
    "CrimeTime.insert(0,'Hour',CrimeTime.index)\n",
    "CrimeTime= CrimeTime[['Hour','IncidntNum']].reset_index(drop= True)\n",
    "CrimeTime.columns=['Hour','CrimeCount']\n",
    "# CrimeTime"
   ]
  },
  {
   "cell_type": "markdown",
   "metadata": {},
   "source": [
    "#### Visaulization"
   ]
  },
  {
   "cell_type": "code",
   "execution_count": null,
   "metadata": {},
   "outputs": [],
   "source": [
    "# Size\n",
    "f, ax1 = plt.subplots(1, 1, figsize=(15, 6), sharex=True)\n",
    "\n",
    "# Color\n",
    "pal =sns.color_palette(\"GnBu_d\", n_colors=24)\n",
    "\n",
    "# Seaborn\n",
    "sns.barplot( x='Hour' , y='CrimeCount', data = CrimeTime, palette=\"GnBu_d\",ax=ax1)\n",
    "\n",
    "# Label\n",
    "plt.title('Crime Count by Area',fontsize=20 )\n",
    "plt.xticks(fontsize=15 , fontweight=\"bold\")\n",
    "plt.yticks(fontsize=15 , fontweight=\"bold\")\n",
    "plt.xlabel(\"Hours\", fontsize=20, fontweight=\"bold\")\n",
    "plt.ylabel(\"Crime Count \", fontsize=20, fontweight=\"bold\")\n",
    "#plt.xticks(rotation=90, fontsize=15)\n",
    "\n",
    "plt.show()"
   ]
  },
  {
   "cell_type": "markdown",
   "metadata": {},
   "source": [
    "#### The most common types of the crime happens in SOUTHERN during the noon , and evening (17pm and 19pm ) and midnihjt."
   ]
  },
  {
   "cell_type": "code",
   "execution_count": null,
   "metadata": {},
   "outputs": [],
   "source": [
    "Crime_type_time = pd.read_sql(\n",
    "    \"\"\"\n",
    "    Select Category,\n",
    "           Datetime, \n",
    "           PdDistrict,\n",
    "           count(Category) as Count\n",
    "              \n",
    "    From crime\n",
    "    WHERE PdDistrict = 'SOUTHERN' \n",
    "          and ( strftime('%H',Datetime) in ('12', '17', '18', '19', '0') )\n",
    "          and Category != 'NON-CRIMINAL' \n",
    "          and Category != 'OTHER OFFENSES'\n",
    "    group by Category\n",
    "    order by Count DESC\n",
    "    \"\"\",sf_conn)\n",
    "\n",
    "Crime_type_time.head()"
   ]
  },
  {
   "cell_type": "markdown",
   "metadata": {},
   "source": [
    "#### Report: 1.2.2 Which parts of the city are the most dangerous (and at what times)?\n",
    "1. Based on the crime data from Jan. 2015 to Aug. 2016, SOUTHERN has the highest number of crime as 196178. Areas with the second and thrid highest number of crimes are MISSION and NORTHERN, respectively, as shown in the histogram of \"Crime Count v.s. Area\". \n",
    "\n",
    "2. In the SOUTHERN area, most of the crime happens during 18:00 to 19:00. Also, the number of crime peaks at 12:00, as shown in the histogram of \"Crime Count v.s. The hour in the Southern area\". \n",
    "\n",
    "3. During the most dangerous time (noon and evening from 17 to 19 pm), the top three common categories of crime are\"LARCENY/THEFT\", \"ASSAULT\", and \"WARRANTS\".\n",
    "\n",
    "4. Finally, this brief report suggests that residents who live in the southern area need to be vigilant for LARCENY/THEFT during the most dangerous times, such as noon and evening(17-19 pm)."
   ]
  },
  {
   "cell_type": "markdown",
   "metadata": {},
   "source": [
    "<pre>\n",
    "\n",
    "</pre>"
   ]
  },
  {
   "cell_type": "markdown",
   "metadata": {},
   "source": [
    "## 2.3 Are noise complaints and mobile food vendors related?"
   ]
  },
  {
   "cell_type": "code",
   "execution_count": null,
   "metadata": {},
   "outputs": [],
   "source": [
    "noise = pd.read_sql_query(\"\"\"select * from noise\"\"\",sf_conn)\n",
    "noise.head()\n",
    "#noise.shape"
   ]
  },
  {
   "cell_type": "code",
   "execution_count": null,
   "metadata": {},
   "outputs": [],
   "source": [
    "# Chekc how many noise cause by mobile_food_facility\n",
    "noise_type = pd.read_sql(\"\"\"select Type, Datetime, count(Type) as count \n",
    "                            from noise\n",
    "                            where Type = 'mobile_food_facility'\n",
    "                            group by Type\n",
    "                         \"\"\",sf_conn)\n",
    "\n",
    "noise_type"
   ]
  },
  {
   "cell_type": "code",
   "execution_count": null,
   "metadata": {},
   "outputs": [],
   "source": [
    "# When are noise compliants the most\n",
    "noise_time = pd.read_sql(\"\"\"select CaseID, Datetime , \n",
    "                            strftime(\"%H\",Datetime) as Hour,\n",
    "                            count(CaseID) as count\n",
    "                            \n",
    "                            from noise\n",
    "                            group by Hour \n",
    "                            order by count DESC\n",
    "                            \"\"\",sf_conn)\n",
    "# noise_time.head(3)"
   ]
  },
  {
   "cell_type": "code",
   "execution_count": null,
   "metadata": {},
   "outputs": [],
   "source": [
    "#plot\n",
    "f, ax1 = plt.subplots(1, 1, figsize=(15, 6), sharex=True)\n",
    "\n",
    "#sns.barplot( Rank.loc[:,'food'] , Rank.loc[:,'Best_Combination'], palette=\"GnBu_d\")\n",
    "sns.barplot( x='Hour' , y='count', data = noise_time, palette=\"Greens_d\",ax=ax1)\n",
    "\n",
    "\n",
    "# Label\n",
    "plt.title('Noise by Hour',fontsize=20 ,fontweight ='bold')\n",
    "plt.xticks(fontsize=15 ,fontweight ='bold')\n",
    "plt.yticks(fontsize=15,fontweight ='bold')\n",
    "plt.xlabel(\"Hour\", fontsize=20, fontweight ='bold')\n",
    "plt.ylabel(\"Noise Count \", fontsize=20, fontweight ='bold')\n",
    "\n",
    "plt.show()"
   ]
  },
  {
   "cell_type": "markdown",
   "metadata": {},
   "source": [
    " #### Geovisualization"
   ]
  },
  {
   "cell_type": "code",
   "execution_count": null,
   "metadata": {},
   "outputs": [],
   "source": [
    "# Convert Noise to a GeoPanda DataFrame\n",
    "Inglat = [ geom.Point (x) for x in zip (noise.Lon, noise.Lat)]\n",
    "Noise_Geo = gpd.GeoDataFrame(noise, geometry = Inglat)\n",
    "\n",
    "# Subset Noise from mobile_food_facility only\n",
    "MobilFood_Noise_Geo = Noise_Geo.loc [Noise_Geo.Type == 'mobile_food_facility']"
   ]
  },
  {
   "cell_type": "code",
   "execution_count": null,
   "metadata": {},
   "outputs": [],
   "source": [
    "# Convert food locaitons to a GeoPanda DataFrame\n",
    "FoodLoc = pd.read_sql_query(\"\"\"select * from mobile_food_locations\"\"\",sf_conn)\n",
    "Inglat = [ geom.Point (x) for x in zip (FoodLoc.Longitude, FoodLoc.Latitude)]\n",
    "Food_Loc_Geo = gpd.GeoDataFrame(FoodLoc, geometry = Inglat)"
   ]
  },
  {
   "cell_type": "code",
   "execution_count": null,
   "metadata": {},
   "outputs": [],
   "source": [
    "# SF shape\n",
    "SF_shape = gpd.read_file(\"C:/Users/WeiKuang/Documents/GitHub/data/SF_zip/geo_export_b8d0ed93-730c-44ae-8d05-66a86114a164.shp\")"
   ]
  },
  {
   "cell_type": "code",
   "execution_count": null,
   "metadata": {},
   "outputs": [],
   "source": [
    "# Plotting\n",
    "\n",
    "# Layer of Fundation\n",
    "ax = SF_shape.plot(color =\"white\" , edgecolor =\"gray\" , figsize = (10, 10))\n",
    "\n",
    "# Additional Layers\n",
    "Noise_Geo.plot(ax= ax, color= \"black\", markersize=10, label=\"Noise complaints\")\n",
    "MobilFood_Noise_Geo.plot(ax = ax, color ='red', markersize=35, label=\"Noise of mobile food facility\" )\n",
    "Food_Loc_Geo.plot(ax= ax, color= 'blue', markersize=10, label=\"Food vendors\")\n",
    "\n",
    "# label and legend\n",
    "plt.legend(loc=2, fontsize = 'x-large')\n",
    "plt.title('Location of Noise Complaints and Food Vendor',fontsize=20 ,fontweight ='bold')\n",
    "\n",
    "# Size setting\n",
    "ax.set_xlim([-122.52, -122.35])\n",
    "ax.set_ylim([37.71, 37.84])"
   ]
  },
  {
   "cell_type": "markdown",
   "metadata": {},
   "source": [
    "#### Ans to \"Are noise complaints and mobile food vendors related?\"\n",
    "1. The black dots are noise complaints. Yellow dots are noise complaints caused by mobile food facility. Green dots are the location of all kinds of food vendors. \n",
    "2. Food vendors mostly located on business area and main streets, and noise complaints seem to locate on non-business areas. \n",
    "3. Second, a small number of noise complaints are caused by \"mobile_food_facility\". There are only seven noise complaints about mobile_food_facility, comparing to 4795 ( the total noise complaints).\n",
    "4. Third, my investigation in times of noise shows that most of the noise complaints occurred between 22 and 23 pm in which fewer food vendors operate their business. \n",
    "5. Thus, the relationship between noise complaints and food vendors seems to be very weak."
   ]
  },
  {
   "cell_type": "markdown",
   "metadata": {},
   "source": [
    "<pre>\n",
    "\n",
    "</pre>"
   ]
  },
  {
   "cell_type": "markdown",
   "metadata": {},
   "source": [
    "## 2.4 My curiosity: What are the times in which most food vendors are avaliable?"
   ]
  },
  {
   "cell_type": "code",
   "execution_count": null,
   "metadata": {},
   "outputs": [],
   "source": [
    "# Get the approved permit\n",
    "permits = pd.read_sql(\"\"\" select * from mobile_food_permits\n",
    "                          where Status = 'APPROVED' \"\"\",sf_conn)"
   ]
  },
  {
   "cell_type": "code",
   "execution_count": null,
   "metadata": {},
   "outputs": [],
   "source": [
    "# Get the list of approved Food Truck\n",
    "Truck_permits = pd.read_sql(\"\"\" select * from mobile_food_permits\n",
    "                                where Status = 'APPROVED' and FacilityType = 'Truck' \"\"\",sf_conn)\n",
    "Truck_permits = Truck_permits.permit\n",
    "Truck_permits = Truck_permits.unique().tolist()"
   ]
  },
  {
   "cell_type": "code",
   "execution_count": null,
   "metadata": {},
   "outputs": [],
   "source": [
    "# Subset\n",
    "schedule=pd.read_sql_query(\"select * FROM mobile_food_schedule\",sf_conn)\n",
    "Truck_hour = schedule[ schedule.permit.isin(Truck_permits) ] "
   ]
  },
  {
   "cell_type": "code",
   "execution_count": null,
   "metadata": {},
   "outputs": [],
   "source": [
    "Truck_hour = Truck_hour.reset_index(drop= True)\n",
    "#Truck_hour.head()\n",
    "Truck_hour.shape"
   ]
  },
  {
   "cell_type": "code",
   "execution_count": null,
   "metadata": {},
   "outputs": [],
   "source": [
    "# Creat a list reflect the business hours for each food truck\n",
    "H=[]\n",
    "n,p = Truck_hour.shape\n",
    "\n",
    "for i in range(n) :\n",
    "    if  Truck_hour['StartHour'][i] < Truck_hour['EndHour'][i]:\n",
    "        H= H + [np.linspace(Truck_hour['StartHour'][i], Truck_hour['EndHour'][i], Truck_hour['EndHour'][i] - Truck_hour['StartHour'][i]+1)]\n",
    "    else :\n",
    "        T1 = np.linspace(Truck_hour['StartHour'][i], 23, 23- Truck_hour['StartHour'][i]+1)\n",
    "        T2 = np.linspace(0,Truck_hour['EndHour'][i], Truck_hour['EndHour'][i]+1)\n",
    "        T3 = np.concatenate((T1, T2), axis=0)\n",
    "        H= H + [T3] \n",
    "        \n",
    "H[0:3]"
   ]
  },
  {
   "cell_type": "code",
   "execution_count": null,
   "metadata": {},
   "outputs": [],
   "source": [
    "# Creat an initial Dataframe\n",
    "d= {'0_Hour': [x for x in range(24)], '1_Count': [x for x in range(24)]}\n",
    "DF= pd.DataFrame(data=d)"
   ]
  },
  {
   "cell_type": "code",
   "execution_count": null,
   "metadata": {},
   "outputs": [],
   "source": [
    "# For loop\n",
    "n,p = Truck_hour.shape\n",
    "for h in range(0,24):         # h iterates through 0 to 23 hr\n",
    "    count=0\n",
    "    for i in range(n):        # check if \"h\" in the business hour\n",
    "        if h in H[i]:\n",
    "            count = count+1\n",
    "            \n",
    "        DF.iloc[h,0] = h      # assign value to hour\n",
    "        DF.iloc[h,1] = count  # assign value to count"
   ]
  },
  {
   "cell_type": "code",
   "execution_count": null,
   "metadata": {},
   "outputs": [],
   "source": [
    "#plot\n",
    "f, ax1 = plt.subplots(1, 1, figsize=(14, 6), sharex=True)\n",
    "\n",
    "sns.barplot( x='0_Hour' , y='1_Count', data = DF, palette=\"GnBu_d\",ax=ax1)\n",
    "\n",
    "\n",
    "# Label\n",
    "plt.title('Count of Food Truck vs Business Hour in San Francisco',fontsize=20, fontweight ='bold')\n",
    "plt.xticks(fontsize=15, fontweight ='bold')\n",
    "plt.yticks(fontsize=15, fontweight ='bold')\n",
    "plt.xlabel(\"Hour\", fontsize=15, fontweight ='bold')\n",
    "plt.ylabel(\" Count of Food Trucks \", fontsize=15, fontweight ='bold')\n",
    "\n",
    "plt.show()"
   ]
  },
  {
   "cell_type": "markdown",
   "metadata": {},
   "source": [
    "#### ANS to \"What are the times in which most food vendors are avaliable?\"\n",
    "1. First, the approved food trucks were selected from the database. \n",
    "2. Second, based on StartHour and EndHour, an array of the business hour was created. For example, Business hour 9-13 is denoted as [9,10,11,12,13]\n",
    "3. Then, I use for loop to count the number of hours appear in the business hours.\n",
    "4. The result reveals that most food trucks are available during 10 and 11 am in general. Thus, this period might be the best time to find food trucks."
   ]
  },
  {
   "cell_type": "markdown",
   "metadata": {},
   "source": [
    "<pre>\n",
    "\n",
    "</pre>"
   ]
  },
  {
   "cell_type": "markdown",
   "metadata": {},
   "source": [
    "## 2.5 My curiosity:  Are Elementary schools in the safe area (that is, the area has lower crime count) ?"
   ]
  },
  {
   "cell_type": "code",
   "execution_count": null,
   "metadata": {},
   "outputs": [],
   "source": [
    "# Convert School to a GeoPanda Data Frame\n",
    "schools = pd.read_sql_query(\"\"\"select * from schools\"\"\",sf_conn)\n",
    "Inglat_sch = [ geom.Point (x) for x in zip (schools.Lon, schools.Lat)]\n",
    "Schools_Geo = gpd.GeoDataFrame(schools, geometry = Inglat_sch)"
   ]
  },
  {
   "cell_type": "code",
   "execution_count": null,
   "metadata": {},
   "outputs": [],
   "source": [
    "# Subset Elementary school\n",
    "Ele_Sch_Geo = Schools_Geo [Schools_Geo.Name.str.contains('Elementary') ]"
   ]
  },
  {
   "cell_type": "code",
   "execution_count": null,
   "metadata": {},
   "outputs": [],
   "source": [
    "#Convert Crime to a GeoPanda Frame\n",
    "Inglat_crime = [ geom.Point (x) for x in zip (crime.Lon, crime.Lat)]\n",
    "Crime_Geo = gpd.GeoDataFrame(crime, geometry = Inglat_crime)"
   ]
  },
  {
   "cell_type": "code",
   "execution_count": null,
   "metadata": {},
   "outputs": [],
   "source": [
    "# Select the crime related to the safety of children \n",
    "crime_time = pd.read_sql(\"\"\"select * from crime\n",
    "                            WHERE strftime('%H',Datetime) between '10' and '18'\n",
    "                            and Category = 'SEX OFFENSES, FORCIBLE'\n",
    "                            or Category = 'SEX OFFENSES, NON FORCIBLE'\n",
    "                            or Category = 'KIDNAPPING'\n",
    "                            or Category = 'WEAPON LAWS'\n",
    "                        \"\"\",sf_conn)"
   ]
  },
  {
   "cell_type": "code",
   "execution_count": null,
   "metadata": {},
   "outputs": [],
   "source": [
    "# Convert Crime to a GeoPanda Frame\n",
    "Inglat_crime_time = [ geom.Point (x) for x in zip (crime_time.Lon, crime_time.Lat)]\n",
    "Crime_Time_Geo = gpd.GeoDataFrame(crime_time, geometry = Inglat_crime_time)"
   ]
  },
  {
   "cell_type": "code",
   "execution_count": null,
   "metadata": {},
   "outputs": [],
   "source": [
    "# Subset the type of crime\n",
    "Sex_Crime = Crime_Time_Geo[ Crime_Time_Geo.Category.isin( ['SEX OFFENSES, FORCIBLE','SEX OFFENSES, NON FORCIBLE' ] ) ]\n",
    "KIDNAPPING_Crime = Crime_Time_Geo[ Crime_Time_Geo.Category.isin( ['KIDNAPPING'] ) ]\n",
    "WEAPON_LAWS_Crime = Crime_Time_Geo[ Crime_Time_Geo.Category.isin( ['WEAPON LAWS'] ) ]"
   ]
  },
  {
   "cell_type": "code",
   "execution_count": null,
   "metadata": {},
   "outputs": [],
   "source": [
    "# Plot\n",
    "# Back ground\n",
    "ax = SF_shape.plot(color =\"gray\" , edgecolor =\"white\" , figsize = (15, 15))\n",
    "\n",
    "# Foundation layer\n",
    "Sex_Crime.plot(ax= ax, color= 'pink', markersize=10, label= 'Sex Crime', alpha=1)\n",
    "# Additional layers\n",
    "Ele_Sch_Geo.plot(ax= ax, color= \"blue\", markersize=30, label = 'Elementary School')\n",
    "WEAPON_LAWS_Crime.plot(ax= ax, color= 'yellow', markersize=10, label= 'WEAPON_LAWS Crime')\n",
    "KIDNAPPING_Crime.plot(ax= ax, color= 'red', markersize=10, label= 'KIDNAPPING Crime', alpha=1)\n",
    "\n",
    "# Label\n",
    "plt.title('Location of Crime Complaints and Elementary schools',fontsize=20 ,fontweight ='bold')\n",
    "plt.legend(loc=2, fontsize = 'x-large')\n",
    "ax.set_xlim([-122.52, -122.35])\n",
    "ax.set_ylim([37.71, 37.84])"
   ]
  },
  {
   "cell_type": "code",
   "execution_count": null,
   "metadata": {},
   "outputs": [],
   "source": [
    "ax = SF_shape.plot(color =\"lightgray\" , edgecolor =\"black\" , figsize = (10, 10))\n",
    "Sex_Crime.plot(ax= ax, color= 'pink', markersize=10, label= 'Sex Crime')\n",
    "Ele_Sch_Geo.plot(ax= ax, color= \"blue\", markersize=30, label = 'Elementary School')\n",
    "\n",
    "\n",
    "# Label\n",
    "plt.title('Location of Sex Crime and Elementary schools',fontsize=20 ,fontweight ='bold')\n",
    "plt.legend(loc=2, fontsize = 'x-large')\n",
    "ax.set_xlim([-122.52, -122.35])\n",
    "ax.set_ylim([37.71, 37.84])"
   ]
  },
  {
   "cell_type": "code",
   "execution_count": null,
   "metadata": {},
   "outputs": [],
   "source": [
    "ax = SF_shape.plot(color =\"lightgray\" , edgecolor =\"black\" , figsize = (10, 10))\n",
    "KIDNAPPING_Crime.plot(ax= ax, color= 'red', markersize=10, label= 'KIDNAPPING Crime', alpha=1)\n",
    "Ele_Sch_Geo.plot(ax= ax, color= \"blue\", markersize=30, label = 'Elementary School')\n",
    "\n",
    "\n",
    "# Label\n",
    "plt.title('Location of KIDNAPPING and Elementary schools',fontsize=20 ,fontweight ='bold')\n",
    "plt.legend(loc=2, fontsize = 'x-large')\n",
    "ax.set_xlim([-122.52, -122.35])\n",
    "ax.set_ylim([37.71, 37.84])"
   ]
  },
  {
   "cell_type": "code",
   "execution_count": null,
   "metadata": {},
   "outputs": [],
   "source": [
    "ax = SF_shape.plot(color =\"lightgray\" , edgecolor =\"black\" , figsize = (10, 10))\n",
    "WEAPON_LAWS_Crime.plot(ax= ax, color= 'yellow', markersize=10, label= 'WEAPON_LAWS Crime', alpha=1)\n",
    "Ele_Sch_Geo.plot(ax= ax, color= \"blue\", markersize=30, label = 'Elementary School')\n",
    "\n",
    "# Label\n",
    "plt.title('Location of Weapon law crime and Elementary schools',fontsize=20 ,fontweight ='bold')\n",
    "plt.legend(loc=2, fontsize = 'x-large')\n",
    "ax.set_xlim([-122.52, -122.35])\n",
    "ax.set_ylim([37.71, 37.84])"
   ]
  },
  {
   "cell_type": "markdown",
   "metadata": {},
   "source": [
    "#### ANS to \"Are the elementary schools in the safe area (that is, the area has lower crime count) ?\"\n",
    "1. The crimes related to sex offenses (pink), kidnapping (red), and weapon laws(yellow) at 10 am -18 pm were selected be investigated. I guess many children might be active around the school during this window of time.\n",
    "2. The map showed that most of these crimes occurred at SF's financial district, Mission, and Bayview areas.\n",
    "3. Among the three types of crimes, the number of weapon laws crimes are the most.\n",
    "4. It seems that these crimes had the chance to occur nearby most of the elementary schools.\n",
    "5. My research reveals that elementary schools in central areas of SF were relatively safer."
   ]
  },
  {
   "cell_type": "code",
   "execution_count": null,
   "metadata": {},
   "outputs": [],
   "source": []
  }
 ],
 "metadata": {
  "kernelspec": {
   "display_name": "Python 3",
   "language": "python",
   "name": "python3"
  },
  "language_info": {
   "codemirror_mode": {
    "name": "ipython",
    "version": 3
   },
   "file_extension": ".py",
   "mimetype": "text/x-python",
   "name": "python",
   "nbconvert_exporter": "python",
   "pygments_lexer": "ipython3",
   "version": "3.6.3"
  }
 },
 "nbformat": 4,
 "nbformat_minor": 2
}

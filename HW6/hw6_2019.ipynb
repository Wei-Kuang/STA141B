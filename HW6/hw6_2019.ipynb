{
 "cells": [
  {
   "cell_type": "markdown",
   "metadata": {},
   "source": [
    "# STA 141B: Homework 6\n",
    "Winter 2018"
   ]
  },
  {
   "cell_type": "markdown",
   "metadata": {},
   "source": [
    "## Student Information\n",
    "\n",
    "After the colons (in the same line) please write just your first name, last name, and the 9 digit student ID number below.\n",
    "\n",
    "First Name: Wei-Kuang\n",
    "\n",
    "Last Name: Lin\n",
    "\n",
    "Student ID: 997062562"
   ]
  },
  {
   "cell_type": "markdown",
   "metadata": {},
   "source": [
    "## Instructions\n",
    "\n",
    "We use a script that extracts your answers by looking for cells in between the cells containing the exercise statements.  So you \n",
    "\n",
    "- MUST add cells in between the exercise statements and add answers within them and\n",
    "- MUST NOT modify the existing cells, particularly not the problem statement\n",
    "\n",
    "To make markdown, please switch the cell type to markdown (from code) - you can hit 'm' when you are in command mode - and use the markdown language.  For a brief tutorial see: https://daringfireball.net/projects/markdown/syntax"
   ]
  },
  {
   "cell_type": "markdown",
   "metadata": {},
   "source": [
    "# Web scraping the Aggie\n",
    "\n",
    "In this assignment, you'll scrape text from [The California Aggie](https://theaggie.org/) and then analyze the text.\n",
    "\n",
    "The Aggie is organized by category into article lists. For example, there's a [Campus News](https://theaggie.org/campus/) list, [Arts & Culture](https://theaggie.org/arts/) list, and [Sports](https://theaggie.org/sports/) list. Notice that each list has multiple pages, with a maximum of 15 articles per page.\n",
    "\n",
    "The goal of exercises 1.1 - 1.3 is to scrape articles from the Aggie for analysis in exercise 1.4."
   ]
  },
  {
   "cell_type": "markdown",
   "metadata": {},
   "source": [
    "__Exercise 1.1.__ Write a function that extracts all of the links to articles in an Aggie article list. The function should:\n",
    "\n",
    "* Have a parameter `url` for the URL of the article list.\n",
    "\n",
    "* Have a parameter `page` for the number of pages to fetch links from. The default should be `1`.\n",
    "\n",
    "* Return a list of aricle URLs (each URL should be a string).\n",
    "\n",
    "Test your function on 2-3 different categories to make sure it works.\n",
    "\n",
    "Hints:\n",
    "\n",
    "* Be polite to The Aggie and save time by setting up [requests_cache](https://pypi.python.org/pypi/requests-cache) before you write your function.\n",
    "\n",
    "* Start by getting your function to work for just 1 page. Once that works, have your function call itself to get additional pages.\n",
    "\n",
    "* You can use [lxml.html](http://lxml.de/lxmlhtml.html) or [BeautifulSoup](https://www.crummy.com/software/BeautifulSoup/bs4/doc/) to scrape HTML. Choose one and use it throughout the entire assignment."
   ]
  },
  {
   "cell_type": "code",
   "execution_count": 639,
   "metadata": {
    "collapsed": true
   },
   "outputs": [],
   "source": [
    "# web scrapping\n",
    "import requests\n",
    "import requests_ftp\n",
    "import requests_cache\n",
    "import lxml\n",
    "from bs4 import BeautifulSoup\n",
    "from collections import Counter\n",
    "from matplotlib import pyplot as plt\n",
    "import pandas as pd\n",
    "plt.style.use('ggplot')\n",
    "requests_cache.install_cache('141B_hw6_cache')\n",
    "%matplotlib inline"
   ]
  },
  {
   "cell_type": "code",
   "execution_count": 839,
   "metadata": {
    "collapsed": true
   },
   "outputs": [],
   "source": [
    "# data\n",
    "import numpy as np"
   ]
  },
  {
   "cell_type": "code",
   "execution_count": 640,
   "metadata": {
    "collapsed": true
   },
   "outputs": [],
   "source": [
    "# visualization\n",
    "import seaborn as sns\n",
    "import matplotlib.pyplot as plt\n",
    "%matplotlib inline\n",
    "plt.style.use('ggplot')"
   ]
  },
  {
   "cell_type": "code",
   "execution_count": 641,
   "metadata": {},
   "outputs": [
    {
     "name": "stdout",
     "output_type": "stream",
     "text": [
      "[nltk_data] Downloading package punkt to\n",
      "[nltk_data]     C:\\Users\\WeiKuang\\AppData\\Roaming\\nltk_data...\n",
      "[nltk_data]   Package punkt is already up-to-date!\n",
      "[nltk_data] Downloading package averaged_perceptron_tagger to\n",
      "[nltk_data]     C:\\Users\\WeiKuang\\AppData\\Roaming\\nltk_data...\n",
      "[nltk_data]   Package averaged_perceptron_tagger is already up-to-\n",
      "[nltk_data]       date!\n",
      "[nltk_data] Downloading package brown to\n",
      "[nltk_data]     C:\\Users\\WeiKuang\\AppData\\Roaming\\nltk_data...\n",
      "[nltk_data]   Package brown is already up-to-date!\n",
      "[nltk_data] Downloading package wordnet to\n",
      "[nltk_data]     C:\\Users\\WeiKuang\\AppData\\Roaming\\nltk_data...\n",
      "[nltk_data]   Package wordnet is already up-to-date!\n",
      "[nltk_data] Downloading package stopwords to\n",
      "[nltk_data]     C:\\Users\\WeiKuang\\AppData\\Roaming\\nltk_data...\n",
      "[nltk_data]   Package stopwords is already up-to-date!\n"
     ]
    },
    {
     "data": {
      "text/plain": [
       "True"
      ]
     },
     "execution_count": 641,
     "metadata": {},
     "output_type": "execute_result"
    }
   ],
   "source": [
    "# Set up NLTK packages used by TextBlob.\n",
    "import nltk\n",
    "nltk.download(\"punkt\")\n",
    "nltk.download(\"averaged_perceptron_tagger\")\n",
    "nltk.download(\"brown\")\n",
    "nltk.download(\"wordnet\")\n",
    "nltk.download(\"stopwords\")"
   ]
  },
  {
   "cell_type": "code",
   "execution_count": 642,
   "metadata": {},
   "outputs": [],
   "source": [
    "# Natural Language Processing\n",
    "# from wordcloud import WordCloud, STOPWORDS  #(This cannot be installed)\n",
    "from textblob import TextBlob\n",
    "from nltk.corpus import stopwords # removing Noise\n",
    "from nltk.corpus import wordnet\n",
    "from sklearn.feature_extraction.text import TfidfVectorizer"
   ]
  },
  {
   "cell_type": "code",
   "execution_count": 643,
   "metadata": {
    "collapsed": true
   },
   "outputs": [],
   "source": [
    "def get_link (url, page):\n",
    "    '''\n",
    "    Action: Extracts all of the links to articles in an Aggie article list\n",
    "    Argument: \"url\" as string and \"page\" as number\n",
    "    Return: A list contains all links of article on the requested page\n",
    "    '''\n",
    "    new_url= url + 'page'+ '/' + str(page) + '/'\n",
    "    Web_req= requests.get(new_url)\n",
    "    Web_html = Web_req.text\n",
    "    Web_BS = BeautifulSoup(Web_html,'lxml')\n",
    "    h2 = Web_BS.find_all(name='h2',attrs={'class':'entry-title'})\n",
    "    \n",
    "    L= []\n",
    "    for i in range(len(h2)):\n",
    "        for link in h2[i].find_all('a'):\n",
    "            e= link.get('href')\n",
    "        L.append(e)\n",
    "\n",
    "    return(L)"
   ]
  },
  {
   "cell_type": "code",
   "execution_count": 644,
   "metadata": {},
   "outputs": [
    {
     "data": {
      "text/plain": [
       "['https://theaggie.org/2018/03/13/last-week-in-senate-25/',\n",
       " 'https://theaggie.org/2018/03/12/uc-regents-will-vote-on-nonresident-tuition-hike-on-wednesday/',\n",
       " 'https://theaggie.org/2018/03/12/cheating-allegations-in-soc-46a/',\n",
       " 'https://theaggie.org/2018/03/12/chancellor-creates-three-task-forces-to-improve-student-life/',\n",
       " 'https://theaggie.org/2018/03/06/duke-law-professor-presents-lecture-voting-rights-law/',\n",
       " 'https://theaggie.org/2018/03/05/last-week-senate-25-8/',\n",
       " 'https://theaggie.org/2018/03/05/icc-warns-students-wary-suspicious-job-offering/',\n",
       " 'https://theaggie.org/2018/03/04/uc-davis-student-protester-arrested-yiannopoulos-talk-last-year-awaits-trial/',\n",
       " 'https://theaggie.org/2018/03/01/executive-ticket-candidates-claim-biases-non-asucd-affiliated-individuals/',\n",
       " 'https://theaggie.org/2018/03/01/happiness-campaign-strives-less-stress-joy/',\n",
       " 'https://theaggie.org/2018/02/27/senator-term-review-yajaira-ramirez-sigala/',\n",
       " 'https://theaggie.org/2018/02/27/calpirgs-winter-quarter-pledge-drives/',\n",
       " 'https://theaggie.org/2018/02/26/asucd-election-results-announced-2/',\n",
       " 'https://theaggie.org/2018/02/26/sexual-violence-prevention-response-board-created/',\n",
       " 'https://theaggie.org/2018/02/26/memoriam-markos-huerta/']"
      ]
     },
     "execution_count": 644,
     "metadata": {},
     "output_type": "execute_result"
    }
   ],
   "source": [
    "# test 1\n",
    "get_link(\"https://theaggie.org/campus/\", page = 1)"
   ]
  },
  {
   "cell_type": "code",
   "execution_count": 645,
   "metadata": {},
   "outputs": [
    {
     "data": {
      "text/plain": [
       "['https://theaggie.org/2018/02/25/traditional-chinese-music-classes-offered-uc-davis-confucius-institute/',\n",
       " 'https://theaggie.org/2018/02/25/last-week-senate-25-7/',\n",
       " 'https://theaggie.org/2018/02/22/asucd-executive-tickets-hold-coho-debate/',\n",
       " 'https://theaggie.org/2018/02/22/mental-health-town-hall-erupts-protest/',\n",
       " 'https://theaggie.org/2018/02/22/asucd-senate-candidates-debate-largely-inattentive-crowd/',\n",
       " 'https://theaggie.org/2018/02/22/adam-hatefi-shreya-deshpande-disqualified-missing-mandatory-candidate-workshop/',\n",
       " 'https://theaggie.org/2018/02/20/last-week-senate-25-6/',\n",
       " 'https://theaggie.org/2018/02/20/formerly-incarcerated-students-publish-zine-spread-stories/',\n",
       " 'https://theaggie.org/2018/02/19/uaw-ucop-start-collective-bargaining-march/',\n",
       " 'https://theaggie.org/2018/02/19/senator-term-review-marcos-rodriguez/',\n",
       " 'https://theaggie.org/2018/02/19/2018-asucd-winter-elections-meet-candidates/',\n",
       " 'https://theaggie.org/2018/02/16/director-counseling-psychological-services-terminated-raising-concerns-allocation-mental-health-funds/',\n",
       " 'https://theaggie.org/2018/02/15/period-holds-pad-tampon-drive-first-informational-meeting/',\n",
       " 'https://theaggie.org/2018/02/15/chancellor-may-appoints-kelly-ratliff-new-vice-chancellor/',\n",
       " 'https://theaggie.org/2018/02/15/transgender-author-janet-mock-discusses-intersectionality-uc-davis/']"
      ]
     },
     "execution_count": 645,
     "metadata": {},
     "output_type": "execute_result"
    }
   ],
   "source": [
    "# test 2\n",
    "get_link(\"https://theaggie.org/campus/\", page = 2)"
   ]
  },
  {
   "cell_type": "code",
   "execution_count": 646,
   "metadata": {},
   "outputs": [
    {
     "data": {
      "text/plain": [
       "['https://theaggie.org/2017/12/28/year-photos-2017/',\n",
       " 'https://theaggie.org/2017/11/21/giving-thanks-through-photos/',\n",
       " 'https://theaggie.org/2017/09/18/a-summer-worth-capturing/',\n",
       " 'https://theaggie.org/2017/09/12/a-family-trip-through-europe/',\n",
       " 'https://theaggie.org/2017/09/05/life-in-hong-kong-through-photos/',\n",
       " 'https://theaggie.org/2017/08/07/in-the-footsteps-of-the-grand-tour/',\n",
       " 'https://theaggie.org/2017/07/09/4th-of-july-in-photos/',\n",
       " 'https://theaggie.org/2017/06/06/significant-snapshots/',\n",
       " 'https://theaggie.org/2017/05/24/photo-of-the-week-5242017/',\n",
       " 'https://theaggie.org/2017/05/17/photo-of-the-week-5172017/',\n",
       " 'https://theaggie.org/2017/05/10/photo-of-the-week-5112017/',\n",
       " 'https://theaggie.org/2017/05/03/photo-of-the-week-532017/',\n",
       " 'https://theaggie.org/2017/04/26/in-photos-picnic-day-2017/',\n",
       " 'https://theaggie.org/2017/04/19/photo-of-the-week-4192017/',\n",
       " 'https://theaggie.org/2017/04/12/photo-of-the-week-4122017/']"
      ]
     },
     "execution_count": 646,
     "metadata": {},
     "output_type": "execute_result"
    }
   ],
   "source": [
    "# test 3\n",
    "get_link(\"https://theaggie.org/photo/\", page = 1)"
   ]
  },
  {
   "cell_type": "markdown",
   "metadata": {},
   "source": [
    "__Exercise 1.2.__ Write a function that extracts the title, text, and author of an Aggie article. The function should:\n",
    "\n",
    "* Have a parameter `url` for the URL of the article.\n",
    "\n",
    "* For the author, extract the \"Written By\" line that appears at the end of most articles. You don't have to extract the author's name from this line.\n",
    "\n",
    "* Return a dictionary with keys \"url\", \"title\", \"text\", and \"author\". The values for these should be the article url, title, text, and author, respectively.\n",
    "\n",
    "For example, for [this article](https://theaggie.org/2017/02/14/project-toto-aims-to-address-questions-regarding-city-finances/) your function should return something similar to this:\n",
    "```\n",
    "{\n",
    "    'author': u'Written By: Bianca Antunez \\xa0\\u2014\\xa0city@theaggie.org',\n",
    "    'text': u'Davis residents create financial model to make city\\'s financial state more transparent To increase transparency between the city\\'s financial situation and the community, three residents created a model called Project Toto which aims to improve how the city communicates its finances in an easily accessible design. Jeff Miller and Matt Williams, who are members of Davis\\' Finance and Budget Commission, joined together with Davis entrepreneur Bob Fung to create the model plan to bring the project to the Finance and Budget Commission in February, according to Kelly Stachowicz, assistant city manager. \"City staff appreciate the efforts that have gone into this, and the interest in trying to look at the city\\'s potential financial position over the long term,\" Stachowicz said in an email interview. \"We all have a shared goal to plan for a sound fiscal future with few surprises. We believe the Project Toto effort will mesh well with our other efforts as we build the budget for the next fiscal year and beyond.\" Project Toto complements the city\\'s effort to amplify the transparency of city decisions to community members. The aim is to increase the understanding about the city\\'s financial situation and make the information more accessible and easier to understand. The project is mostly a tool for public education, but can also make predictions about potential decisions regarding the city\\'s financial future. Once completed, the program will allow residents to manipulate variables to see their eventual consequences, such as tax increases or extensions and proposed developments \"This really isn\\'t a budget, it is a forecast to see the intervention of these decisions,\" Williams said in an interview with The Davis Enterprise. \"What happens if we extend the sales tax? What does it do given the other numbers that are in?\" Project Toto enables users, whether it be a curious Davis resident, a concerned community member or a city leader, with the ability to project city finances with differing variables. The online program consists of the 400-page city budget for the 2016-2017 fiscal year, the previous budget, staff reports and consultant analyses. All of the documents are cited and accessible to the public within Project Toto. \"It\\'s a model that very easily lends itself to visual representation,\" Mayor Robb Davis said. \"You can see the impacts of decisions the council makes on the fiscal health of the city.\" Complementary to this program, there is also a more advanced version of the model with more in-depth analyses of the city\\'s finances. However, for an easy-to-understand, simplistic overview, Project Toto should be enough to help residents comprehend Davis finances. There is still more to do on the project, but its creators are hard at work trying to finalize it before the 2017-2018 fiscal year budget. \"It\\'s something I have been very much supportive of,\" Davis said. \"Transparency is not just something that I have been supportive of but something we have stated as a city council objective [ ] this fits very well with our attempt to inform the public of our challenges with our fiscal situation.\" ',\n",
    "    'title': 'Project Toto aims to address questions regarding city finances',\n",
    "    'url': 'https://theaggie.org/2017/02/14/project-toto-aims-to-address-questions-regarding-city-finances/'\n",
    "}\n",
    "```\n",
    "\n",
    "Hints:\n",
    "\n",
    "* The author line is always the last line of the last paragraph.\n",
    "\n",
    "* If you are having trouble working with unicode characters see [the python 3 documentation](https://docs.python.org/3/howto/unicode.html)."
   ]
  },
  {
   "cell_type": "code",
   "execution_count": 769,
   "metadata": {
    "collapsed": true
   },
   "outputs": [],
   "source": [
    "# 1.2 function\n",
    "def extracts(url):\n",
    "    ''' Action: extract info of \"url\", \"title\", \"text\", and \"author\" from the url of the article\n",
    "        Arg: url as string\n",
    "        Return: A dictionary with keys \"url\", \"title\", \"text\", and \"author\".\n",
    "    '''\n",
    "    \n",
    "    # step1: get the webpage of article\n",
    "    Article_req= requests.get(url)\n",
    "    Article_html = Article_req.text\n",
    "    Article_BS = BeautifulSoup(Article_html,'lxml')\n",
    "    \n",
    "    # step2: extract author\n",
    "    # Find author (at the front)\n",
    "    A= Article_BS.find(name='div', attrs={'class':'author-link'})\n",
    "    AUTHOR = A.a.string.split('—')[0]\n",
    "    \n",
    "    # step3: extract text\n",
    "    Te = Article_BS.find(name='div', attrs={'itemprop':'articleBody'})\n",
    "    Te_p =Te.find_all('p')  # p is paragraph\n",
    "    L= []\n",
    "    for i in range(len(Te_p)-1):\n",
    "        text = str(Te_p[i].string)   # this str will prevet the error when join strings in a list\n",
    "        \n",
    "        # remove [\"“\", \"”\", \"’\", and so forth]\n",
    "        removed1 = text.replace(\"“\", \"\")\n",
    "        removed2 = removed1.replace(\"”\",\"\")\n",
    "        removed3 = removed2.replace(\"’\",\"\")\n",
    "        removed4 = removed3.replace(\",\",\"\") \n",
    "        removed5 = removed4.replace(\"—\",\"\")\n",
    "        L.append(removed5)  # text\n",
    "        \n",
    "    TEXT = ''.join(L)\n",
    "    \n",
    "    # step4: extract title\n",
    "    Ti= Article_BS.find(name='h1', attrs={'class':'entry-title', 'itemprop':'headline'})\n",
    "    TITLE= Ti.string\n",
    "\n",
    "    # step5: use the input_url as the URL for this article\n",
    "    \n",
    "    \n",
    "    # step 6: Make a dictionary\n",
    "    dictionary = {'author': AUTHOR, 'text':TEXT, 'title':TITLE ,'url':url}\n",
    "    \n",
    "    return (dictionary)"
   ]
  },
  {
   "cell_type": "code",
   "execution_count": 770,
   "metadata": {},
   "outputs": [
    {
     "data": {
      "text/plain": [
       "{'author': 'Bianca Antunez  ',\n",
       " 'text': 'Davis residents create financial model to make citys financial state more transparentTo increase transparency between the citys financial situation and the community three residents created a model called Project Toto which aims to improve how the city communicates its finances in an easily accessible design. Jeff Miller and Matt Williams who are members of Davis Finance and Budget Commission joined together with Davis entrepreneur Bob Fung to create the model plan to bring the project to the Finance and Budget Commission in February according to Kelly Stachowicz assistant city manager. City staff appreciate the efforts that have gone into this and the interest in trying to look at the citys potential financial position over the long term Stachowicz said in an email interview. We all have a shared goal to plan for a sound fiscal future with few surprises. We believe the Project Toto effort will mesh well with our other efforts as we build the budget for the next fiscal year and beyond.Project Toto complements the citys effort to amplify the transparency of city decisions to community members. The aim is to increase the understanding about the citys financial situation and make the information more accessible and easier to understand.The project is mostly a tool for public education but can also make predictions about potential decisions regarding the citys financial future. Once completed the program will allow residents to manipulate variables to see their eventual consequences such as tax increases or extensions and proposed developmentsNoneProject Toto enables users whether it be a curious Davis resident a concerned community member or a city leader with the ability to project city finances with differing variables. The online program consists of the 400-page city budget for the 2016-2017 fiscal year the previous budget staff reports and consultant analyses. All of the documents are cited and accessible to the public within Project Toto.Its a model that very easily lends itself to visual representation Mayor Robb Davis said. You can see the impacts of decisions the council makes on the fiscal health of the city.Complementary to this program there is also a more advanced version of the model with more in-depth analyses of the citys finances. However for an easy-to-understand simplistic overview Project Toto should be enough to help residents comprehend Davis finances. There is still more to do on the project but its creators are hard at work trying to finalize it before the 2017-2018 fiscal year budget. Its something I have been very much supportive of Davis said. Transparency is not just something that I have been supportive of but something we have stated as a city council objective […] this fits very well with our attempt to inform the public of our challenges with our fiscal situation.',\n",
       " 'title': 'Project Toto aims to address questions regarding city finances',\n",
       " 'url': 'https://theaggie.org/2017/02/14/project-toto-aims-to-address-questions-regarding-city-finances/'}"
      ]
     },
     "execution_count": 770,
     "metadata": {},
     "output_type": "execute_result"
    }
   ],
   "source": [
    "# test 1 to compare the example\n",
    "extracts(\"https://theaggie.org/2017/02/14/project-toto-aims-to-address-questions-regarding-city-finances/\")"
   ]
  },
  {
   "cell_type": "code",
   "execution_count": 771,
   "metadata": {},
   "outputs": [
    {
     "data": {
      "text/plain": [
       "{'author': 'Ally Overbay ',\n",
       " 'text': 'A few of the front-of-stage women in rock musicAs a teenager the alt-rock musicians that dominated my local radio station headlined festivals and who ultimately cultivated my musical tastes were male. Bands like Pearl Jam Young the Giant the Killers and Death Cab for Cutie were the formative sounds of my teenage years but for many young females the image of a woman standing at the front of a stage confidently wielding an electric guitar remains an anomaly.Jessica Hopper a senior editor and music critic at Pitchfork writes men writing songs about women is practically the definition of rock ‘n roll. In her book The First Collection of Criticism by a Living Female Rock Critic Hopper doesnt pretend these females rockers dont exist; she flaunts their talent. We deserve better songs that any boy will ever write about us Hopper writes.So here are some of the women making the rock music we deserve  and good music at that.\\xa0Margaret GlaspyNoneNone\\xa0Haley HeynderickxNoneNone\\xa0Jay SomUnderneath this Bay Area natives whispery lush vocals are loud lyrics  and even louder guitars. Feel like a firefighter when I take off your shoes / And more thats in-between / The knots are loose / Ill cut them just to see you through she hushes in The Bus Song. From more fun and polished tracks like The Bus Song to the garage-band feel of earlier works like Rush Jay Soms Melina Duterte doesnt skim through her musical projects.None\\xa0Big ThiefNoneLenker is the bright spot in the bands dark and hazy music; she reels about familial relationships and losses in the track Mythological Beauty circling the perspective of the lyrics between herself and her mother and even her future daughter: there is a child inside you who is trying / to raise a child in me. \\xa0\\xa0',\n",
       " 'title': 'An Earful: Women Rock',\n",
       " 'url': 'https://theaggie.org/2018/03/13/an-earful-women-rock/'}"
      ]
     },
     "execution_count": 771,
     "metadata": {},
     "output_type": "execute_result"
    }
   ],
   "source": [
    "# test 2 \n",
    "extracts(\"https://theaggie.org/2018/03/13/an-earful-women-rock/\")"
   ]
  },
  {
   "cell_type": "code",
   "execution_count": 772,
   "metadata": {},
   "outputs": [
    {
     "data": {
      "text/plain": [
       "{'author': 'George Liao ',\n",
       " 'text': 'The Happiness Campaign seeks to reduce anxiety increase happinessAs the UC Davis-wide Happiness Campaign comes to a close fourth-year English major Sofia Molodanof shared what makes her happy.Happiness is very specific to each person Molodanof said. I think it is just being able to understand and being aware of things that make you happy. I really like taking walks through the Arboretum that is something I love. Some people find happiness by sitting under a tree and reading a book. It is really just acknowledging those different ways that can promote happiness for yourself.The Happiness Campaign a weeklong event on campus from Feb. 26 to March 2 brings attention to the stress that students experience as well as introduces strategies to manage stress and foster mental well-being. The event is sponsored by the Health Education and Promotion department at UC Davis.Molodanof who is the mental well-being student coordinator for HEP gave an overview of this years activities. She discussed a few events which took place earlier in the week. One event Promote Happiness included tabling on the Quad.The tabling event is focused on spreading happiness and students will be able to receive a happiness kit Molodanof said. There will also be a way for students to be interactive  to get feedback on where students find happiness.The second event titled Seek Happiness Through Yoga was centered on yoga.The Yoga Club will have a special session that focuses on finding happiness through meditation and this is a great way for students to practice relaxing Molodanof said.Our third event is on Friday March 2 and is our Peace Tranquility and Happiness Crafternoon which we are co-sponsoring with our LGBTQIA [Resource] Center from 12:30 to 3 p.m. Molodanof said. This will be an opportunity for students to create tranquility glitter jars and they can learn about ways to spread more happiness.Emilia Aguirre a mental well-being health promotions specialist for HEP spoke about the purpose of the event and ways in which students can benefit from it.The Happiness Campaign is a social marketing campaign […] to raise awareness about positive psychologies about positive affirmations on campus and to really just spread happiness Aguirre said. We really want to remind students that everybody is going through their own struggles and just to remember and shed light on being positive. Molodanof gave details on the stress UC Davis students experience.From the information and feedback that we got in students at UC Davis tend to be more stressed than other university campuses Molodanof said. [The] main reasons include academics relationships and students having to work. I think one of these things is just taking time for themselves. We are hoping that these activities will allow them some time to get in touch with themselves and to be relieved from stress for a little bit of the day. I think coming up with ways for students to alleviate that stress is super important.In a follow-up interview by email Molodanof provided statistics on the level of stress encountered by UC Davis students.NoneAguirre empathized that stress management is an ongoing process.In addition to reaching UC Davis students through social marketing and just raising awareness [through] these events [it is] also getting students to attend them and to take something from them  to expose them to different ways that they can take time for themselves and integrate that into a daily routine Aguirre said. Really just building that time to just reflect on the good and what makes each person happy.Stephanie Miramontes a third-year human development major and a volunteer at HEP offered her ideas on being happy in an email interview.I think that one way you can be happier as a student at UC Davis is by getting closer to the campus community Miramontes said. Joining a club engaging in new activities and meeting new people you can find friends and happiness at UC Davis. I also think that just taking a moment to step back and remember everything youve accomplished to get here can help as well! I know things can be stressful at times so it helps to take a short break and forget about what is on your plate.\\xa0None',\n",
       " 'title': 'Happiness Campaign strives for less stress, more joy',\n",
       " 'url': 'https://theaggie.org/2018/03/01/happiness-campaign-strives-less-stress-joy/'}"
      ]
     },
     "execution_count": 772,
     "metadata": {},
     "output_type": "execute_result"
    }
   ],
   "source": [
    "# test 3 \n",
    "extracts(\"https://theaggie.org/2018/03/01/happiness-campaign-strives-less-stress-joy/\")"
   ]
  },
  {
   "cell_type": "markdown",
   "metadata": {},
   "source": [
    "__Exercise 1.3.__ Use your functions from exercises 1.1 and 1.2 to get a data frame of 60 [Campus News](https://theaggie.org/campus/) articles and a data frame of 60 [City News](https://theaggie.org/city/) articles. Add a column to each that indicates the category, then combine them into one big data frame.\n",
    "\n",
    "The \"text\" column of this data frame will be your corpus for natural language processing in exercise 1.4."
   ]
  },
  {
   "cell_type": "code",
   "execution_count": 773,
   "metadata": {},
   "outputs": [
    {
     "data": {
      "text/html": [
       "<div>\n",
       "<style scoped>\n",
       "    .dataframe tbody tr th:only-of-type {\n",
       "        vertical-align: middle;\n",
       "    }\n",
       "\n",
       "    .dataframe tbody tr th {\n",
       "        vertical-align: top;\n",
       "    }\n",
       "\n",
       "    .dataframe thead th {\n",
       "        text-align: right;\n",
       "    }\n",
       "</style>\n",
       "<table border=\"1\" class=\"dataframe\">\n",
       "  <thead>\n",
       "    <tr style=\"text-align: right;\">\n",
       "      <th></th>\n",
       "      <th>category</th>\n",
       "      <th>author</th>\n",
       "      <th>text</th>\n",
       "      <th>title</th>\n",
       "      <th>url</th>\n",
       "    </tr>\n",
       "  </thead>\n",
       "  <tbody>\n",
       "    <tr>\n",
       "      <th>0</th>\n",
       "      <td>campus</td>\n",
       "      <td>George Liao</td>\n",
       "      <td>Funding for Student Advocates for Mental Healt...</td>\n",
       "      <td>Last week in Senate</td>\n",
       "      <td>https://theaggie.org/2018/03/13/last-week-in-s...</td>\n",
       "    </tr>\n",
       "    <tr>\n",
       "      <th>1</th>\n",
       "      <td>campus</td>\n",
       "      <td>Hannah Holzer</td>\n",
       "      <td>Proposed $978 tuition hikeAt the upcoming UC R...</td>\n",
       "      <td>UC Regents will vote on nonresident tuition hi...</td>\n",
       "      <td>https://theaggie.org/2018/03/12/uc-regents-wil...</td>\n",
       "    </tr>\n",
       "    <tr>\n",
       "      <th>2</th>\n",
       "      <td>campus</td>\n",
       "      <td>Sabrina Habchi</td>\n",
       "      <td>Controversy over academic honesty suspicions i...</td>\n",
       "      <td>Cheating allegations in SOC 46A</td>\n",
       "      <td>https://theaggie.org/2018/03/12/cheating-alleg...</td>\n",
       "    </tr>\n",
       "    <tr>\n",
       "      <th>3</th>\n",
       "      <td>campus</td>\n",
       "      <td>Jacqueline Moore</td>\n",
       "      <td>Task forces to review affordable housing food ...</td>\n",
       "      <td>Chancellor creates three task forces to improv...</td>\n",
       "      <td>https://theaggie.org/2018/03/12/chancellor-cre...</td>\n",
       "    </tr>\n",
       "    <tr>\n",
       "      <th>4</th>\n",
       "      <td>campus</td>\n",
       "      <td>Jacqueline Moore</td>\n",
       "      <td>Guy-Uriel Charles speaks at King HallDuke Univ...</td>\n",
       "      <td>Duke law professor presents lecture on voting ...</td>\n",
       "      <td>https://theaggie.org/2018/03/06/duke-law-profe...</td>\n",
       "    </tr>\n",
       "  </tbody>\n",
       "</table>\n",
       "</div>"
      ],
      "text/plain": [
       "  category             author  \\\n",
       "0   campus       George Liao    \n",
       "1   campus     Hannah Holzer    \n",
       "2   campus    Sabrina Habchi    \n",
       "3   campus  Jacqueline Moore    \n",
       "4   campus  Jacqueline Moore    \n",
       "\n",
       "                                                text  \\\n",
       "0  Funding for Student Advocates for Mental Healt...   \n",
       "1  Proposed $978 tuition hikeAt the upcoming UC R...   \n",
       "2  Controversy over academic honesty suspicions i...   \n",
       "3  Task forces to review affordable housing food ...   \n",
       "4  Guy-Uriel Charles speaks at King HallDuke Univ...   \n",
       "\n",
       "                                               title  \\\n",
       "0                                Last week in Senate   \n",
       "1  UC Regents will vote on nonresident tuition hi...   \n",
       "2                    Cheating allegations in SOC 46A   \n",
       "3  Chancellor creates three task forces to improv...   \n",
       "4  Duke law professor presents lecture on voting ...   \n",
       "\n",
       "                                                 url  \n",
       "0  https://theaggie.org/2018/03/13/last-week-in-s...  \n",
       "1  https://theaggie.org/2018/03/12/uc-regents-wil...  \n",
       "2  https://theaggie.org/2018/03/12/cheating-alleg...  \n",
       "3  https://theaggie.org/2018/03/12/chancellor-cre...  \n",
       "4  https://theaggie.org/2018/03/06/duke-law-profe...  "
      ]
     },
     "execution_count": 773,
     "metadata": {},
     "output_type": "execute_result"
    }
   ],
   "source": [
    "# To get 60 Campus News \n",
    "# parameter setting\n",
    "page = 5 \n",
    "url = \"https://theaggie.org/campus/\"\n",
    "category = url.split('/')[-2]\n",
    "\n",
    "# apply function 1 to get the links of article from page1 to page#\n",
    "L=[]\n",
    "for p in range(1,page+1):\n",
    "    L= L+get_link(url,p)\n",
    "\n",
    "# Purpose: to extrac contents from each article\n",
    "CampDF= pd.DataFrame()\n",
    "for a_link in L:\n",
    "    d= extracts(a_link)\n",
    "    df = pd.DataFrame([d], columns= d.keys())\n",
    "    df.insert(0,'category', category)\n",
    "    CampDF = CampDF.append(df,ignore_index=True)\n",
    "    \n",
    "CampDF.head()"
   ]
  },
  {
   "cell_type": "code",
   "execution_count": 774,
   "metadata": {},
   "outputs": [
    {
     "data": {
      "text/html": [
       "<div>\n",
       "<style scoped>\n",
       "    .dataframe tbody tr th:only-of-type {\n",
       "        vertical-align: middle;\n",
       "    }\n",
       "\n",
       "    .dataframe tbody tr th {\n",
       "        vertical-align: top;\n",
       "    }\n",
       "\n",
       "    .dataframe thead th {\n",
       "        text-align: right;\n",
       "    }\n",
       "</style>\n",
       "<table border=\"1\" class=\"dataframe\">\n",
       "  <thead>\n",
       "    <tr style=\"text-align: right;\">\n",
       "      <th></th>\n",
       "      <th>category</th>\n",
       "      <th>author</th>\n",
       "      <th>text</th>\n",
       "      <th>title</th>\n",
       "      <th>url</th>\n",
       "    </tr>\n",
       "  </thead>\n",
       "  <tbody>\n",
       "    <tr>\n",
       "      <th>0</th>\n",
       "      <td>city</td>\n",
       "      <td>theaggie</td>\n",
       "      <td>Who is Monica?Feb. 19Heard only for last 10 mi...</td>\n",
       "      <td>Police Logs</td>\n",
       "      <td>https://theaggie.org/2018/03/13/police-logs-44/</td>\n",
       "    </tr>\n",
       "    <tr>\n",
       "      <th>1</th>\n",
       "      <td>city</td>\n",
       "      <td>Genevieve Murphy-Skilling</td>\n",
       "      <td>Students bike in freezing conditions to help p...</td>\n",
       "      <td>Davis students pedal for polar bears</td>\n",
       "      <td>https://theaggie.org/2018/03/13/davis-students...</td>\n",
       "    </tr>\n",
       "    <tr>\n",
       "      <th>2</th>\n",
       "      <td>city</td>\n",
       "      <td>Rabiya Oberoi</td>\n",
       "      <td>Yolo Interfaith Alliance for Climate Justice h...</td>\n",
       "      <td>Sixth annual climate conference: growing resil...</td>\n",
       "      <td>https://theaggie.org/2018/03/12/sixth-annual-c...</td>\n",
       "    </tr>\n",
       "    <tr>\n",
       "      <th>3</th>\n",
       "      <td>city</td>\n",
       "      <td>Stella Tran</td>\n",
       "      <td>Financial Oversight Committee has open seats t...</td>\n",
       "      <td>New committee members to join Yolo County</td>\n",
       "      <td>https://theaggie.org/2018/03/11/new-committee-...</td>\n",
       "    </tr>\n",
       "    <tr>\n",
       "      <th>4</th>\n",
       "      <td>city</td>\n",
       "      <td>Hannan Waliullah</td>\n",
       "      <td>Workshop aimed to help parents understand chil...</td>\n",
       "      <td>Yolo Rainbow Families hosts workshops about ge...</td>\n",
       "      <td>https://theaggie.org/2018/03/11/yolo-rainbow-f...</td>\n",
       "    </tr>\n",
       "  </tbody>\n",
       "</table>\n",
       "</div>"
      ],
      "text/plain": [
       "  category                      author  \\\n",
       "0     city                    theaggie   \n",
       "1     city  Genevieve Murphy-Skilling    \n",
       "2     city              Rabiya Oberoi    \n",
       "3     city                Stella Tran    \n",
       "4     city           Hannan Waliullah    \n",
       "\n",
       "                                                text  \\\n",
       "0  Who is Monica?Feb. 19Heard only for last 10 mi...   \n",
       "1  Students bike in freezing conditions to help p...   \n",
       "2  Yolo Interfaith Alliance for Climate Justice h...   \n",
       "3  Financial Oversight Committee has open seats t...   \n",
       "4  Workshop aimed to help parents understand chil...   \n",
       "\n",
       "                                               title  \\\n",
       "0                                        Police Logs   \n",
       "1               Davis students pedal for polar bears   \n",
       "2  Sixth annual climate conference: growing resil...   \n",
       "3          New committee members to join Yolo County   \n",
       "4  Yolo Rainbow Families hosts workshops about ge...   \n",
       "\n",
       "                                                 url  \n",
       "0    https://theaggie.org/2018/03/13/police-logs-44/  \n",
       "1  https://theaggie.org/2018/03/13/davis-students...  \n",
       "2  https://theaggie.org/2018/03/12/sixth-annual-c...  \n",
       "3  https://theaggie.org/2018/03/11/new-committee-...  \n",
       "4  https://theaggie.org/2018/03/11/yolo-rainbow-f...  "
      ]
     },
     "execution_count": 774,
     "metadata": {},
     "output_type": "execute_result"
    }
   ],
   "source": [
    "# To get 60 Campus News \n",
    "# parameter setting\n",
    "page = 5 \n",
    "url = \"https://theaggie.org/city/\"\n",
    "category = url.split('/')[-2]\n",
    "\n",
    "# apply function 1 to get the links of article from page1 to page#\n",
    "L=[]\n",
    "for p in range(1,page+1):\n",
    "    L= L+get_link(url,p)\n",
    "\n",
    "# Purpose: to extrac contents from each article\n",
    "CityDF= pd.DataFrame()\n",
    "for a_link in L:\n",
    "    d= extracts(a_link)\n",
    "    df = pd.DataFrame([d], columns= d.keys())\n",
    "    df.insert(0,'category', category)\n",
    "    CityDF = CityDF.append(df,ignore_index=True)\n",
    "    \n",
    "CityDF.head()"
   ]
  },
  {
   "cell_type": "code",
   "execution_count": 775,
   "metadata": {
    "collapsed": true
   },
   "outputs": [],
   "source": [
    "# combine CampusNews and CityNews into one big data frame.\n",
    "Big_DF = CampDF.append(CityDF, ignore_index=True)"
   ]
  },
  {
   "cell_type": "code",
   "execution_count": 776,
   "metadata": {},
   "outputs": [
    {
     "data": {
      "text/html": [
       "<div>\n",
       "<style scoped>\n",
       "    .dataframe tbody tr th:only-of-type {\n",
       "        vertical-align: middle;\n",
       "    }\n",
       "\n",
       "    .dataframe tbody tr th {\n",
       "        vertical-align: top;\n",
       "    }\n",
       "\n",
       "    .dataframe thead th {\n",
       "        text-align: right;\n",
       "    }\n",
       "</style>\n",
       "<table border=\"1\" class=\"dataframe\">\n",
       "  <thead>\n",
       "    <tr style=\"text-align: right;\">\n",
       "      <th></th>\n",
       "      <th>category</th>\n",
       "      <th>author</th>\n",
       "      <th>text</th>\n",
       "      <th>title</th>\n",
       "      <th>url</th>\n",
       "    </tr>\n",
       "  </thead>\n",
       "  <tbody>\n",
       "    <tr>\n",
       "      <th>0</th>\n",
       "      <td>campus</td>\n",
       "      <td>George Liao</td>\n",
       "      <td>Funding for Student Advocates for Mental Healt...</td>\n",
       "      <td>Last week in Senate</td>\n",
       "      <td>https://theaggie.org/2018/03/13/last-week-in-s...</td>\n",
       "    </tr>\n",
       "    <tr>\n",
       "      <th>1</th>\n",
       "      <td>campus</td>\n",
       "      <td>Hannah Holzer</td>\n",
       "      <td>Proposed $978 tuition hikeAt the upcoming UC R...</td>\n",
       "      <td>UC Regents will vote on nonresident tuition hi...</td>\n",
       "      <td>https://theaggie.org/2018/03/12/uc-regents-wil...</td>\n",
       "    </tr>\n",
       "    <tr>\n",
       "      <th>2</th>\n",
       "      <td>campus</td>\n",
       "      <td>Sabrina Habchi</td>\n",
       "      <td>Controversy over academic honesty suspicions i...</td>\n",
       "      <td>Cheating allegations in SOC 46A</td>\n",
       "      <td>https://theaggie.org/2018/03/12/cheating-alleg...</td>\n",
       "    </tr>\n",
       "    <tr>\n",
       "      <th>3</th>\n",
       "      <td>campus</td>\n",
       "      <td>Jacqueline Moore</td>\n",
       "      <td>Task forces to review affordable housing food ...</td>\n",
       "      <td>Chancellor creates three task forces to improv...</td>\n",
       "      <td>https://theaggie.org/2018/03/12/chancellor-cre...</td>\n",
       "    </tr>\n",
       "    <tr>\n",
       "      <th>4</th>\n",
       "      <td>campus</td>\n",
       "      <td>Jacqueline Moore</td>\n",
       "      <td>Guy-Uriel Charles speaks at King HallDuke Univ...</td>\n",
       "      <td>Duke law professor presents lecture on voting ...</td>\n",
       "      <td>https://theaggie.org/2018/03/06/duke-law-profe...</td>\n",
       "    </tr>\n",
       "  </tbody>\n",
       "</table>\n",
       "</div>"
      ],
      "text/plain": [
       "  category             author  \\\n",
       "0   campus       George Liao    \n",
       "1   campus     Hannah Holzer    \n",
       "2   campus    Sabrina Habchi    \n",
       "3   campus  Jacqueline Moore    \n",
       "4   campus  Jacqueline Moore    \n",
       "\n",
       "                                                text  \\\n",
       "0  Funding for Student Advocates for Mental Healt...   \n",
       "1  Proposed $978 tuition hikeAt the upcoming UC R...   \n",
       "2  Controversy over academic honesty suspicions i...   \n",
       "3  Task forces to review affordable housing food ...   \n",
       "4  Guy-Uriel Charles speaks at King HallDuke Univ...   \n",
       "\n",
       "                                               title  \\\n",
       "0                                Last week in Senate   \n",
       "1  UC Regents will vote on nonresident tuition hi...   \n",
       "2                    Cheating allegations in SOC 46A   \n",
       "3  Chancellor creates three task forces to improv...   \n",
       "4  Duke law professor presents lecture on voting ...   \n",
       "\n",
       "                                                 url  \n",
       "0  https://theaggie.org/2018/03/13/last-week-in-s...  \n",
       "1  https://theaggie.org/2018/03/12/uc-regents-wil...  \n",
       "2  https://theaggie.org/2018/03/12/cheating-alleg...  \n",
       "3  https://theaggie.org/2018/03/12/chancellor-cre...  \n",
       "4  https://theaggie.org/2018/03/06/duke-law-profe...  "
      ]
     },
     "execution_count": 776,
     "metadata": {},
     "output_type": "execute_result"
    }
   ],
   "source": [
    "Big_DF.head()"
   ]
  },
  {
   "cell_type": "markdown",
   "metadata": {},
   "source": [
    "__Exercise 1.4.__ Use the Aggie corpus to answer the following questions. Use plots to support your analysis.\n",
    "\n",
    "* What topics does the Aggie cover the most? Do city articles typically cover different topics than campus articles?\n",
    "\n",
    "* What are the titles of the top 3 pairs of most similar articles? Examine each pair of articles. What words do they have in common?\n",
    "\n",
    "* Do you think this corpus is representative of the Aggie? Why or why not? What kinds of inference can this corpus support? Explain your reasoning.\n",
    "\n",
    "Hints:\n",
    "\n",
    "*   The [nltk book](http://www.nltk.org/book/) and [scikit-learn documentation](http://scikit-learn.org/stable/modules/feature_extraction.html#text-feature-extraction) may be helpful here.\n",
    "\n",
    "*   You can determine whether city articles are \"near\" campus articles from the similarity matrix or with k-nearest neighbors.\n",
    "\n",
    "*   If you want, you can use the [wordcloud](http://amueller.github.io/word_cloud/) package to plot a word cloud. To install the package, run\n",
    "    ```\n",
    "    conda install -c https://conda.anaconda.org/amueller wordcloud\n",
    "    ```\n",
    "    in a terminal. Word clouds look nice and are easy to read, but are less precise than bar plots."
   ]
  },
  {
   "cell_type": "markdown",
   "metadata": {},
   "source": [
    "### 1.4.1  What topics does the Aggie cover the most? Do city articles typically cover different topics than campus articles?"
   ]
  },
  {
   "cell_type": "code",
   "execution_count": 789,
   "metadata": {},
   "outputs": [],
   "source": [
    "# Subset campus\n",
    "Camp_title_doc = Big_DF.title.loc[Big_DF.category == 'campus']\n",
    "Camp_title_join= ' '.join(Camp_title_doc)\n",
    "\n",
    "Camp_text_doc = Big_DF.text.loc[Big_DF.category == 'campus']\n",
    "Camp_text_join= ' '.join(Camp_text_doc)\n",
    "\n",
    "# Subset city\n",
    "City_title_doc = Big_DF.title.loc[Big_DF.category == 'city']\n",
    "City_title_join= ' '.join(City_title_doc)\n",
    "\n",
    "City_text_doc = Big_DF.text.loc[Big_DF.category == 'city']\n",
    "City_text_join= ' '.join(City_text_doc)"
   ]
  },
  {
   "cell_type": "code",
   "execution_count": 788,
   "metadata": {},
   "outputs": [],
   "source": [
    "def wordnet_pos(tag):\n",
    "    \"\"\"Map a Brown POS tag to a WordNet POS tag.\"\"\"\n",
    "    \n",
    "    table = {\"N\": wordnet.NOUN, \"V\": wordnet.VERB, \"R\": wordnet.ADV, \"J\": wordnet.ADJ}\n",
    "    \n",
    "    # Default to a noun.\n",
    "    return table.get(tag[0], wordnet.NOUN)\n",
    "\n",
    "def word_count(text):\n",
    "    \"\"\"Action: Count the world in a text [this function would remove the noise and lemmatize and then do world count\n",
    "       Argument: text a list that containing string ex: [\"I like icecream\"]\n",
    "       Return: a dataframe containing word count and frequency\n",
    "    \"\"\"\n",
    "    blob1 = TextBlob(text)\n",
    "    \n",
    "    #Removing Noise\n",
    "    from nltk.corpus import stopwords  # I need to keep this line in this code chuck to prevent error\n",
    "    stopwords = stopwords.words(\"english\")\n",
    "    new_text = \" \".join(w for w in blob1.words if w.lower() not in stopwords and len(w) > 1)  #len(w)>1 remove any single symbol\n",
    "    blob2 = TextBlob(new_text)\n",
    "    \n",
    "    # lemmatize \n",
    "    tags = [wordnet_pos(x[1]) for x in blob2.pos_tags]\n",
    "    new_text = \" \".join(x.lemmatize(t) for x, t in zip(blob2.words, tags))\n",
    "    blob3 = TextBlob(new_text)\n",
    "    \n",
    "    # convert a dictionary to dataframe\n",
    "    d= blob3.word_counts\n",
    "    df = pd.DataFrame([d], columns= d.keys()).T\n",
    "    df.columns= ['count'] \n",
    "    df['word'] = df.index\n",
    "    df.index = range(len(df.index))\n",
    "    df = df.sort_values('count', axis=0, ascending=False)\n",
    "    total =df['count'].sum()\n",
    "    df['Freq'] = df['count']  /  total\n",
    "    \n",
    "    return (df)"
   ]
  },
  {
   "cell_type": "code",
   "execution_count": 1036,
   "metadata": {},
   "outputs": [
    {
     "data": {
      "text/html": [
       "<div>\n",
       "<style scoped>\n",
       "    .dataframe tbody tr th:only-of-type {\n",
       "        vertical-align: middle;\n",
       "    }\n",
       "\n",
       "    .dataframe tbody tr th {\n",
       "        vertical-align: top;\n",
       "    }\n",
       "\n",
       "    .dataframe thead th {\n",
       "        text-align: right;\n",
       "    }\n",
       "</style>\n",
       "<table border=\"1\" class=\"dataframe\">\n",
       "  <thead>\n",
       "    <tr style=\"text-align: right;\">\n",
       "      <th></th>\n",
       "      <th>count</th>\n",
       "      <th>word</th>\n",
       "      <th>Freq</th>\n",
       "    </tr>\n",
       "  </thead>\n",
       "  <tbody>\n",
       "    <tr>\n",
       "      <th>3</th>\n",
       "      <td>18</td>\n",
       "      <td>uc</td>\n",
       "      <td>0.034351</td>\n",
       "    </tr>\n",
       "    <tr>\n",
       "      <th>34</th>\n",
       "      <td>11</td>\n",
       "      <td>davis</td>\n",
       "      <td>0.020992</td>\n",
       "    </tr>\n",
       "    <tr>\n",
       "      <th>2</th>\n",
       "      <td>8</td>\n",
       "      <td>senate</td>\n",
       "      <td>0.015267</td>\n",
       "    </tr>\n",
       "    <tr>\n",
       "      <th>20</th>\n",
       "      <td>7</td>\n",
       "      <td>student</td>\n",
       "      <td>0.013359</td>\n",
       "    </tr>\n",
       "    <tr>\n",
       "      <th>0</th>\n",
       "      <td>7</td>\n",
       "      <td>last</td>\n",
       "      <td>0.013359</td>\n",
       "    </tr>\n",
       "    <tr>\n",
       "      <th>14</th>\n",
       "      <td>6</td>\n",
       "      <td>chancellor</td>\n",
       "      <td>0.011450</td>\n",
       "    </tr>\n",
       "    <tr>\n",
       "      <th>56</th>\n",
       "      <td>6</td>\n",
       "      <td>senator</td>\n",
       "      <td>0.011450</td>\n",
       "    </tr>\n",
       "    <tr>\n",
       "      <th>57</th>\n",
       "      <td>6</td>\n",
       "      <td>term</td>\n",
       "      <td>0.011450</td>\n",
       "    </tr>\n",
       "    <tr>\n",
       "      <th>1</th>\n",
       "      <td>6</td>\n",
       "      <td>week</td>\n",
       "      <td>0.011450</td>\n",
       "    </tr>\n",
       "    <tr>\n",
       "      <th>58</th>\n",
       "      <td>6</td>\n",
       "      <td>review</td>\n",
       "      <td>0.011450</td>\n",
       "    </tr>\n",
       "  </tbody>\n",
       "</table>\n",
       "</div>"
      ],
      "text/plain": [
       "    count        word      Freq\n",
       "3      18          uc  0.034351\n",
       "34     11       davis  0.020992\n",
       "2       8      senate  0.015267\n",
       "20      7     student  0.013359\n",
       "0       7        last  0.013359\n",
       "14      6  chancellor  0.011450\n",
       "56      6     senator  0.011450\n",
       "57      6        term  0.011450\n",
       "1       6        week  0.011450\n",
       "58      6      review  0.011450"
      ]
     },
     "execution_count": 1036,
     "metadata": {},
     "output_type": "execute_result"
    }
   ],
   "source": [
    "# Function test\n",
    "# Camp Title\n",
    "Camp_title_count= word_count(Camp_title_join)\n",
    "Camp_title_count.head(10)"
   ]
  },
  {
   "cell_type": "code",
   "execution_count": 1037,
   "metadata": {},
   "outputs": [
    {
     "data": {
      "text/html": [
       "<div>\n",
       "<style scoped>\n",
       "    .dataframe tbody tr th:only-of-type {\n",
       "        vertical-align: middle;\n",
       "    }\n",
       "\n",
       "    .dataframe tbody tr th {\n",
       "        vertical-align: top;\n",
       "    }\n",
       "\n",
       "    .dataframe thead th {\n",
       "        text-align: right;\n",
       "    }\n",
       "</style>\n",
       "<table border=\"1\" class=\"dataframe\">\n",
       "  <thead>\n",
       "    <tr style=\"text-align: right;\">\n",
       "      <th></th>\n",
       "      <th>count</th>\n",
       "      <th>word</th>\n",
       "      <th>Freq</th>\n",
       "    </tr>\n",
       "  </thead>\n",
       "  <tbody>\n",
       "    <tr>\n",
       "      <th>1</th>\n",
       "      <td>461</td>\n",
       "      <td>student</td>\n",
       "      <td>0.014466</td>\n",
       "    </tr>\n",
       "    <tr>\n",
       "      <th>2423</th>\n",
       "      <td>336</td>\n",
       "      <td>said</td>\n",
       "      <td>0.010543</td>\n",
       "    </tr>\n",
       "    <tr>\n",
       "      <th>95</th>\n",
       "      <td>320</td>\n",
       "      <td>uc</td>\n",
       "      <td>0.010041</td>\n",
       "    </tr>\n",
       "    <tr>\n",
       "      <th>96</th>\n",
       "      <td>252</td>\n",
       "      <td>davis</td>\n",
       "      <td>0.007908</td>\n",
       "    </tr>\n",
       "    <tr>\n",
       "      <th>287</th>\n",
       "      <td>221</td>\n",
       "      <td>say</td>\n",
       "      <td>0.006935</td>\n",
       "    </tr>\n",
       "    <tr>\n",
       "      <th>372</th>\n",
       "      <td>213</td>\n",
       "      <td>students</td>\n",
       "      <td>0.006684</td>\n",
       "    </tr>\n",
       "    <tr>\n",
       "      <th>4</th>\n",
       "      <td>160</td>\n",
       "      <td>health</td>\n",
       "      <td>0.005021</td>\n",
       "    </tr>\n",
       "    <tr>\n",
       "      <th>281</th>\n",
       "      <td>157</td>\n",
       "      <td>people</td>\n",
       "      <td>0.004927</td>\n",
       "    </tr>\n",
       "    <tr>\n",
       "      <th>42</th>\n",
       "      <td>153</td>\n",
       "      <td>campus</td>\n",
       "      <td>0.004801</td>\n",
       "    </tr>\n",
       "    <tr>\n",
       "      <th>97</th>\n",
       "      <td>145</td>\n",
       "      <td>also</td>\n",
       "      <td>0.004550</td>\n",
       "    </tr>\n",
       "  </tbody>\n",
       "</table>\n",
       "</div>"
      ],
      "text/plain": [
       "      count      word      Freq\n",
       "1       461   student  0.014466\n",
       "2423    336      said  0.010543\n",
       "95      320        uc  0.010041\n",
       "96      252     davis  0.007908\n",
       "287     221       say  0.006935\n",
       "372     213  students  0.006684\n",
       "4       160    health  0.005021\n",
       "281     157    people  0.004927\n",
       "42      153    campus  0.004801\n",
       "97      145      also  0.004550"
      ]
     },
     "execution_count": 1037,
     "metadata": {},
     "output_type": "execute_result"
    }
   ],
   "source": [
    "# Camp Text\n",
    "Camp_text_count= word_count(Camp_text_join)\n",
    "Camp_text_count.head(10)"
   ]
  },
  {
   "cell_type": "code",
   "execution_count": 1038,
   "metadata": {},
   "outputs": [
    {
     "data": {
      "text/html": [
       "<div>\n",
       "<style scoped>\n",
       "    .dataframe tbody tr th:only-of-type {\n",
       "        vertical-align: middle;\n",
       "    }\n",
       "\n",
       "    .dataframe tbody tr th {\n",
       "        vertical-align: top;\n",
       "    }\n",
       "\n",
       "    .dataframe thead th {\n",
       "        text-align: right;\n",
       "    }\n",
       "</style>\n",
       "<table border=\"1\" class=\"dataframe\">\n",
       "  <thead>\n",
       "    <tr style=\"text-align: right;\">\n",
       "      <th></th>\n",
       "      <th>count</th>\n",
       "      <th>word</th>\n",
       "      <th>Freq</th>\n",
       "    </tr>\n",
       "  </thead>\n",
       "  <tbody>\n",
       "    <tr>\n",
       "      <th>2</th>\n",
       "      <td>22</td>\n",
       "      <td>davis</td>\n",
       "      <td>0.056995</td>\n",
       "    </tr>\n",
       "    <tr>\n",
       "      <th>0</th>\n",
       "      <td>15</td>\n",
       "      <td>police</td>\n",
       "      <td>0.038860</td>\n",
       "    </tr>\n",
       "    <tr>\n",
       "      <th>1</th>\n",
       "      <td>13</td>\n",
       "      <td>logs</td>\n",
       "      <td>0.033679</td>\n",
       "    </tr>\n",
       "    <tr>\n",
       "      <th>51</th>\n",
       "      <td>12</td>\n",
       "      <td>sacramento</td>\n",
       "      <td>0.031088</td>\n",
       "    </tr>\n",
       "    <tr>\n",
       "      <th>14</th>\n",
       "      <td>9</td>\n",
       "      <td>new</td>\n",
       "      <td>0.023316</td>\n",
       "    </tr>\n",
       "    <tr>\n",
       "      <th>28</th>\n",
       "      <td>9</td>\n",
       "      <td>city</td>\n",
       "      <td>0.023316</td>\n",
       "    </tr>\n",
       "    <tr>\n",
       "      <th>43</th>\n",
       "      <td>7</td>\n",
       "      <td>council</td>\n",
       "      <td>0.018135</td>\n",
       "    </tr>\n",
       "    <tr>\n",
       "      <th>50</th>\n",
       "      <td>5</td>\n",
       "      <td>come</td>\n",
       "      <td>0.012953</td>\n",
       "    </tr>\n",
       "    <tr>\n",
       "      <th>97</th>\n",
       "      <td>3</td>\n",
       "      <td>community</td>\n",
       "      <td>0.007772</td>\n",
       "    </tr>\n",
       "    <tr>\n",
       "      <th>150</th>\n",
       "      <td>3</td>\n",
       "      <td>social</td>\n",
       "      <td>0.007772</td>\n",
       "    </tr>\n",
       "  </tbody>\n",
       "</table>\n",
       "</div>"
      ],
      "text/plain": [
       "     count        word      Freq\n",
       "2       22       davis  0.056995\n",
       "0       15      police  0.038860\n",
       "1       13        logs  0.033679\n",
       "51      12  sacramento  0.031088\n",
       "14       9         new  0.023316\n",
       "28       9        city  0.023316\n",
       "43       7     council  0.018135\n",
       "50       5        come  0.012953\n",
       "97       3   community  0.007772\n",
       "150      3      social  0.007772"
      ]
     },
     "execution_count": 1038,
     "metadata": {},
     "output_type": "execute_result"
    }
   ],
   "source": [
    "# City Title\n",
    "City_title_count= word_count(City_title_join)\n",
    "City_title_count.head(10)"
   ]
  },
  {
   "cell_type": "code",
   "execution_count": 1039,
   "metadata": {},
   "outputs": [
    {
     "data": {
      "text/html": [
       "<div>\n",
       "<style scoped>\n",
       "    .dataframe tbody tr th:only-of-type {\n",
       "        vertical-align: middle;\n",
       "    }\n",
       "\n",
       "    .dataframe tbody tr th {\n",
       "        vertical-align: top;\n",
       "    }\n",
       "\n",
       "    .dataframe thead th {\n",
       "        text-align: right;\n",
       "    }\n",
       "</style>\n",
       "<table border=\"1\" class=\"dataframe\">\n",
       "  <thead>\n",
       "    <tr style=\"text-align: right;\">\n",
       "      <th></th>\n",
       "      <th>count</th>\n",
       "      <th>word</th>\n",
       "      <th>Freq</th>\n",
       "    </tr>\n",
       "  </thead>\n",
       "  <tbody>\n",
       "    <tr>\n",
       "      <th>93</th>\n",
       "      <td>218</td>\n",
       "      <td>davis</td>\n",
       "      <td>0.013201</td>\n",
       "    </tr>\n",
       "    <tr>\n",
       "      <th>495</th>\n",
       "      <td>171</td>\n",
       "      <td>city</td>\n",
       "      <td>0.010355</td>\n",
       "    </tr>\n",
       "    <tr>\n",
       "      <th>2497</th>\n",
       "      <td>157</td>\n",
       "      <td>said</td>\n",
       "      <td>0.009507</td>\n",
       "    </tr>\n",
       "    <tr>\n",
       "      <th>123</th>\n",
       "      <td>155</td>\n",
       "      <td>say</td>\n",
       "      <td>0.009386</td>\n",
       "    </tr>\n",
       "    <tr>\n",
       "      <th>165</th>\n",
       "      <td>104</td>\n",
       "      <td>people</td>\n",
       "      <td>0.006298</td>\n",
       "    </tr>\n",
       "    <tr>\n",
       "      <th>35</th>\n",
       "      <td>90</td>\n",
       "      <td>also</td>\n",
       "      <td>0.005450</td>\n",
       "    </tr>\n",
       "    <tr>\n",
       "      <th>47</th>\n",
       "      <td>79</td>\n",
       "      <td>new</td>\n",
       "      <td>0.004784</td>\n",
       "    </tr>\n",
       "    <tr>\n",
       "      <th>215</th>\n",
       "      <td>77</td>\n",
       "      <td>community</td>\n",
       "      <td>0.004663</td>\n",
       "    </tr>\n",
       "    <tr>\n",
       "      <th>13</th>\n",
       "      <td>76</td>\n",
       "      <td>party</td>\n",
       "      <td>0.004602</td>\n",
       "    </tr>\n",
       "    <tr>\n",
       "      <th>695</th>\n",
       "      <td>72</td>\n",
       "      <td>project</td>\n",
       "      <td>0.004360</td>\n",
       "    </tr>\n",
       "  </tbody>\n",
       "</table>\n",
       "</div>"
      ],
      "text/plain": [
       "      count       word      Freq\n",
       "93      218      davis  0.013201\n",
       "495     171       city  0.010355\n",
       "2497    157       said  0.009507\n",
       "123     155        say  0.009386\n",
       "165     104     people  0.006298\n",
       "35       90       also  0.005450\n",
       "47       79        new  0.004784\n",
       "215      77  community  0.004663\n",
       "13       76      party  0.004602\n",
       "695      72    project  0.004360"
      ]
     },
     "execution_count": 1039,
     "metadata": {},
     "output_type": "execute_result"
    }
   ],
   "source": [
    "# City Text\n",
    "City_text_count= word_count(City_text_join)\n",
    "City_text_count.head(10)"
   ]
  },
  {
   "cell_type": "code",
   "execution_count": 955,
   "metadata": {},
   "outputs": [
    {
     "name": "stderr",
     "output_type": "stream",
     "text": [
      "C:\\Users\\WeiKuang\\Anaconda3\\lib\\site-packages\\seaborn\\categorical.py:1460: FutureWarning: remove_na is deprecated and is a private function. Do not use.\n",
      "  stat_data = remove_na(group_data)\n"
     ]
    },
    {
     "data": {
      "text/plain": [
       "(array([ 0,  1,  2,  3,  4,  5,  6,  7,  8,  9, 10, 11, 12, 13, 14, 15, 16,\n",
       "        17, 18, 19]), <a list of 20 Text yticklabel objects>)"
      ]
     },
     "execution_count": 955,
     "metadata": {},
     "output_type": "execute_result"
    },
    {
     "data": {
      "image/png": "[encoded data removed]",
      "text/plain": [
       "<matplotlib.figure.Figure at 0x185c8c5ac50>"
      ]
     },
     "metadata": {},
     "output_type": "display_data"
    }
   ],
   "source": [
    "# Camp Title\n",
    "df=Camp_title_count[0:20]\n",
    "sns.barplot( x='Freq' , y='word', data = df, palette= \"Greens_r\")\n",
    "\n",
    "sns.set(rc={'figure.figsize':(10,8)})\n",
    "plt.title('Most Frequently Occuring Words- Campus Title',fontsize=20 )\n",
    "plt.xlabel(\"FrequencyWord\", fontsize=20)\n",
    "plt.ylabel(\"Word\", fontsize=20)\n",
    "plt.yticks(fontsize=20)"
   ]
  },
  {
   "cell_type": "code",
   "execution_count": 956,
   "metadata": {},
   "outputs": [
    {
     "name": "stderr",
     "output_type": "stream",
     "text": [
      "C:\\Users\\WeiKuang\\Anaconda3\\lib\\site-packages\\seaborn\\categorical.py:1460: FutureWarning: remove_na is deprecated and is a private function. Do not use.\n",
      "  stat_data = remove_na(group_data)\n"
     ]
    },
    {
     "data": {
      "text/plain": [
       "(array([ 0,  1,  2,  3,  4,  5,  6,  7,  8,  9, 10, 11, 12, 13, 14, 15, 16,\n",
       "        17, 18, 19]), <a list of 20 Text yticklabel objects>)"
      ]
     },
     "execution_count": 956,
     "metadata": {},
     "output_type": "execute_result"
    },
    {
     "data": {
      "image/png": "[encoded data removed]",
      "text/plain": [
       "<matplotlib.figure.Figure at 0x185c6a739e8>"
      ]
     },
     "metadata": {},
     "output_type": "display_data"
    }
   ],
   "source": [
    "# Camp Title\n",
    "df=Camp_text_count[0:20]\n",
    "sns.barplot( x='Freq' , y='word', data = df, palette= \"GnBu_d\")\n",
    "\n",
    "sns.set(rc={'figure.figsize':(10,8)})\n",
    "plt.title('Most Frequently Occuring Words- Campus Text',fontsize=20 )\n",
    "plt.xlabel(\"FrequencyWord\", fontsize=20)\n",
    "plt.ylabel(\"Word\", fontsize=20)\n",
    "plt.yticks(fontsize=20)"
   ]
  },
  {
   "cell_type": "code",
   "execution_count": 957,
   "metadata": {},
   "outputs": [
    {
     "name": "stderr",
     "output_type": "stream",
     "text": [
      "C:\\Users\\WeiKuang\\Anaconda3\\lib\\site-packages\\seaborn\\categorical.py:1460: FutureWarning: remove_na is deprecated and is a private function. Do not use.\n",
      "  stat_data = remove_na(group_data)\n"
     ]
    },
    {
     "data": {
      "text/plain": [
       "(array([ 0,  1,  2,  3,  4,  5,  6,  7,  8,  9, 10, 11, 12, 13, 14, 15, 16,\n",
       "        17, 18, 19]), <a list of 20 Text yticklabel objects>)"
      ]
     },
     "execution_count": 957,
     "metadata": {},
     "output_type": "execute_result"
    },
    {
     "data": {
      "image/png": "[encoded data removed]",
      "text/plain": [
       "<matplotlib.figure.Figure at 0x185c9019fd0>"
      ]
     },
     "metadata": {},
     "output_type": "display_data"
    }
   ],
   "source": [
    "# City Title\n",
    "df=City_title_count[0:20]\n",
    "sns.barplot( x='Freq' , y='word', data = df, palette= \"Greys_r\")\n",
    "\n",
    "sns.set(rc={'figure.figsize':(10,8)})\n",
    "plt.title('Most Frequently Occuring Words - City Title',fontsize=20 )\n",
    "plt.xlabel(\"FrequencyWord\", fontsize=20)\n",
    "plt.ylabel(\"Word\", fontsize=20)\n",
    "plt.yticks(fontsize=20)"
   ]
  },
  {
   "cell_type": "code",
   "execution_count": 958,
   "metadata": {
    "scrolled": true
   },
   "outputs": [
    {
     "name": "stderr",
     "output_type": "stream",
     "text": [
      "C:\\Users\\WeiKuang\\Anaconda3\\lib\\site-packages\\seaborn\\categorical.py:1460: FutureWarning: remove_na is deprecated and is a private function. Do not use.\n",
      "  stat_data = remove_na(group_data)\n"
     ]
    },
    {
     "data": {
      "text/plain": [
       "(array([ 0,  1,  2,  3,  4,  5,  6,  7,  8,  9, 10, 11, 12, 13, 14, 15, 16,\n",
       "        17, 18, 19]), <a list of 20 Text yticklabel objects>)"
      ]
     },
     "execution_count": 958,
     "metadata": {},
     "output_type": "execute_result"
    },
    {
     "data": {
      "image/png": "[encoded data removed]",
      "text/plain": [
       "<matplotlib.figure.Figure at 0x185c89df7b8>"
      ]
     },
     "metadata": {},
     "output_type": "display_data"
    }
   ],
   "source": [
    "# City Text\n",
    "df=City_text_count[0:20]\n",
    "sns.barplot( x='Freq' , y='word', data = df, palette= \"Reds_r\")\n",
    "\n",
    "sns.set(rc={'figure.figsize':(10,8)})\n",
    "plt.title('Most Frequently Occuring Words- City Text',fontsize=20 )\n",
    "plt.xlabel(\"FrequencyWord\", fontsize=20)\n",
    "plt.ylabel(\"Word\", fontsize=20)\n",
    "plt.yticks(fontsize=20)"
   ]
  },
  {
   "cell_type": "markdown",
   "metadata": {},
   "source": [
    "## ANS to 1.4.1 \n",
    "### What topics does the Aggie cover the most? \n",
    "Based on the word count of News Title for campus news, the most common words are uc davis, senate, student, chancellor, term, mental, tuition. Based on the word count in Article Text for campus news, the most common words are student, said, uc davis, health, asucd, community, and major. Thus, topics that campus news cover the most are like administration, school police, mental-related topics, and tuition.\n",
    "\n",
    "Together, topics that campus news covers the most are like administration, school police, mental-related topics, student life, and tuition.\n",
    "\n",
    "### Do city articles typically cover different topics than campus articles?\n",
    "First, let's see the word count for article title and text in the City News. Common words in article title of City are davis, police, logs, sacramento, council, community, local, shelter, homeless and so forth. Common words in article text of city are davis, city, said, people, new, community, party, project, bike, need, street and so forth. These term in City news gave me a sense that city news focus more on city's administration, local community, police-related information, and the care of homeless people.\n",
    "\n",
    "Thus, I would say city articles typically cover different topics than campus articles."
   ]
  },
  {
   "cell_type": "markdown",
   "metadata": {},
   "source": [
    "### 1.4.2 What are the titles of the top 3 pairs of most similar articles? Examine each pair of articles. What words do they have in common?"
   ]
  },
  {
   "cell_type": "code",
   "execution_count": 803,
   "metadata": {},
   "outputs": [
    {
     "data": {
      "text/html": [
       "<div>\n",
       "<style scoped>\n",
       "    .dataframe tbody tr th:only-of-type {\n",
       "        vertical-align: middle;\n",
       "    }\n",
       "\n",
       "    .dataframe tbody tr th {\n",
       "        vertical-align: top;\n",
       "    }\n",
       "\n",
       "    .dataframe thead th {\n",
       "        text-align: right;\n",
       "    }\n",
       "</style>\n",
       "<table border=\"1\" class=\"dataframe\">\n",
       "  <thead>\n",
       "    <tr style=\"text-align: right;\">\n",
       "      <th></th>\n",
       "      <th>category</th>\n",
       "      <th>author</th>\n",
       "      <th>text</th>\n",
       "      <th>title</th>\n",
       "      <th>url</th>\n",
       "    </tr>\n",
       "  </thead>\n",
       "  <tbody>\n",
       "    <tr>\n",
       "      <th>0</th>\n",
       "      <td>campus</td>\n",
       "      <td>George Liao</td>\n",
       "      <td>Funding for Student Advocates for Mental Healt...</td>\n",
       "      <td>Last week in Senate</td>\n",
       "      <td>https://theaggie.org/2018/03/13/last-week-in-s...</td>\n",
       "    </tr>\n",
       "    <tr>\n",
       "      <th>1</th>\n",
       "      <td>campus</td>\n",
       "      <td>Hannah Holzer</td>\n",
       "      <td>Proposed $978 tuition hikeAt the upcoming UC R...</td>\n",
       "      <td>UC Regents will vote on nonresident tuition hi...</td>\n",
       "      <td>https://theaggie.org/2018/03/12/uc-regents-wil...</td>\n",
       "    </tr>\n",
       "    <tr>\n",
       "      <th>2</th>\n",
       "      <td>campus</td>\n",
       "      <td>Sabrina Habchi</td>\n",
       "      <td>Controversy over academic honesty suspicions i...</td>\n",
       "      <td>Cheating allegations in SOC 46A</td>\n",
       "      <td>https://theaggie.org/2018/03/12/cheating-alleg...</td>\n",
       "    </tr>\n",
       "    <tr>\n",
       "      <th>3</th>\n",
       "      <td>campus</td>\n",
       "      <td>Jacqueline Moore</td>\n",
       "      <td>Task forces to review affordable housing food ...</td>\n",
       "      <td>Chancellor creates three task forces to improv...</td>\n",
       "      <td>https://theaggie.org/2018/03/12/chancellor-cre...</td>\n",
       "    </tr>\n",
       "    <tr>\n",
       "      <th>4</th>\n",
       "      <td>campus</td>\n",
       "      <td>Jacqueline Moore</td>\n",
       "      <td>Guy-Uriel Charles speaks at King HallDuke Univ...</td>\n",
       "      <td>Duke law professor presents lecture on voting ...</td>\n",
       "      <td>https://theaggie.org/2018/03/06/duke-law-profe...</td>\n",
       "    </tr>\n",
       "  </tbody>\n",
       "</table>\n",
       "</div>"
      ],
      "text/plain": [
       "  category             author  \\\n",
       "0   campus       George Liao    \n",
       "1   campus     Hannah Holzer    \n",
       "2   campus    Sabrina Habchi    \n",
       "3   campus  Jacqueline Moore    \n",
       "4   campus  Jacqueline Moore    \n",
       "\n",
       "                                                text  \\\n",
       "0  Funding for Student Advocates for Mental Healt...   \n",
       "1  Proposed $978 tuition hikeAt the upcoming UC R...   \n",
       "2  Controversy over academic honesty suspicions i...   \n",
       "3  Task forces to review affordable housing food ...   \n",
       "4  Guy-Uriel Charles speaks at King HallDuke Univ...   \n",
       "\n",
       "                                               title  \\\n",
       "0                                Last week in Senate   \n",
       "1  UC Regents will vote on nonresident tuition hi...   \n",
       "2                    Cheating allegations in SOC 46A   \n",
       "3  Chancellor creates three task forces to improv...   \n",
       "4  Duke law professor presents lecture on voting ...   \n",
       "\n",
       "                                                 url  \n",
       "0  https://theaggie.org/2018/03/13/last-week-in-s...  \n",
       "1  https://theaggie.org/2018/03/12/uc-regents-wil...  \n",
       "2  https://theaggie.org/2018/03/12/cheating-alleg...  \n",
       "3  https://theaggie.org/2018/03/12/chancellor-cre...  \n",
       "4  https://theaggie.org/2018/03/06/duke-law-profe...  "
      ]
     },
     "execution_count": 803,
     "metadata": {},
     "output_type": "execute_result"
    }
   ],
   "source": [
    "Big_DF.head()"
   ]
  },
  {
   "cell_type": "code",
   "execution_count": 844,
   "metadata": {
    "scrolled": true
   },
   "outputs": [],
   "source": [
    "# Find multiple maximum values in a 2d array fast\n",
    "# https://stackoverflow.com/questions/20825990/find-multiple-maximum-values-in-a-2d-array-fast\n",
    "\n",
    "def nlargest_indices(array, k):\n",
    "    \"\"\"nlargest_indices finds the n largest values in arr and then returns the x and y indices \n",
    "        Arg: arr is the array, n is the threshold\n",
    "        Return: it returns the x and y indices\n",
    "        Author: Warren Weckesser\n",
    "    \"\"\"\n",
    "    uniques = np.unique(array)\n",
    "    threshold = uniques[-k]\n",
    "    return np.where(array >= threshold)"
   ]
  },
  {
   "cell_type": "code",
   "execution_count": 1029,
   "metadata": {},
   "outputs": [],
   "source": [
    "# clean the text before calculating the similarity. The purpose is to remove stopwords\n",
    "DOC = []\n",
    "\n",
    "for text in Big_DF['text']:\n",
    "    blob1 = TextBlob(text)\n",
    "    \n",
    "    #Removing Noise\n",
    "    from nltk.corpus import stopwords  # I need to keep this line in this code chuck to prevent error\n",
    "    stopwords = stopwords.words(\"english\")\n",
    "    new_text = \" \".join(w for w in blob1.words if w.lower() not in stopwords and len(w) > 1)  #len(w)>1 remove any single symbol\n",
    "    blob2 = TextBlob(new_text)\n",
    "    \n",
    "    # lemmatize \n",
    "    tags = [wordnet_pos(x[1]) for x in blob2.pos_tags]\n",
    "    new_text = \" \".join(x.lemmatize(t) for x, t in zip(blob2.words, tags))\n",
    "    blob3 = [str(TextBlob(new_text)) ]\n",
    "    \n",
    "    DOC = DOC+blob3\n",
    "    \n",
    "#DOC"
   ]
  },
  {
   "cell_type": "code",
   "execution_count": 1030,
   "metadata": {},
   "outputs": [
    {
     "data": {
      "text/plain": [
       "150"
      ]
     },
     "execution_count": 1030,
     "metadata": {},
     "output_type": "execute_result"
    }
   ],
   "source": [
    "len(DOC)"
   ]
  },
  {
   "cell_type": "code",
   "execution_count": 989,
   "metadata": {},
   "outputs": [],
   "source": [
    "DOC_rm = []\n",
    "\n",
    "for text in DOC:\n",
    "    blob1 = TextBlob(text)\n",
    "    \n",
    "    #Removing Noise\n",
    "    from nltk.corpus import stopwords  # I need to keep this line in this code chuck to prevent error\n",
    "    stopwords = stopwords.words(\"english\")\n",
    "    new_text = \" \".join(w for w in blob1.words if w.lower() not in stopwords and len(w) > 1)  #len(w)>1 remove any single symbol\n",
    "    blob2 = TextBlob(new_text)\n",
    "    \n",
    "    # lemmatize \n",
    "    tags = [wordnet_pos(x[1]) for x in blob2.pos_tags]\n",
    "    new_text = \" \".join(x.lemmatize(t) for x, t in zip(blob2.words, tags))\n",
    "    blob3 = [str(TextBlob(new_text)) ]\n",
    "    \n",
    "    DOC_rm = DOC_rm+blob3"
   ]
  },
  {
   "cell_type": "code",
   "execution_count": 1014,
   "metadata": {},
   "outputs": [
    {
     "name": "stdout",
     "output_type": "stream",
     "text": [
      "[20 25 63 74]\n",
      "[ 8 19 53 44]\n"
     ]
    }
   ],
   "source": [
    "# Term frequency-inverse document frequency\n",
    "\n",
    "# data inout\n",
    "tf_idf = TfidfVectorizer().fit_transform(DOC_rm)\n",
    "\n",
    "# Use .A to display a sparse matrix.\n",
    "Similarity_Mat = (tf_idf * tf_idf.T).A\n",
    "\n",
    "# Make the diagonal as 0\n",
    "np.fill_diagonal(Similarity_Mat, 0)\n",
    "\n",
    "# Make the upper tri as 0\n",
    "Similarity_Mat *= np.tri(*Similarity_Mat.shape)\n",
    "\n",
    "# find the indicies\n",
    "x, y = nlargest_indices(Similarity_Mat, 4)\n",
    "print(x)\n",
    "print(y)"
   ]
  },
  {
   "cell_type": "code",
   "execution_count": 1028,
   "metadata": {},
   "outputs": [
    {
     "name": "stdout",
     "output_type": "stream",
     "text": [
      "0.9996973964438675\n",
      "700 students to attend 24-hour HackDavis hackathon on Jan. 20\n",
      "700 students to attend 24-hour HackDavis hackathon on Jan. 20\n",
      "https://theaggie.org/2018/01/19/700-students-attend-24-hour-hackdavis-hackathon-jan-20-2/\n",
      "https://theaggie.org/2018/01/25/700-students-attend-24-hour-hackdavis-hackathon-jan-20/\n",
      "0.7184949376218452\n",
      "Second student-run Mental Health Conference will offer accessible mental health information, resources\n",
      "Sold-out Mental Health Conference featured keynotes from Sacramento mayor, UCSB shooting survivor\n",
      "0.5645133622227345\n",
      "Adam Hatefi and Shreya Deshpande disqualified after missing mandatory Candidate Workshop\n",
      "Executive ticket candidates claim biases against non-ASUCD affiliated individuals\n",
      "0.5241002609459692\n",
      "2018 ASUCD Winter Elections — meet the candidates\n",
      "ASUCD Senate candidates debate to largely inattentive crowd\n"
     ]
    }
   ],
   "source": [
    "# check the pairs of articule with higest similarity\n",
    "print(Similarity_Mat[63,53])\n",
    "print(Big_DF.title[63])\n",
    "print(Big_DF.title[53])\n",
    "print( Big_DF.url[63])\n",
    "print(Big_DF.url[53])\n",
    "\n",
    "print(Similarity_Mat[74,44])\n",
    "print(Big_DF.title[74])\n",
    "print(Big_DF.title[44])\n",
    "\n",
    "print(Similarity_Mat[20,8])\n",
    "print(Big_DF.title[20])\n",
    "print(Big_DF.title[8])\n",
    "\n",
    "print(Similarity_Mat[25,19])\n",
    "print(Big_DF.title[25])\n",
    "print(Big_DF.title[19])"
   ]
  },
  {
   "cell_type": "code",
   "execution_count": 1017,
   "metadata": {},
   "outputs": [],
   "source": [
    "# select the pair of articles \n",
    "D20 = DOC[20]\n",
    "D8 = DOC[8]\n",
    "D63 = DOC[63]\n",
    "D53 = DOC[53]\n",
    "D74 = DOC[74]\n",
    "D44 = DOC[44]\n",
    "D25 = DOC[25]\n",
    "D19 = DOC[19]"
   ]
  },
  {
   "cell_type": "code",
   "execution_count": 1018,
   "metadata": {},
   "outputs": [],
   "source": [
    "# Get the word count for each article text\n",
    "D20_count= word_count(D20)\n",
    "D8_count= word_count(D8)\n",
    "D63_count= word_count(D63)\n",
    "D53_count= word_count(D53)\n",
    "D74_count= word_count(D74)\n",
    "D44_count= word_count(D44)\n",
    "D25_count= word_count(D25)\n",
    "D19_count= word_count(D19)"
   ]
  },
  {
   "cell_type": "code",
   "execution_count": 1031,
   "metadata": {},
   "outputs": [
    {
     "name": "stderr",
     "output_type": "stream",
     "text": [
      "C:\\Users\\WeiKuang\\Anaconda3\\lib\\site-packages\\seaborn\\categorical.py:1460: FutureWarning: remove_na is deprecated and is a private function. Do not use.\n",
      "  stat_data = remove_na(group_data)\n"
     ]
    },
    {
     "data": {
      "image/png": "[encoded data removed]",
      "text/plain": [
       "<matplotlib.figure.Figure at 0x185cc65e0f0>"
      ]
     },
     "metadata": {},
     "output_type": "display_data"
    }
   ],
   "source": [
    "# Set up the matplotlib figure\n",
    "f, (ax1, ax2) = plt.subplots(1, 2, figsize=(8, 6), sharex=True)\n",
    "\n",
    "df=D20_count[0:10]\n",
    "sns.barplot( x='Freq' , y='word', data = df, palette=\"Reds_r\", ax=ax1)\n",
    "ax1.set_ylabel(\"Word\")\n",
    "ax1.set_xlabel(\"Article 20\", fontsize=15)\n",
    "\n",
    "df=D8_count[0:10]\n",
    "sns.barplot( x='Freq' , y='word', data = df, palette=\"Oranges_r\", ax=ax2)\n",
    "ax2.set_ylabel(\"Word\")\n",
    "ax2.set_xlabel(\"Article 8\",fontsize=15)\n",
    "\n",
    "# Finalize the plot\n",
    "plt.tight_layout(h_pad=3)"
   ]
  },
  {
   "cell_type": "code",
   "execution_count": 1032,
   "metadata": {},
   "outputs": [
    {
     "name": "stderr",
     "output_type": "stream",
     "text": [
      "C:\\Users\\WeiKuang\\Anaconda3\\lib\\site-packages\\seaborn\\categorical.py:1460: FutureWarning: remove_na is deprecated and is a private function. Do not use.\n",
      "  stat_data = remove_na(group_data)\n"
     ]
    },
    {
     "data": {
      "image/png": "[encoded data removed]",
      "text/plain": [
       "<matplotlib.figure.Figure at 0x185ce388748>"
      ]
     },
     "metadata": {},
     "output_type": "display_data"
    }
   ],
   "source": [
    "# Set up the matplotlib figure\n",
    "f, (ax1, ax2) = plt.subplots(1, 2, figsize=(8, 6), sharex=True)\n",
    "\n",
    "df=D63_count[0:10]\n",
    "sns.barplot( x='Freq' , y='word', data = df, palette=\"Purples_r\", ax=ax1)\n",
    "ax1.set_ylabel(\"Word\")\n",
    "ax1.set_xlabel(\"Article 63\", fontsize=15)\n",
    "\n",
    "df=D53_count[0:10]\n",
    "sns.barplot( x='Freq' , y='word', data = df, palette=\"GnBu_d\", ax=ax2)\n",
    "ax2.set_ylabel(\"Word\")\n",
    "ax2.set_xlabel(\"Article 53\",fontsize=15)\n",
    "\n",
    "\n",
    "# Finalize the plot\n",
    "plt.tight_layout(h_pad=3)"
   ]
  },
  {
   "cell_type": "code",
   "execution_count": 1033,
   "metadata": {},
   "outputs": [
    {
     "name": "stderr",
     "output_type": "stream",
     "text": [
      "C:\\Users\\WeiKuang\\Anaconda3\\lib\\site-packages\\seaborn\\categorical.py:1460: FutureWarning: remove_na is deprecated and is a private function. Do not use.\n",
      "  stat_data = remove_na(group_data)\n"
     ]
    },
    {
     "data": {
      "image/png": "[encoded data removed]",
      "text/plain": [
       "<matplotlib.figure.Figure at 0x185ce388a58>"
      ]
     },
     "metadata": {},
     "output_type": "display_data"
    }
   ],
   "source": [
    "# Set up the matplotlib figure\n",
    "f, (ax1, ax2) = plt.subplots(1, 2, figsize=(8, 6), sharex=True)\n",
    "\n",
    "df=D74_count[0:10]\n",
    "sns.barplot( x='Freq' , y='word', data = df, palette=\"BuPu_r\", ax=ax1)\n",
    "ax1.set_ylabel(\"Word\")\n",
    "ax1.set_xlabel(\"Article 74\", fontsize=15)\n",
    "\n",
    "df=D44_count[0:10]\n",
    "sns.barplot( x='Freq' , y='word', data = df, palette=\"Greens_r\", ax=ax2)\n",
    "ax2.set_ylabel(\"Word\")\n",
    "ax2.set_xlabel(\"Article 44\",fontsize=15)\n",
    "\n",
    "\n",
    "# Finalize the plot\n",
    "\n",
    "plt.tight_layout(h_pad=3)"
   ]
  },
  {
   "cell_type": "code",
   "execution_count": 1034,
   "metadata": {},
   "outputs": [
    {
     "name": "stderr",
     "output_type": "stream",
     "text": [
      "C:\\Users\\WeiKuang\\Anaconda3\\lib\\site-packages\\seaborn\\categorical.py:1460: FutureWarning: remove_na is deprecated and is a private function. Do not use.\n",
      "  stat_data = remove_na(group_data)\n"
     ]
    },
    {
     "data": {
      "image/png": "[encoded data removed]",
      "text/plain": [
       "<matplotlib.figure.Figure at 0x185ce5742e8>"
      ]
     },
     "metadata": {},
     "output_type": "display_data"
    }
   ],
   "source": [
    "# Set up the matplotlib figure\n",
    "f, (ax1, ax2) = plt.subplots(1, 2, figsize=(8, 6), sharex=True)\n",
    "\n",
    "df=D25_count[0:10]\n",
    "sns.barplot( x='Freq' , y='word', data = df, palette=\"cool_r\", ax=ax1)\n",
    "ax1.set_ylabel(\"Word\")\n",
    "ax1.set_xlabel(\"Article 25\", fontsize=15)\n",
    "\n",
    "df=D19_count[0:10]\n",
    "sns.barplot( x='Freq' , y='word', data = df, palette=\"copper_r\", ax=ax2)\n",
    "ax2.set_ylabel(\"Word\")\n",
    "ax2.set_xlabel(\"Article 19\",fontsize=15)\n",
    "\n",
    "# Finalize the plot\n",
    "plt.tight_layout(h_pad=3)"
   ]
  },
  {
   "cell_type": "code",
   "execution_count": 1003,
   "metadata": {},
   "outputs": [],
   "source": [
    "#pd.DataFrame(Similarity_Mat)"
   ]
  },
  {
   "cell_type": "markdown",
   "metadata": {},
   "source": [
    "### ANS to 1.4.2 \n",
    "### What are the titles of the top 3 pairs of most similar articles? \n",
    "First, my top pair of articles are accidentally the same article with the title \"700 students to attend 24-hour HackDavis hackathon on Jan. 20\". This article might appear in the news webpage twice in the different page, so I get them when doing web scrapping. Thus, after removing this false pairs, my top 3 pairs of most similar articles with the similarity (Term frequency-inverse document frequency) are:\n",
    "* (1) articles(74,44) - similarity = 0.7184949376218452\n",
    "* (2) articles(20,8) - similarity = 0.5645133622227345 \n",
    "* (3) articles(25,19) - similarity = 0.5241002609459692  \n",
    "\n",
    "These titles are: \n",
    "* Pair1: article74: Second student-run Mental Health Conference will offer accessible mental health information, resources\n",
    "* Pair1: article44: Sold-out Mental Health Conference featured keynotes from Sacramento mayor, UCSB shooting survivor\n",
    "\n",
    "\n",
    "* Pair2: article20: Adam Hatefi and Shreya Deshpande disqualified after missing mandatory Candidate Workshop\n",
    "* Pair2: article8: Executive ticket candidates claim biases against non-ASUCD affiliated individuals\n",
    "\n",
    "\n",
    "* Pair3: article25: 2018 ASUCD Winter Elections — meet the candidates\n",
    "* Pair3: article19: ASUCD Senate candidates debate to largely inattentive crowd\n",
    "\n",
    "### Examine each pair of articles. What words do they have in common?\n",
    "By viewing the barplot of word count for each pair. The top common words are:\n",
    "* Pair1: mental, health, conference, say, initiative, uc\n",
    "* Pair2: committee, elections, asucd\n",
    "* Pair3: student, asucd\n"
   ]
  },
  {
   "cell_type": "markdown",
   "metadata": {},
   "source": [
    "### ANS to 1.4.3 Do you think this corpus is representative of the Aggie? Why or why not? What kinds of inference can this corpus support? Explain your reasoning.\n",
    "Ideally, if time allows, I would do web scraping in different categories, and then evaluate the similarity between news(campus and city) and other categories. The similarity matrix will reveal whether this corpus(news - campus and city) is representative of the Aggie.\n",
    "\n",
    "Without this information, I would guess that this corpus might be representative of the Aggie. Because our corpus is from news category, it this section is expected to cover most of the events in other category. For example, an art festival event might be on art category but also on the news. Similarly, if UC Davis wins any sport game, the news and sports categories should both report similar topics on this event.\n",
    "\n",
    "However, my guess can be wrong. By the current corpus I have, the inference I could make is that the news category covers the topics related to mental-related topics, student life, and tuition, according to the 1.4.1 information."
   ]
  },
  {
   "cell_type": "code",
   "execution_count": null,
   "metadata": {
    "collapsed": true
   },
   "outputs": [],
   "source": []
  }
 ],
 "metadata": {
  "kernelspec": {
   "display_name": "Python 3",
   "language": "python",
   "name": "python3"
  },
  "language_info": {
   "codemirror_mode": {
    "name": "ipython",
    "version": 3
   },
   "file_extension": ".py",
   "mimetype": "text/x-python",
   "name": "python",
   "nbconvert_exporter": "python",
   "pygments_lexer": "ipython3",
   "version": "3.6.3"
  }
 },
 "nbformat": 4,
 "nbformat_minor": 2
}

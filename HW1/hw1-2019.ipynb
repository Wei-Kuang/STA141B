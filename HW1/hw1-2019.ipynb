{
 "cells": [
  {
   "cell_type": "markdown",
   "metadata": {},
   "source": [
    "# STA 141B: Homework 1\n",
    "Winter 2018"
   ]
  },
  {
   "cell_type": "markdown",
   "metadata": {},
   "source": [
    "## Information\n",
    "\n",
    "After the colons (in the same line) please write just your first name, last name, and the 9 digit student ID number below.\n",
    "\n",
    "First Name: Wei-Kuang\n",
    "\n",
    "Last Name: Lin \n",
    "\n",
    "Student ID: 997062562"
   ]
  },
  {
   "cell_type": "markdown",
   "metadata": {
    "name": "fill1"
   },
   "source": [
    "## Part 1: The Doomsday Algorithm\n",
    "\n",
    "The Doomsday algorithm, devised by mathematician J. H. Conway, computes the day of the week any given date fell on. The algorithm is designed to be simple enough to memorize and use for mental calculation.\n",
    "\n",
    "__Example.__ With the algorithm, we can compute that July 4, 1776 (the day the United States declared independence from Great Britain) was a Thursday.\n",
    "\n",
    "The algorithm is based on the fact that for any year, several dates always fall on the same day of the week, called the <em style=\"color:#F00\">doomsday</em> for the year. These dates include 4/4, 6/6, 8/8, 10/10, and 12/12.\n",
    "\n",
    "__Example.__ The doomsday for 2016 is Monday, so in 2016 the dates above all fell on Mondays. The doomsday for 2017 is Tuesday, so in 2017 the dates above will all fall on Tuesdays.\n",
    "\n",
    "The doomsday algorithm has three major steps:\n",
    "\n",
    "1. Compute the anchor day for the target century.\n",
    "2. Compute the doomsday for the target year based on the anchor day.\n",
    "3. Determine the day of week for the target date by counting the number of days to the nearest doomsday.\n",
    "\n",
    "Each step is explained in detail below."
   ]
  },
  {
   "cell_type": "markdown",
   "metadata": {
    "name": "ex1.1"
   },
   "source": [
    "### The Anchor Day\n",
    "\n",
    "The doomsday for the first year in a century is called the <em style=\"color:#F00\">anchor day</em> for that century. The anchor day is needed to compute the doomsday for any other year in that century. The anchor day for a century $c$ can be computed with the formula:\n",
    "$$\n",
    "a = \\bigl( 5 (c \\bmod 4) + 2 \\bigr) \\bmod 7\n",
    "$$\n",
    "The result $a$ corresponds to a day of the week, starting with $0$ for Sunday and ending with $6$ for Saturday.\n",
    "\n",
    "__Note.__ The modulo operation $(x \\bmod y)$ finds the remainder after dividing $x$ by $y$. For instance, $12 \\bmod 3 = 0$ since the remainder after dividing $12$ by $3$ is $0$. Similarly, $11 \\bmod 7 = 4$, since the remainder after dividing $11$ by $7$ is $4$.\n",
    "\n",
    "__Example.__ Suppose the target year is 1954, so the century is $c = 19$. Plugging this into the formula gives\n",
    "$$a = \\bigl( 5 (19 \\bmod 4) + 2 \\bigr) \\bmod 7 = \\bigl( 5(3) + 2 \\bigr) \\bmod 7 = 3.$$\n",
    "In other words, the anchor day for 1900-1999 is Wednesday, which is also the doomsday for 1900.\n",
    "\n",
    "__Exercise 1.1.__ Write a function that accepts a year as input and computes the anchor day for that year's century. The modulo operator `%` and functions in the `math` module may be useful. Document your function with a docstring and test your function for a few different years.  Do this in a new cell below this one."
   ]
  },
  {
   "cell_type": "code",
   "execution_count": 1,
   "metadata": {},
   "outputs": [],
   "source": [
    "import math  # load package \"math\" to use math.floor fucntion \n",
    "\n",
    "from datetime import datetime\n",
    "import operator # find the index of max and min in a set"
   ]
  },
  {
   "cell_type": "code",
   "execution_count": 2,
   "metadata": {},
   "outputs": [],
   "source": [
    "def anchor_day(year):\n",
    "    \"\"\" \n",
    "    Action: Find the anchor day for the given year\n",
    "    Arguemnts: year integer\n",
    "    Returns: The anchor day (day of the week) for the given year. \n",
    "    The output is the integer number form 0 to 6. For example, 0 = Sunday, 1= Monday\n",
    "    \"\"\"\n",
    "    c= math.floor(year/100) \n",
    "    a = (5*(c % 4) +2 ) % 7\n",
    "    return a"
   ]
  },
  {
   "cell_type": "markdown",
   "metadata": {},
   "source": [
    "##### list  of anchor days for each centries\n",
    "* 1800 - 1899: Friday\n",
    "* 1900 - 1999: Wednesday\n",
    "* 2000 - 2099: Tuesday\n",
    "* 2100 - 2199: Sunday"
   ]
  },
  {
   "cell_type": "code",
   "execution_count": 3,
   "metadata": {
    "scrolled": true
   },
   "outputs": [
    {
     "name": "stdout",
     "output_type": "stream",
     "text": [
      "[5, 3, 2, 0]\n"
     ]
    }
   ],
   "source": [
    "# Test\n",
    "x1 = anchor_day(1801) # 5, Fri\n",
    "x2 = anchor_day(1999) # 3, Wed\n",
    "x3 = anchor_day(2000) # 2, Tu\n",
    "x4 = anchor_day(2199) # 0, Sun\n",
    "Ans = [x1,x2,x3,x4]\n",
    "print(Ans)\n",
    "\n",
    "# The anchor_day function is correct!"
   ]
  },
  {
   "cell_type": "markdown",
   "metadata": {
    "name": "ex1.2"
   },
   "source": [
    "### The Doomsday\n",
    "\n",
    "Once the anchor day is known, let $y$ be the last two digits of the target year. Then the doomsday for the target year can be computed with the formula:\n",
    "$$d = \\left(y + \\left\\lfloor\\frac{y}{4}\\right\\rfloor + a\\right) \\bmod 7$$\n",
    "The result $d$ corresponds to a day of the week.\n",
    "\n",
    "__Note.__ The floor operation $\\lfloor x \\rfloor$ rounds $x$ down to the nearest integer. For instance, $\\lfloor 3.1 \\rfloor = 3$ and $\\lfloor 3.8 \\rfloor = 3$.\n",
    "\n",
    "__Example.__ Again suppose the target year is 1954. Then the anchor day is $a = 3$, and $y = 54$, so the formula gives\n",
    "$$\n",
    "d = \\left(54 + \\left\\lfloor\\frac{54}{4}\\right\\rfloor + 3\\right) \\bmod 7 = (54 + 13 + 3) \\bmod 7 = 0.\n",
    "$$\n",
    "Thus the doomsday for 1954 is Sunday.\n",
    "\n",
    "__Exercise 1.2.__ Write a function that accepts a year as input and computes the doomsday for that year. Your function may need to call the function you wrote in exercise 1.1. Make sure to document and test your function."
   ]
  },
  {
   "cell_type": "code",
   "execution_count": 4,
   "metadata": {},
   "outputs": [],
   "source": [
    "def doomsday(year):\n",
    "    \"\"\" \n",
    "    Action:Find the doomsday for the given year\n",
    "    Arguemnts: year\n",
    "    Returns: The doomsday for the given year. \n",
    "    The output is the integer number form 0 to 6.  For example 0 = Sunday, 1= Monday, ..., 6= Saturday\n",
    "    \"\"\"\n",
    "    # Compuate a, the anchor day\n",
    "    c= math.floor(year/100) \n",
    "    a = (5*(c % 4) +2 ) % 7 # a is the anchor year\n",
    "    \n",
    "    # Compuate y, the last two digit of the year\n",
    "    y= year % 100 # y is the last two digit\n",
    "    \n",
    "    # Compuate d, the doomsday of the given year\n",
    "    d= (y+math.floor(y/4)+a)% 7\n",
    "    \n",
    "    return d"
   ]
  },
  {
   "cell_type": "code",
   "execution_count": 5,
   "metadata": {},
   "outputs": [
    {
     "name": "stdout",
     "output_type": "stream",
     "text": [
      "[0, 1, 6, 2, 4]\n"
     ]
    }
   ],
   "source": [
    "# test\n",
    "x0 = doomsday(1954) # 0, Sun\n",
    "x1 = doomsday(1898) # 1, Mon\n",
    "x2 = doomsday(1908) # 6, Sat\n",
    "x3 = doomsday(2000) # 2, Tu\n",
    "x4 = doomsday(2019) # 4, Thr\n",
    "\n",
    "Ans = [x0,x1,x2,x3,x4]\n",
    "print(Ans)\n",
    "\n",
    "# The doomsday function is correct!"
   ]
  },
  {
   "cell_type": "markdown",
   "metadata": {
    "name": "ex1.3"
   },
   "source": [
    "### The Day of Week\n",
    "\n",
    "The final step in the Doomsday algorithm is to count the number of days between the target date and a nearby doomsday, modulo 7. This gives the day of the week.\n",
    "\n",
    "Every month has at least one doomsday:\n",
    "* (regular years) 1/10, 2/28\n",
    "* (leap years) 1/11, 2/29\n",
    "* 3/21, 4/4, 5/9, 6/6, 7/11, 8/8, 9/5, 10/10, 11/7, 12/12\n",
    "\n",
    "__Example.__ Suppose we want to find the day of the week for 7/21/1954. The doomsday for 1954 is Sunday, and a nearby doomsday is 7/11. There are 10 days in July between 7/11 and 7/21. Since $10 \\bmod 7 = 3$, the date 7/21/1954 falls 3 days after a Sunday, on a Wednesday.\n",
    "\n",
    "__Exercise 1.3.__ Write a function to determine the day of the week for a given day, month, and year. Be careful of leap years! Your function should return a string such as \"Thursday\" rather than a number. As usual, document and test your code."
   ]
  },
  {
   "cell_type": "code",
   "execution_count": 6,
   "metadata": {},
   "outputs": [],
   "source": [
    "def day_of_week(d, m, y):\n",
    "    \"\"\" \n",
    "    Action: Find the weekday for the given date (d= day, m=month, y=year)\n",
    "    Arguemnts: The inputs are d= day, m=month, Y=year\n",
    "    Returns: The doomsday for the given year. The output is the \n",
    "    integer number form 0 to 6.  For example, 0 = Sunday, 1= Monday\n",
    "    \"\"\"\n",
    "    \n",
    "    # Determine whether the year is leap year or regular year\n",
    "    if (y% 400 == 0) or (y%4==0 and y%100 !=0):\n",
    "        leap_year_logic = True\n",
    "    else:\n",
    "        leap_year_logic = False\n",
    "        \n",
    "        \n",
    "    # Based on the logic of leap_year, determine the doomsday dictionary\n",
    "    if (leap_year_logic == True):\n",
    "        doomsday_dict = {1:11, 2:29, 3:21, 4:4, 5:9, 6:6, 7:11, 8:8, 9:5, 10:10, 11:7, 12:12}\n",
    "    else:\n",
    "        doomsday_dict = {1:10, 2:28, 3:21, 4:4, 5:9, 6:6, 7:11, 8:8, 9:5, 10:10, 11:7, 12:12}\n",
    "        \n",
    "    \n",
    "    # Compute doomsday as the baseline ( the day of the week)\n",
    "    baseline = doomsday(y)\n",
    "    \n",
    "    # Compute difference between the day and basline, in the same month\n",
    "    diff = d - doomsday_dict[m] \n",
    "    \n",
    "    # Day of the week\n",
    "    weekday = [\"Sun\", \"Mon\",\"Tue\",\"Wed\",\"Thr\",\"Fri\",\"Sat\"][ (baseline + diff)%7]\n",
    "    \n",
    "    return weekday"
   ]
  },
  {
   "cell_type": "code",
   "execution_count": 7,
   "metadata": {},
   "outputs": [
    {
     "name": "stdout",
     "output_type": "stream",
     "text": [
      "['Fri', 'Sun', 'Sun', 'Thr', 'Sat', 'Wed']\n"
     ]
    }
   ],
   "source": [
    "# Test\n",
    "x1 = day_of_week(d=10, m=1, y=2003)\n",
    "x2 = day_of_week(d=15, m=2, y=2004)\n",
    "x3 = day_of_week(d=20, m=3, y=2005)\n",
    "x4 = day_of_week(d=21, m=7, y=2016)\n",
    "x5 = day_of_week(d=30, m=4, y=2016)\n",
    "x6 = day_of_week(d=10, m=7, y=2019)\n",
    "\n",
    "Ans = [x1,x2,x3,x4,x5,x6]\n",
    "print(Ans)\n",
    "\n",
    "# These answeres are correct! "
   ]
  },
  {
   "cell_type": "markdown",
   "metadata": {
    "name": "ex1.4"
   },
   "source": [
    "__Exercise 1.4.__ How many times did Friday the 13th occur in the years 1900-1999? Does this number seem to be similar to other centuries?"
   ]
  },
  {
   "cell_type": "code",
   "execution_count": 8,
   "metadata": {},
   "outputs": [
    {
     "data": {
      "text/plain": [
       "172"
      ]
     },
     "execution_count": 8,
     "metadata": {},
     "output_type": "execute_result"
    }
   ],
   "source": [
    "# 18th Centry (1800-1899)\n",
    "weekday_list = [day_of_week(13, m, y) for y in range(1700, 1799+1) for m in range(1, 12+1)]\n",
    "logic=[x == 'Fri' for x in weekday_list]\n",
    "sum(logic)"
   ]
  },
  {
   "cell_type": "code",
   "execution_count": 9,
   "metadata": {},
   "outputs": [
    {
     "data": {
      "text/plain": [
       "172"
      ]
     },
     "execution_count": 9,
     "metadata": {},
     "output_type": "execute_result"
    }
   ],
   "source": [
    "# 19th Centry (1800-1899)\n",
    "weekday_list = [day_of_week(13, m, y) for y in range(1800, 1899+1) for m in range(1, 12+1)]\n",
    "logic=[x == 'Fri' for x in weekday_list]\n",
    "sum(logic)"
   ]
  },
  {
   "cell_type": "code",
   "execution_count": 10,
   "metadata": {},
   "outputs": [
    {
     "data": {
      "text/plain": [
       "172"
      ]
     },
     "execution_count": 10,
     "metadata": {},
     "output_type": "execute_result"
    }
   ],
   "source": [
    "# 20th Centry (1900-1999)\n",
    "weekday_list = [day_of_week(13, m, y) for y in range(1900, 1999+1) for m in range(1, 12+1)]\n",
    "logic=[x == 'Fri' for x in weekday_list]\n",
    "sum(logic)"
   ]
  },
  {
   "cell_type": "markdown",
   "metadata": {},
   "source": [
    "1.4 ANS:\n",
    "The number of 13th Friday seems to be similar to other centries."
   ]
  },
  {
   "cell_type": "markdown",
   "metadata": {
    "name": "ex1.5"
   },
   "source": [
    "__Exercise 1.5.__ How many times did Friday the 13th occur between the year 2000 and today? Assume that today is July 9th 2019"
   ]
  },
  {
   "cell_type": "code",
   "execution_count": 11,
   "metadata": {},
   "outputs": [
    {
     "data": {
      "text/plain": [
       "33"
      ]
     },
     "execution_count": 11,
     "metadata": {},
     "output_type": "execute_result"
    }
   ],
   "source": [
    "# Period1: 2000-2019\n",
    "weekday_list = [day_of_week(13, m, y) for y in range(2000, 2018+1) for m in range(1, 12+1)]\n",
    "logic=[x == 'Fri' for x in weekday_list]\n",
    "x1 = sum(logic)\n",
    "\n",
    "# Period2: Jan.2019 - June.2018 \n",
    "weekday_list = [day_of_week(13, m, 2019) for m in range(1, 6+1)]\n",
    "logic=[x == 'Fri' for x in weekday_list]\n",
    "x2 = sum(logic)\n",
    "\n",
    "# Prirod3: Today is July 9th is not 13th yet, so no need to compute for July.\n",
    "\n",
    "# Total 13th Friday between year 2000 and today[July 9th 2019]\n",
    "x1+x2"
   ]
  },
  {
   "cell_type": "markdown",
   "metadata": {},
   "source": [
    "1.5 ANS:\n",
    "Between 2000 and today ( Note: \"Today\" is July 9th 2019), there were \"33\" 13th Friday."
   ]
  },
  {
   "cell_type": "markdown",
   "metadata": {
    "name": "ex2.1"
   },
   "source": [
    "## Part 2: 1978 Birthdays\n",
    "\n",
    "__Exercise 2.1.__ The file `birthdays.txt` contains the number of births in the United States for each day in 1978. Inspect the file to determine the format. Note that columns are separated by the tab character, which can be entered in Python as `\\t`. Write a function that uses iterators and list comprehensions with the string methods `split()` and `strip()` to  convert each line of data to the list format\n",
    "\n",
    "```Python\n",
    "[month, day, year, count]\n",
    "```"
   ]
  },
  {
   "cell_type": "markdown",
   "metadata": {},
   "source": [
    "### My work:\n",
    "* Step 1: Let's take a look at birthdays.txt\n",
    "* There are some descriptions at the top of the file. They are not data points. I will write codes to only read the data.\n",
    "* There is empty space after data points. .strip() method can remove leading and trailing spaces from a string."
   ]
  },
  {
   "cell_type": "code",
   "execution_count": 12,
   "metadata": {},
   "outputs": [
    {
     "name": "stdout",
     "output_type": "stream",
     "text": [
      "Distribution of Birthdays in US, 1978\n",
      "\n",
      "Source:\n",
      "  Dartmouth College\n",
      "  http://www.dartmouth.edu/~chance/teaching_aids/data.html\n",
      "\n",
      "1/1/78\t7701\n",
      "1/2/78\t7527\n",
      "1/3/78\t8825\n",
      "1/4/78\t8859\n",
      "1/5/78\t9043\n",
      "1/6/78\t9208\n",
      "1/7/78\t8084\n",
      "1/8/78\t7611\n",
      "1/9/78\t9172\n",
      "1/10/78\t9089\n",
      "1/11/78\t9210\n",
      "1/12/78\t9259\n",
      "1/13/78\t9138\n",
      "1/14/78\t8299\n",
      "1/15/78\t7771\n",
      "1/16/78\t9458\n",
      "1/17/78\t9339\n",
      "1/18/78\t9120\n",
      "1/19/78\t9226\n",
      "1/20/78\t9305\n",
      "1/21/78\t7954\n"
     ]
    }
   ],
   "source": [
    "file_path = \"C:/Users/WeiKuang/Documents/GitHub/141b-hw1-Wei-Kuang/birthdays.txt\"\n",
    "file = open(file_path, mode='r') # 'r': open the file as a \"file object\" for reading\n",
    "data = file.read() # .read() is a method for file object\n",
    "print(data[0:390])\n",
    "file.close() #  A good habit to close the file when you're done with it"
   ]
  },
  {
   "cell_type": "code",
   "execution_count": 13,
   "metadata": {
    "name": "fill2"
   },
   "outputs": [],
   "source": [
    "def read_birthdays(file_path):\n",
    "    \"\"\"\n",
    "    Action: Read the contents of the birthdays file into a string.\n",
    "    Arguments: file_path (string): The path to the birthdays file.\n",
    "    Return: It is a string which are the contents of the birthdays file.\n",
    "    \"\"\"\n",
    "    with open(file_path) as file:   # Use file to refer to the file object [With ...action... as \"object\"]\n",
    "        return file.read()"
   ]
  },
  {
   "cell_type": "markdown",
   "metadata": {},
   "source": [
    "* Use .strip() to remove extra leading and trailing spaice between a string "
   ]
  },
  {
   "cell_type": "code",
   "execution_count": 14,
   "metadata": {},
   "outputs": [
    {
     "data": {
      "text/plain": [
       "'Distribution of Birthdays in US, 1978\\n\\nSource:\\n  Dartmouth College\\n  http://www.dartmouth.edu/~chance/teaching_aids/data.html\\n\\n1/1/78\\t7701\\n1/2/78\\t7527\\n1/3/78\\t8825\\n1/4/78\\t8859\\n1/5/78\\t9043\\n1/6/78\\t9208\\n1/7/78\\t8084\\n1/8/78\\t7611\\n1/9/78\\t9172\\n1/10/78\\t9089\\n1/11/78\\t9210\\n1/12/78\\t9259\\n1/13/78\\t9138\\n1/14/78\\t8299\\n1/15/78\\t7771\\n1/16/78\\t9458\\n1/17/78\\t9339\\n1/18/78\\t9120\\n1/19/78\\t9226\\n1/20/78\\t9305\\n1/21/78\\t7954\\n1/22/78\\t7560\\n1/23/78\\t9252\\n1/24/78\\t9416\\n1/25/78\\t9090\\n1/26/78\\t9387\\n1/27/78\\t8983\\n1/28/78\\t7946\\n1/29/78\\t7527\\n1/30/78\\t9184\\n1/31/78\\t9152\\n2/1/78\\t9159\\n2/2/78\\t9218\\n2/3/78\\t9167\\n2/4/78\\t8065\\n2/5/78\\t7804\\n2/6/78\\t9225\\n2/7/78\\t9328\\n2/8/78\\t9139\\n2/9/78\\t9247\\n2/10/78\\t9527\\n2/11/78\\t8144\\n2/12/78\\t7950\\n2/13/78\\t8966\\n2/14/78\\t9859\\n2/15/78\\t9285\\n2/16/78\\t9103\\n2/17/78\\t9238\\n2/18/78\\t8167\\n2/19/78\\t7695\\n2/20/78\\t9021\\n2/21/78\\t9252\\n2/22/78\\t9335\\n2/23/78\\t9268\\n2/24/78\\t9552\\n2/25/78\\t8313\\n2/26/78\\t7881\\n2/27/78\\t9262\\n2/28/78\\t9705\\n3/1/78\\t9132\\n3/2/78\\t9304\\n3/3/78\\t9431\\n3/4/78\\t8008\\n3/5/78\\t7791\\n3/6/78\\t9294\\n3/7/78\\t9573\\n3/8/78\\t9212\\n3/9/78\\t9218\\n3/10/78\\t9583\\n3/11/78\\t8144\\n3/12/78\\t7870\\n3/13/78\\t9022\\n3/14/78\\t9525\\n3/15/78\\t9284\\n3/16/78\\t9327\\n3/17/78\\t9480\\n3/18/78\\t7965\\n3/19/78\\t7729\\n3/20/78\\t9135\\n3/21/78\\t9663\\n3/22/78\\t9307\\n3/23/78\\t9159\\n3/24/78\\t9157\\n3/25/78\\t7874\\n3/26/78\\t7589\\n3/27/78\\t9100\\n3/28/78\\t9293\\n3/29/78\\t9195\\n3/30/78\\t8902\\n3/31/78\\t9318\\n4/1/78\\t8069\\n4/2/78\\t7691\\n4/3/78\\t9114\\n4/4/78\\t9439\\n4/5/78\\t8852\\n4/6/78\\t8969\\n4/7/78\\t9077\\n4/8/78\\t7890\\n4/9/78\\t7445\\n4/10/78\\t8870\\n4/11/78\\t9023\\n4/12/78\\t8606\\n4/13/78\\t8724\\n4/14/78\\t9012\\n4/15/78\\t7527\\n4/16/78\\t7193\\n4/17/78\\t8702\\n4/18/78\\t9205\\n4/19/78\\t8720\\n4/20/78\\t8582\\n4/21/78\\t8892\\n4/22/78\\t7787\\n4/23/78\\t7304\\n4/24/78\\t9017\\n4/25/78\\t9077\\n4/26/78\\t9019\\n4/27/78\\t8839\\n4/28/78\\t9047\\n4/29/78\\t7750\\n4/30/78\\t7135\\n5/1/78\\t8900\\n5/2/78\\t9422\\n5/3/78\\t9051\\n5/4/78\\t8672\\n5/5/78\\t9101\\n5/6/78\\t7718\\n5/7/78\\t7388\\n5/8/78\\t8987\\n5/9/78\\t9307\\n5/10/78\\t9273\\n5/11/78\\t8903\\n5/12/78\\t8975\\n5/13/78\\t7762\\n5/14/78\\t7382\\n5/15/78\\t9195\\n5/16/78\\t9200\\n5/17/78\\t8913\\n5/18/78\\t9044\\n5/19/78\\t9000\\n5/20/78\\t8064\\n5/21/78\\t7570\\n5/22/78\\t9089\\n5/23/78\\t9210\\n5/24/78\\t9196\\n5/25/78\\t9180\\n5/26/78\\t9514\\n5/27/78\\t8005\\n5/28/78\\t7781\\n5/29/78\\t7780\\n5/30/78\\t9630\\n5/31/78\\t9600\\n6/1/78\\t9435\\n6/2/78\\t9303\\n6/3/78\\t7971\\n6/4/78\\t7399\\n6/5/78\\t9127\\n6/6/78\\t9606\\n6/7/78\\t9328\\n6/8/78\\t9075\\n6/9/78\\t9362\\n6/10/78\\t8040\\n6/11/78\\t7581\\n6/12/78\\t9201\\n6/13/78\\t9264\\n6/14/78\\t9216\\n6/15/78\\t9175\\n6/16/78\\t9350\\n6/17/78\\t8233\\n6/18/78\\t7777\\n6/19/78\\t9543\\n6/20/78\\t9672\\n6/21/78\\t9266\\n6/22/78\\t9405\\n6/23/78\\t9598\\n6/24/78\\t8122\\n6/25/78\\t8091\\n6/26/78\\t9348\\n6/27/78\\t9857\\n6/28/78\\t9701\\n6/29/78\\t9630\\n6/30/78\\t10080\\n7/1/78\\t8209\\n7/2/78\\t7976\\n7/3/78\\t9284\\n7/4/78\\t8433\\n7/5/78\\t9675\\n7/6/78\\t10184\\n7/7/78\\t10241\\n7/8/78\\t8773\\n7/9/78\\t8102\\n7/10/78\\t9877\\n7/11/78\\t9852\\n7/12/78\\t9705\\n7/13/78\\t9984\\n7/14/78\\t10438\\n7/15/78\\t8859\\n7/16/78\\t8416\\n7/17/78\\t10026\\n7/18/78\\t10357\\n7/19/78\\t10015\\n7/20/78\\t10386\\n7/21/78\\t10332\\n7/22/78\\t9062\\n7/23/78\\t8563\\n7/24/78\\t9960\\n7/25/78\\t10349\\n7/26/78\\t10091\\n7/27/78\\t10192\\n7/28/78\\t10307\\n7/29/78\\t8677\\n7/30/78\\t8486\\n7/31/78\\t9890\\n8/1/78\\t10145\\n8/2/78\\t9824\\n8/3/78\\t10128\\n8/4/78\\t10051\\n8/5/78\\t8738\\n8/6/78\\t8442\\n8/7/78\\t10206\\n8/8/78\\t10442\\n8/9/78\\t10142\\n8/10/78\\t10284\\n8/11/78\\t10162\\n8/12/78\\t8951\\n8/13/78\\t8532\\n8/14/78\\t10127\\n8/15/78\\t10502\\n8/16/78\\t10053\\n8/17/78\\t10377\\n8/18/78\\t10355\\n8/19/78\\t8904\\n8/20/78\\t8477\\n8/21/78\\t9967\\n8/22/78\\t10229\\n8/23/78\\t9900\\n8/24/78\\t10152\\n8/25/78\\t10173\\n8/26/78\\t8782\\n8/27/78\\t8453\\n8/28/78\\t9998\\n8/29/78\\t10387\\n8/30/78\\t10063\\n8/31/78\\t9849\\n9/1/78\\t10114\\n9/2/78\\t8580\\n9/3/78\\t8355\\n9/4/78\\t8481\\n9/5/78\\t10023\\n9/6/78\\t10703\\n9/7/78\\t10292\\n9/8/78\\t10371\\n9/9/78\\t9023\\n9/10/78\\t8630\\n9/11/78\\t10154\\n9/12/78\\t10425\\n9/13/78\\t10149\\n9/14/78\\t10265\\n9/15/78\\t10265\\n9/16/78\\t9170\\n9/17/78\\t8711\\n9/18/78\\t10304\\n9/19/78\\t10711\\n9/20/78\\t10488\\n9/21/78\\t10499\\n9/22/78\\t10349\\n9/23/78\\t8735\\n9/24/78\\t8647\\n9/25/78\\t10414\\n9/26/78\\t10498\\n9/27/78\\t10344\\n9/28/78\\t10175\\n9/29/78\\t10368\\n9/30/78\\t8648\\n10/1/78\\t8686\\n10/2/78\\t9927\\n10/3/78\\t10378\\n10/4/78\\t9928\\n10/5/78\\t9949\\n10/6/78\\t10052\\n10/7/78\\t8605\\n10/8/78\\t8377\\n10/9/78\\t9765\\n10/10/78\\t10351\\n10/11/78\\t9873\\n10/12/78\\t9824\\n10/13/78\\t9755\\n10/14/78\\t8554\\n10/15/78\\t7873\\n10/16/78\\t9531\\n10/17/78\\t9938\\n10/18/78\\t9388\\n10/19/78\\t9502\\n10/20/78\\t9625\\n10/21/78\\t8411\\n10/22/78\\t7936\\n10/23/78\\t9425\\n10/24/78\\t9576\\n10/25/78\\t9328\\n10/26/78\\t9501\\n10/27/78\\t9537\\n10/28/78\\t8415\\n10/29/78\\t8155\\n10/30/78\\t9457\\n10/31/78\\t9333\\n11/1/78\\t9321\\n11/2/78\\t9245\\n11/3/78\\t9774\\n11/4/78\\t8246\\n11/5/78\\t8011\\n11/6/78\\t9507\\n11/7/78\\t9769\\n11/8/78\\t9501\\n11/9/78\\t9609\\n11/10/78\\t9652\\n11/11/78\\t8352\\n11/12/78\\t7967\\n11/13/78\\t9606\\n11/14/78\\t10014\\n11/15/78\\t9536\\n11/16/78\\t9568\\n11/17/78\\t9835\\n11/18/78\\t8432\\n11/19/78\\t7868\\n11/20/78\\t9592\\n11/21/78\\t9950\\n11/22/78\\t9548\\n11/23/78\\t7915\\n11/24/78\\t9037\\n11/25/78\\t8275\\n11/26/78\\t8068\\n11/27/78\\t9825\\n11/28/78\\t9814\\n11/29/78\\t9438\\n11/30/78\\t9396\\n12/1/78\\t9592\\n12/2/78\\t8528\\n12/3/78\\t8196\\n12/4/78\\t9767\\n12/5/78\\t9881\\n12/6/78\\t9402\\n12/7/78\\t9480\\n12/8/78\\t9398\\n12/9/78\\t8335\\n12/10/78\\t8093\\n12/11/78\\t9686\\n12/12/78\\t10063\\n12/13/78\\t9509\\n12/14/78\\t9524\\n12/15/78\\t9951\\n12/16/78\\t8507\\n12/17/78\\t8172\\n12/18/78\\t10196\\n12/19/78\\t10605\\n12/20/78\\t9998\\n12/21/78\\t9398\\n12/22/78\\t9008\\n12/23/78\\t7939\\n12/24/78\\t7964\\n12/25/78\\t7846\\n12/26/78\\t8902\\n12/27/78\\t9907\\n12/28/78\\t10177\\n12/29/78\\t10401\\n12/30/78\\t8474\\n12/31/78\\t8028'"
      ]
     },
     "execution_count": 14,
     "metadata": {},
     "output_type": "execute_result"
    }
   ],
   "source": [
    "data = read_birthdays(file_path)\n",
    "data = data.strip()\n",
    "data # This is a string"
   ]
  },
  {
   "cell_type": "markdown",
   "metadata": {},
   "source": [
    "* Now, this data is a long string. Let's use .split method to separate it into rows.\n",
    "* The key is to recognize '\\n' as the splitter\n",
    "* After string is splitted into a list. the First six elements are not data point and should be removed."
   ]
  },
  {
   "cell_type": "code",
   "execution_count": 15,
   "metadata": {},
   "outputs": [
    {
     "data": {
      "text/plain": [
       "['Distribution of Birthdays in US, 1978',\n",
       " '',\n",
       " 'Source:',\n",
       " '  Dartmouth College',\n",
       " '  http://www.dartmouth.edu/~chance/teaching_aids/data.html',\n",
       " '',\n",
       " '1/1/78\\t7701',\n",
       " '1/2/78\\t7527',\n",
       " '1/3/78\\t8825',\n",
       " '1/4/78\\t8859',\n",
       " '1/5/78\\t9043',\n",
       " '1/6/78\\t9208',\n",
       " '1/7/78\\t8084',\n",
       " '1/8/78\\t7611',\n",
       " '1/9/78\\t9172',\n",
       " '1/10/78\\t9089',\n",
       " '1/11/78\\t9210',\n",
       " '1/12/78\\t9259',\n",
       " '1/13/78\\t9138',\n",
       " '1/14/78\\t8299']"
      ]
     },
     "execution_count": 15,
     "metadata": {},
     "output_type": "execute_result"
    }
   ],
   "source": [
    "data_list = data.split('\\n')\n",
    "data_list[0:20]"
   ]
  },
  {
   "cell_type": "code",
   "execution_count": 16,
   "metadata": {},
   "outputs": [
    {
     "data": {
      "text/plain": [
       "['1/1/78\\t7701',\n",
       " '1/2/78\\t7527',\n",
       " '1/3/78\\t8825',\n",
       " '1/4/78\\t8859',\n",
       " '1/5/78\\t9043']"
      ]
     },
     "execution_count": 16,
     "metadata": {},
     "output_type": "execute_result"
    }
   ],
   "source": [
    "# Remove first six rows\n",
    "data_list_cleaned = data_list[6:]  # [6:] syntax menas to do selection starting at the 6-th element till the end.\n",
    "data_list_cleaned[0:5] "
   ]
  },
  {
   "cell_type": "markdown",
   "metadata": {},
   "source": [
    "* Recognize '\\t' as the splitter.\n",
    "* This time, we need to do splitting for each element."
   ]
  },
  {
   "cell_type": "code",
   "execution_count": 17,
   "metadata": {},
   "outputs": [
    {
     "data": {
      "text/plain": [
       "[[1, 1, 78, 7701],\n",
       " [1, 2, 78, 7527],\n",
       " [1, 3, 78, 8825],\n",
       " [1, 4, 78, 8859],\n",
       " [1, 5, 78, 9043],\n",
       " [1, 6, 78, 9208],\n",
       " [1, 7, 78, 8084],\n",
       " [1, 8, 78, 7611],\n",
       " [1, 9, 78, 9172],\n",
       " [1, 10, 78, 9089],\n",
       " [1, 11, 78, 9210],\n",
       " [1, 12, 78, 9259],\n",
       " [1, 13, 78, 9138],\n",
       " [1, 14, 78, 8299],\n",
       " [1, 15, 78, 7771],\n",
       " [1, 16, 78, 9458],\n",
       " [1, 17, 78, 9339],\n",
       " [1, 18, 78, 9120],\n",
       " [1, 19, 78, 9226],\n",
       " [1, 20, 78, 9305]]"
      ]
     },
     "execution_count": 17,
     "metadata": {},
     "output_type": "execute_result"
    }
   ],
   "source": [
    "# Prepare a empty list to store results\n",
    "Results = []\n",
    "\n",
    "for element in data_list_cleaned:\n",
    "    date, count = element.split('\\t')\n",
    "    m,d,y = date.split('/')\n",
    "    new_list = [int(m), int(d), int(y), int(count)]\n",
    "    Results = Results + [new_list]\n",
    "\n",
    "Results[0:20]\n",
    "# Correct "
   ]
  },
  {
   "cell_type": "markdown",
   "metadata": {
    "name": "ex2.2"
   },
   "source": [
    "__Exercise 2.2.__ Which month had the most births in 1978? Which day of the week had the most births? Which day of the week had the fewest? What conclusions can you draw? You may find the `Counter` class in the `collections` module useful."
   ]
  },
  {
   "cell_type": "code",
   "execution_count": 18,
   "metadata": {},
   "outputs": [
    {
     "data": {
      "text/plain": [
       "[[0, 1, 1, 78, 7701],\n",
       " [1, 1, 2, 78, 7527],\n",
       " [2, 1, 3, 78, 8825],\n",
       " [3, 1, 4, 78, 8859],\n",
       " [4, 1, 5, 78, 9043],\n",
       " [5, 1, 6, 78, 9208],\n",
       " [6, 1, 7, 78, 8084],\n",
       " [0, 1, 8, 78, 7611],\n",
       " [1, 1, 9, 78, 9172],\n",
       " [2, 1, 10, 78, 9089]]"
      ]
     },
     "execution_count": 18,
     "metadata": {},
     "output_type": "execute_result"
    }
   ],
   "source": [
    "# '1/1/1978' is Sunday. Thus, the sequence of the weekday can starts from \"Sunday\"\n",
    "# Set Sunday = 0, Monday =1, and so forth\n",
    "weekday= [w for w in range(0,7)]\n",
    "\n",
    "# weekday*52 has the first 364 weekdays. There is one weekday left, which is Sunday that represents 0\n",
    "All_weekday = weekday*52 + [0]\n",
    "\n",
    "# Insert weekday info to the fist poistion of each element in the \"Results\" list\n",
    "for i in range(0,365):\n",
    "    Results[i].insert(0, All_weekday[i])\n",
    "\n",
    "# Display:[weekday, month, day, year, count]\n",
    "Results[0:10]"
   ]
  },
  {
   "cell_type": "code",
   "execution_count": 19,
   "metadata": {},
   "outputs": [
    {
     "data": {
      "text/plain": [
       "[421400, 487309, 504858, 493897, 493149, 500541, 432085]"
      ]
     },
     "execution_count": 19,
     "metadata": {},
     "output_type": "execute_result"
    }
   ],
   "source": [
    "#### Aggregate the count by sum using day of week as the grouping factor - method 1\n",
    "\n",
    "# Prepare a empty list with seve elements\n",
    "total = [0,0,0,0,0,0,0] \n",
    "\n",
    "for element in Results:\n",
    "    for w in range(0,7):\n",
    "        if element[0] == w:\n",
    "            total[w] = total[w] + element[4]  # element[4] is the count of birth\n",
    "    \n",
    "\n",
    "total # It has the total Birthday counts for each weekday.  [Sun, Mon, Tu, ...]"
   ]
  },
  {
   "cell_type": "code",
   "execution_count": 20,
   "metadata": {},
   "outputs": [
    {
     "name": "stdout",
     "output_type": "stream",
     "text": [
      "   Weekday  Month  Date  Year  Count\n",
      "0        0      1     1    78   7701\n",
      "1        1      1     2    78   7527\n",
      "2        2      1     3    78   8825\n",
      "3        3      1     4    78   8859\n",
      "4        4      1     5    78   9043\n"
     ]
    },
    {
     "data": {
      "text/plain": [
       "Weekday\n",
       "0    421400\n",
       "1    487309\n",
       "2    504858\n",
       "3    493897\n",
       "4    493149\n",
       "5    500541\n",
       "6    432085\n",
       "Name: Count, dtype: int64"
      ]
     },
     "execution_count": 20,
     "metadata": {},
     "output_type": "execute_result"
    }
   ],
   "source": [
    "#### Aggregate the count by sum using day of week as the grouping factor - method 2\n",
    "# 1. Make the reuslts into a dataframe using pandas\n",
    "# 2. Then use the Pandas Aggregation\n",
    "\n",
    "import pandas as pd\n",
    "DF = pd.DataFrame(Results)\n",
    "DF.columns = ['Weekday', 'Month', 'Date', 'Year', 'Count']\n",
    "print(DF.head())\n",
    "\n",
    "# Aggredate rows using sum() and grouped by 'Weekday'\n",
    "DF.groupby('Weekday')['Count'].sum()"
   ]
  },
  {
   "cell_type": "markdown",
   "metadata": {},
   "source": [
    "ANS: Sunday has the fewest births (421400), but Tuesday has most births (504858)."
   ]
  },
  {
   "cell_type": "code",
   "execution_count": 21,
   "metadata": {
    "scrolled": true
   },
   "outputs": [
    {
     "data": {
      "text/plain": [
       "[270695,\n",
       " 249875,\n",
       " 276584,\n",
       " 254577,\n",
       " 270812,\n",
       " 270756,\n",
       " 294701,\n",
       " 302795,\n",
       " 293891,\n",
       " 288955,\n",
       " 274671,\n",
       " 284927]"
      ]
     },
     "execution_count": 21,
     "metadata": {},
     "output_type": "execute_result"
    }
   ],
   "source": [
    "#### Aggregate the count by sum using day of week as the grouping factor\n",
    "\n",
    "# Prepare a empty list with 12 elements\n",
    "total_month= [0]*12\n",
    "\n",
    "for element in Results:\n",
    "    for m in range(1,13):     # Be careful, m  here is an index ranges from 1 to 12, representing Jan. to Dec.\n",
    "        if element[1] == m:   # item[1] is the month\n",
    "            total_month[m-1] = total_month[m-1] + element[4] \n",
    "                              # element[4] is the count of birth\n",
    "                              # total_month[m-1] will allow the \"first element\" to be the aggregated data for \"Jan.\"\n",
    "           \n",
    "        \n",
    "total_month \n",
    "# It has the sum of births by month. \n",
    "# The order is [Jan. Feb. Mar. ...]"
   ]
  },
  {
   "cell_type": "code",
   "execution_count": 22,
   "metadata": {},
   "outputs": [
    {
     "data": {
      "text/plain": [
       "Month\n",
       "1     270695\n",
       "2     249875\n",
       "3     276584\n",
       "4     254577\n",
       "5     270812\n",
       "6     270756\n",
       "7     294701\n",
       "8     302795\n",
       "9     293891\n",
       "10    288955\n",
       "11    274671\n",
       "12    284927\n",
       "Name: Count, dtype: int64"
      ]
     },
     "execution_count": 22,
     "metadata": {},
     "output_type": "execute_result"
    }
   ],
   "source": [
    "# Method-2\n",
    "# Aggredate rows using sum() and grouped by 'Weekday'\n",
    "DF.groupby('Month')['Count'].sum()"
   ]
  },
  {
   "cell_type": "markdown",
   "metadata": {
    "collapsed": true
   },
   "source": [
    "ANS: August has most births (302795), and February has fewest births (249875)."
   ]
  },
  {
   "cell_type": "markdown",
   "metadata": {},
   "source": [
    "__Exercise 2.3.__ What would be an effective way to present the information in exercise 2.2? You don't need to write any code for this exercise, just discuss what you would do."
   ]
  },
  {
   "cell_type": "markdown",
   "metadata": {},
   "source": [
    "####  Visualization of Birth by Month"
   ]
  },
  {
   "cell_type": "code",
   "execution_count": 61,
   "metadata": {},
   "outputs": [],
   "source": [
    "import numpy as np\n",
    "import seaborn as sns\n",
    "import matplotlib.pyplot as plt"
   ]
  },
  {
   "cell_type": "code",
   "execution_count": 69,
   "metadata": {},
   "outputs": [
    {
     "name": "stderr",
     "output_type": "stream",
     "text": [
      "C:\\Users\\WeiKuang\\Anaconda3\\lib\\site-packages\\seaborn\\categorical.py:1460: FutureWarning: remove_na is deprecated and is a private function. Do not use.\n",
      "  stat_data = remove_na(group_data)\n"
     ]
    },
    {
     "data": {
      "image/png": "[encoded data removed]",
      "text/plain": [
       "<matplotlib.figure.Figure at 0x1b531f0d160>"
      ]
     },
     "metadata": {},
     "output_type": "display_data"
    }
   ],
   "source": [
    "# Data Manipulation\n",
    "Month_Birth = pd.DataFrame(DF.groupby('Month')['Count'].sum()) # Make it into a dataframe\n",
    "Month_Birth.reset_index(level=0, inplace=True)                 # Make the row index into a column\n",
    "\n",
    "# Plot\n",
    "sns.barplot(x=Month_Birth['Month'], y=Month_Birth['Count'], palette=\"vlag\")\n",
    "plt.ylabel(\"Birth Count\")\n",
    "plt.title(\"Year 1978\")\n",
    "plt.show()"
   ]
  },
  {
   "cell_type": "markdown",
   "metadata": {},
   "source": [
    "####  Visualization of Birth by Month"
   ]
  },
  {
   "cell_type": "code",
   "execution_count": 77,
   "metadata": {},
   "outputs": [
    {
     "name": "stderr",
     "output_type": "stream",
     "text": [
      "C:\\Users\\WeiKuang\\Anaconda3\\lib\\site-packages\\seaborn\\categorical.py:1460: FutureWarning: remove_na is deprecated and is a private function. Do not use.\n",
      "  stat_data = remove_na(group_data)\n"
     ]
    },
    {
     "data": {
      "image/png": "[encoded data removed]",
      "text/plain": [
       "<matplotlib.figure.Figure at 0x1b53226fe80>"
      ]
     },
     "metadata": {},
     "output_type": "display_data"
    }
   ],
   "source": [
    "# Data Manipulation\n",
    "DayWeek_Birth = pd.DataFrame(DF.groupby('Weekday')['Count'].sum()) # Make it into a dataframe\n",
    "DayWeek_Birth.reset_index(level=0, inplace=True)                 # Make the row index into a column\n",
    "\n",
    "# Plot\n",
    "sns.barplot(x=['Sun','Mon', 'Tu', 'Wed','Thr','Fri','Sat'], y=DayWeek_Birth['Count'], palette='rocket')\n",
    "plt.ylabel(\"Birth Count\")\n",
    "plt.xlabel(\"Day of the Week\")\n",
    "plt.title(\"Year 1978\")\n",
    "plt.show()"
   ]
  },
  {
   "cell_type": "code",
   "execution_count": null,
   "metadata": {},
   "outputs": [],
   "source": []
  }
 ],
 "metadata": {
  "anaconda-cloud": {},
  "kernelspec": {
   "display_name": "Python 3",
   "language": "python",
   "name": "python3"
  },
  "language_info": {
   "codemirror_mode": {
    "name": "ipython",
    "version": 3
   },
   "file_extension": ".py",
   "mimetype": "text/x-python",
   "name": "python",
   "nbconvert_exporter": "python",
   "pygments_lexer": "ipython3",
   "version": "3.6.3"
  }
 },
 "nbformat": 4,
 "nbformat_minor": 2
}

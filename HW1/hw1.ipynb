{
 "cells": [
  {
   "cell_type": "markdown",
   "metadata": {},
   "source": [
    "# STA 141B: Homework 1\n",
    "Winter 2018"
   ]
  },
  {
   "cell_type": "markdown",
   "metadata": {},
   "source": [
    "## Information\n",
    "\n",
    "After the colons (in the same line) please write just your first name, last name, and the 9 digit student ID number below.\n",
    "\n",
    "First Name: Wei-Kuang\n",
    "\n",
    "Last Name: Lin \n",
    "\n",
    "Student ID: 997062562"
   ]
  },
  {
   "cell_type": "markdown",
   "metadata": {},
   "source": [
    "## Instructions\n",
    "\n",
    "We use a script that extracts your answers by looking for cells in between the cells containing the exercise statements.  So you \n",
    "\n",
    "- MUST add cells in between the exercise statements and add answers within them and\n",
    "- MUST NOT modify the existing cells, particularly not the problem statement\n",
    "\n",
    "To make markdown, please switch the cell type to markdown (from code) - you can hit 'm' when you are in command mode - and use the markdown language.  For a brief tutorial see: https://daringfireball.net/projects/markdown/syntax\n"
   ]
  },
  {
   "cell_type": "markdown",
   "metadata": {
    "name": "fill1"
   },
   "source": [
    "## Part 1: The Doomsday Algorithm\n",
    "\n",
    "The Doomsday algorithm, devised by mathematician J. H. Conway, computes the day of the week any given date fell on. The algorithm is designed to be simple enough to memorize and use for mental calculation.\n",
    "\n",
    "__Example.__ With the algorithm, we can compute that July 4, 1776 (the day the United States declared independence from Great Britain) was a Thursday.\n",
    "\n",
    "The algorithm is based on the fact that for any year, several dates always fall on the same day of the week, called the <em style=\"color:#F00\">doomsday</em> for the year. These dates include 4/4, 6/6, 8/8, 10/10, and 12/12.\n",
    "\n",
    "__Example.__ The doomsday for 2016 is Monday, so in 2016 the dates above all fell on Mondays. The doomsday for 2017 is Tuesday, so in 2017 the dates above will all fall on Tuesdays.\n",
    "\n",
    "The doomsday algorithm has three major steps:\n",
    "\n",
    "1. Compute the anchor day for the target century.\n",
    "2. Compute the doomsday for the target year based on the anchor day.\n",
    "3. Determine the day of week for the target date by counting the number of days to the nearest doomsday.\n",
    "\n",
    "Each step is explained in detail below."
   ]
  },
  {
   "cell_type": "markdown",
   "metadata": {
    "name": "ex1.1"
   },
   "source": [
    "### The Anchor Day\n",
    "\n",
    "The doomsday for the first year in a century is called the <em style=\"color:#F00\">anchor day</em> for that century. The anchor day is needed to compute the doomsday for any other year in that century. The anchor day for a century $c$ can be computed with the formula:\n",
    "$$\n",
    "a = \\bigl( 5 (c \\bmod 4) + 2 \\bigr) \\bmod 7\n",
    "$$\n",
    "The result $a$ corresponds to a day of the week, starting with $0$ for Sunday and ending with $6$ for Saturday.\n",
    "\n",
    "__Note.__ The modulo operation $(x \\bmod y)$ finds the remainder after dividing $x$ by $y$. For instance, $12 \\bmod 3 = 0$ since the remainder after dividing $12$ by $3$ is $0$. Similarly, $11 \\bmod 7 = 4$, since the remainder after dividing $11$ by $7$ is $4$.\n",
    "\n",
    "__Example.__ Suppose the target year is 1954, so the century is $c = 19$. Plugging this into the formula gives\n",
    "$$a = \\bigl( 5 (19 \\bmod 4) + 2 \\bigr) \\bmod 7 = \\bigl( 5(3) + 2 \\bigr) \\bmod 7 = 3.$$\n",
    "In other words, the anchor day for 1900-1999 is Wednesday, which is also the doomsday for 1900.\n",
    "\n",
    "__Exercise 1.1.__ Write a function that accepts a year as input and computes the anchor day for that year's century. The modulo operator `%` and functions in the `math` module may be useful. Document your function with a docstring and test your function for a few different years.  Do this in a new cell below this one."
   ]
  },
  {
   "cell_type": "code",
   "execution_count": 171,
   "metadata": {
    "collapsed": true
   },
   "outputs": [],
   "source": [
    "import math  # load package \"math\", so I can use math.floor fucntion\n",
    "import math \n",
    "from datetime import datetime\n",
    "import operator # find the index of max and min in a set"
   ]
  },
  {
   "cell_type": "code",
   "execution_count": 172,
   "metadata": {
    "collapsed": true
   },
   "outputs": [],
   "source": [
    "def anchor_day(year):\n",
    "    \"\"\" Find the anchor day for the given year\n",
    "    \n",
    "    Arguemnts: year\n",
    "    \n",
    "    Returns: The doomsday for the given year. The output is the \n",
    "    integer number form 0 to 6.  For example 0 = Sunday, 1= Monday, ...\n",
    "    \"\"\"\n",
    "    c= math.floor(year / 100) \n",
    "    a = (5*(c % 4) +2 ) % 7\n",
    "    return a"
   ]
  },
  {
   "cell_type": "markdown",
   "metadata": {},
   "source": [
    "##### list  of anchor days for each centries\n",
    "#### 1800 - 1899: Friday\n",
    "#### 1900 - 1999: Wednesday\n",
    "#### 2000 - 2099: Tuesday\n",
    "#### 2100 - 2199: Sunday"
   ]
  },
  {
   "cell_type": "code",
   "execution_count": 5,
   "metadata": {},
   "outputs": [
    {
     "data": {
      "text/plain": [
       "5"
      ]
     },
     "execution_count": 5,
     "metadata": {},
     "output_type": "execute_result"
    }
   ],
   "source": [
    "# 1.1 test\n",
    "anchor_day(1801)"
   ]
  },
  {
   "cell_type": "code",
   "execution_count": 394,
   "metadata": {},
   "outputs": [
    {
     "data": {
      "text/plain": [
       "3"
      ]
     },
     "execution_count": 394,
     "metadata": {},
     "output_type": "execute_result"
    }
   ],
   "source": [
    "# 1.1 test\n",
    "anchor_day(1999)"
   ]
  },
  {
   "cell_type": "code",
   "execution_count": 6,
   "metadata": {},
   "outputs": [
    {
     "data": {
      "text/plain": [
       "3"
      ]
     },
     "execution_count": 6,
     "metadata": {},
     "output_type": "execute_result"
    }
   ],
   "source": [
    "# 1.1 test\n",
    "anchor_day(1901)"
   ]
  },
  {
   "cell_type": "code",
   "execution_count": 179,
   "metadata": {},
   "outputs": [
    {
     "data": {
      "text/plain": [
       "3"
      ]
     },
     "execution_count": 179,
     "metadata": {},
     "output_type": "execute_result"
    }
   ],
   "source": [
    "# 1.1 test\n",
    "anchor_day(1981)"
   ]
  },
  {
   "cell_type": "code",
   "execution_count": 173,
   "metadata": {
    "collapsed": true
   },
   "outputs": [],
   "source": [
    "def centry(year):\n",
    "    \"\"\" Find the first two digit of the given year\n",
    "    \n",
    "    Arguemnts: year\n",
    "    \n",
    "    Returns: the first two digit of the given year\n",
    "    \"\"\"\n",
    "    c= math.floor(year / 100) \n",
    "    return c"
   ]
  },
  {
   "cell_type": "code",
   "execution_count": 395,
   "metadata": {},
   "outputs": [
    {
     "data": {
      "text/plain": [
       "19"
      ]
     },
     "execution_count": 395,
     "metadata": {},
     "output_type": "execute_result"
    }
   ],
   "source": [
    "# 1.1 test\n",
    "centry(1998)"
   ]
  },
  {
   "cell_type": "code",
   "execution_count": 396,
   "metadata": {},
   "outputs": [
    {
     "data": {
      "text/plain": [
       "20"
      ]
     },
     "execution_count": 396,
     "metadata": {},
     "output_type": "execute_result"
    }
   ],
   "source": [
    "# 1.1 test\n",
    "centry(2012)"
   ]
  },
  {
   "cell_type": "code",
   "execution_count": null,
   "metadata": {
    "collapsed": true
   },
   "outputs": [],
   "source": []
  },
  {
   "cell_type": "markdown",
   "metadata": {
    "name": "ex1.2"
   },
   "source": [
    "### The Doomsday\n",
    "\n",
    "Once the anchor day is known, let $y$ be the last two digits of the target year. Then the doomsday for the target year can be computed with the formula:\n",
    "$$d = \\left(y + \\left\\lfloor\\frac{y}{4}\\right\\rfloor + a\\right) \\bmod 7$$\n",
    "The result $d$ corresponds to a day of the week.\n",
    "\n",
    "__Note.__ The floor operation $\\lfloor x \\rfloor$ rounds $x$ down to the nearest integer. For instance, $\\lfloor 3.1 \\rfloor = 3$ and $\\lfloor 3.8 \\rfloor = 3$.\n",
    "\n",
    "__Example.__ Again suppose the target year is 1954. Then the anchor day is $a = 3$, and $y = 54$, so the formula gives\n",
    "$$\n",
    "d = \\left(54 + \\left\\lfloor\\frac{54}{4}\\right\\rfloor + 3\\right) \\bmod 7 = (54 + 13 + 3) \\bmod 7 = 0.\n",
    "$$\n",
    "Thus the doomsday for 1954 is Sunday.\n",
    "\n",
    "__Exercise 1.2.__ Write a function that accepts a year as input and computes the doomsday for that year. Your function may need to call the function you wrote in exercise 1.1. Make sure to document and test your function."
   ]
  },
  {
   "cell_type": "code",
   "execution_count": 184,
   "metadata": {
    "collapsed": true
   },
   "outputs": [],
   "source": [
    "def doomsday(year):\n",
    "    \"\"\" Find the doomsday for the given year\n",
    "    \n",
    "    Arguemnts: year\n",
    "    \n",
    "    Returns: The doomsday for the given year. The output is the \n",
    "    integer number form 0 to 6.  For example 0 = Sunday, 1= Monday, ..., 6= Saturday\n",
    "    \"\"\"\n",
    "    c= math.floor(year / 100) # c is the centry\n",
    "    a = (5*(c % 4) +2 ) % 7 # a is the anchor year\n",
    "    y= year % 100 # y is the last two digit\n",
    "    doomsday= (y+ math.floor(y/4)+a)% 7\n",
    "    return doomsday"
   ]
  },
  {
   "cell_type": "code",
   "execution_count": 175,
   "metadata": {},
   "outputs": [
    {
     "data": {
      "text/plain": [
       "0"
      ]
     },
     "execution_count": 175,
     "metadata": {},
     "output_type": "execute_result"
    }
   ],
   "source": [
    "#  1.2 test\n",
    "doomsday(1954) # it works!"
   ]
  },
  {
   "cell_type": "code",
   "execution_count": 80,
   "metadata": {},
   "outputs": [
    {
     "data": {
      "text/plain": [
       "6"
      ]
     },
     "execution_count": 80,
     "metadata": {},
     "output_type": "execute_result"
    }
   ],
   "source": [
    "# 1.2 test\n",
    "doomsday(1998) "
   ]
  },
  {
   "cell_type": "code",
   "execution_count": 81,
   "metadata": {},
   "outputs": [
    {
     "data": {
      "text/plain": [
       "3"
      ]
     },
     "execution_count": 81,
     "metadata": {},
     "output_type": "execute_result"
    }
   ],
   "source": [
    "# 1.2 test\n",
    "doomsday(2001)"
   ]
  },
  {
   "cell_type": "markdown",
   "metadata": {
    "name": "ex1.3"
   },
   "source": [
    "### The Day of Week\n",
    "\n",
    "The final step in the Doomsday algorithm is to count the number of days between the target date and a nearby doomsday, modulo 7. This gives the day of the week.\n",
    "\n",
    "Every month has at least one doomsday:\n",
    "* (regular years) 1/10, 2/28\n",
    "* (leap years) 1/11, 2/29\n",
    "* 3/21, 4/4, 5/9, 6/6, 7/11, 8/8, 9/5, 10/10, 11/7, 12/12\n",
    "\n",
    "__Example.__ Suppose we want to find the day of the week for 7/21/1954. The doomsday for 1954 is Sunday, and a nearby doomsday is 7/11. There are 10 days in July between 7/11 and 7/21. Since $10 \\bmod 7 = 3$, the date 7/21/1954 falls 3 days after a Sunday, on a Wednesday.\n",
    "\n",
    "__Exercise 1.3.__ Write a function to determine the day of the week for a given day, month, and year. Be careful of leap years! Your function should return a string such as \"Thursday\" rather than a number. As usual, document and test your code."
   ]
  },
  {
   "cell_type": "code",
   "execution_count": 399,
   "metadata": {
    "collapsed": true
   },
   "outputs": [],
   "source": [
    "def day_fun(data_input):\n",
    "    \"\"\" Find the weekday for the given date 'm/d/Y' (m=month, d= day, Y=year)\n",
    "    \n",
    "    Arguemnts: The input is the requested date. The formate is 'm/d/Y' ex: '02/14/2018' \n",
    "    \n",
    "    Returns: The doomsday for the given year. The output is the \n",
    "    integer number form 0 to 6.  For example 0 = Sunday, 1= Monday, ...\n",
    "    \"\"\"\n",
    "\n",
    "    data = data_input.split('/')\n",
    "    \n",
    "    month= int(data[0])\n",
    "    day  = int(data[1])\n",
    "    year = int(data[2])\n",
    "    \n",
    "    # PartA: To find the nearest Doomsday\n",
    "    regular = [10, 28, 21, 4, 9, 6, 11, 8, 5, 10, 7, 12]\n",
    "    leap= [11, 15, 21, 4, 9, 6, 11, 8, 5, 10, 7, 12] # Feb.15th is also the doomsday in leap year\n",
    "    weekday= [\"Sunday\",\"Monday\",\"Tuesday\", \"Wednesday\", \"Thursday\", \"Friday\",\"Saturday\"]\n",
    "    \n",
    "    # Convert the date into the the caculabe data, so I could find the nearest doomsday across month\n",
    "    date_format = '%m/%d'\n",
    "    regular_date= [datetime.strptime('1/10', date_format),\n",
    "            datetime.strptime('2/28', date_format),\n",
    "            datetime.strptime('3/21', date_format),\n",
    "            datetime.strptime('4/4', date_format),\n",
    "            datetime.strptime('5/9', date_format),\n",
    "            datetime.strptime('6/6', date_format),\n",
    "            datetime.strptime('7/11', date_format),\n",
    "            datetime.strptime('8/8', date_format),\n",
    "            datetime.strptime('9/5', date_format),\n",
    "            datetime.strptime('10/10', date_format),\n",
    "            datetime.strptime('11/7',date_format),\n",
    "            datetime.strptime('12/12',date_format)]\n",
    "    \n",
    "    leap_date= [datetime.strptime('1/11', date_format),\n",
    "            datetime.strptime('2/15', date_format),\n",
    "            datetime.strptime('3/21', date_format),\n",
    "            datetime.strptime('4/4', date_format),\n",
    "            datetime.strptime('5/9', date_format),\n",
    "            datetime.strptime('6/6', date_format),\n",
    "            datetime.strptime('7/11', date_format),\n",
    "            datetime.strptime('8/8', date_format),\n",
    "            datetime.strptime('9/5', date_format),\n",
    "            datetime.strptime('10/10', date_format),\n",
    "            datetime.strptime('11/7',date_format),\n",
    "            datetime.strptime('12/12',date_format)]\n",
    "    \n",
    "    # recreate m/d from input data\n",
    "    md = (str(month) + '/' + str(day) )\n",
    "    date_format = '%m/%d'\n",
    "    md_num = datetime.strptime(md, date_format)\n",
    "    \n",
    "    #Determine the doomsday\n",
    "    doom = doomsday(year)\n",
    "    \n",
    "    #Find the nearest doomsday, given non-leap or leap year\n",
    "    if (year%4 + year%400) ==0:\n",
    "        # print(\"it is a leap year\")\n",
    "        \n",
    "        # find the nearest Doomsday\n",
    "        # Calculate diff_doom (difference between md_num and each doomsday)\n",
    "        diff_doom = [ abs(leap_date[x] -md_num) for x in range(12)]\n",
    "        \n",
    "        # Result of nearest Doomsday\n",
    "        min_index, min_value = min(enumerate(diff_doom), key=operator.itemgetter(1))\n",
    "        nearst_day= leap[min_index]\n",
    "        \n",
    "        date_format_mdY = '%m/%d/%Y'\n",
    "        input_num = datetime.strptime(data_input, date_format_mdY) # convert it into caluable value\n",
    "        nearst_day_A = str(min_index +1) + '/' + str(nearst_day) + '/' + str(year) # reassembel nearst doomsday in the given year\n",
    "        nearst_day_num = datetime.strptime(nearst_day_A , date_format_mdY) # convert it into caluable value\n",
    "        \n",
    "        diff_num = input_num - nearst_day_num \n",
    "        diff = diff_num.days\n",
    "        \n",
    "        if diff <0:\n",
    "            movement = (-1)*( (abs(diff))%7 )\n",
    "            day_of_week= doom + movement #\n",
    "            \n",
    "            if day_of_week <0:\n",
    "                day_of_week= (-1)* ( abs(day_of_week)%7 )\n",
    "                result = weekday[day_of_week]\n",
    "            else:\n",
    "                result= weekday[day_of_week%7]\n",
    "            \n",
    "        else: # When diff is positive\n",
    "            movement = diff %7 \n",
    "            day_of_week= doom + movement\n",
    "            result= weekday[day_of_week%7]\n",
    "        \n",
    "    else:\n",
    "        # print(\"it is a regular year\")\n",
    "        # find the nearest Doomsday\n",
    "        # Calculate diff_doom (difference between md_num and each doomsday)\n",
    "        diff_doom = [ abs(regular_date[x] -md_num) for x in range(12)]\n",
    "        \n",
    "        \n",
    "        # Result of nearest Doomsday\n",
    "        min_index, min_value = min(enumerate(diff_doom), key=operator.itemgetter(1))\n",
    "        nearst_day= regular[min_index]\n",
    "        \n",
    "        date_format_mdY = '%m/%d/%Y'\n",
    "        input_num = datetime.strptime(data_input, date_format_mdY) # convert it into caluable value\n",
    "        nearst_day_A = str(min_index +1) + '/' + str(nearst_day) + '/' + str(year) # reassembel nearst doomsday in the given year\n",
    "        nearst_day_num = datetime.strptime(nearst_day_A , date_format_mdY) # convert it into caluable value\n",
    "        \n",
    "        diff_num = input_num - nearst_day_num \n",
    "        diff = diff_num.days\n",
    "        \n",
    "        if diff <0:\n",
    "            movement = (-1)*( (abs(diff))%7 )\n",
    "            day_of_week= doom + movement \n",
    "            \n",
    "            if day_of_week <0:\n",
    "                day_of_week= (-1)* ( abs(day_of_week)%7 )\n",
    "                result = weekday[day_of_week]\n",
    "            else:\n",
    "                result= weekday[day_of_week%7]\n",
    "        else: # When diff is positive\n",
    "            movement = diff %7 \n",
    "            day_of_week= doom + movement # \n",
    "            result= weekday[day_of_week%7]\n",
    "            \n",
    "    return result"
   ]
  },
  {
   "cell_type": "code",
   "execution_count": 400,
   "metadata": {
    "scrolled": true
   },
   "outputs": [
    {
     "data": {
      "text/plain": [
       "'Monday'"
      ]
     },
     "execution_count": 400,
     "metadata": {},
     "output_type": "execute_result"
    }
   ],
   "source": [
    "# 1.3 test\n",
    "day_fun('1/1/2001') # it's correct: Jan 1st , 2001 is Monday"
   ]
  },
  {
   "cell_type": "code",
   "execution_count": 401,
   "metadata": {
    "scrolled": false
   },
   "outputs": [
    {
     "data": {
      "text/plain": [
       "'Tuesday'"
      ]
     },
     "execution_count": 401,
     "metadata": {},
     "output_type": "execute_result"
    }
   ],
   "source": [
    "# 1.3 test\n",
    "day_fun('9/29/1998') # it's correct: Sep 29 , 1998 is Tuesday"
   ]
  },
  {
   "cell_type": "code",
   "execution_count": 402,
   "metadata": {},
   "outputs": [
    {
     "data": {
      "text/plain": [
       "'Friday'"
      ]
     },
     "execution_count": 402,
     "metadata": {},
     "output_type": "execute_result"
    }
   ],
   "source": [
    "# 1.3 test\n",
    "day_fun('9/29/2000') # it's correct: Sep 29 , 2000 is Friday"
   ]
  },
  {
   "cell_type": "code",
   "execution_count": 393,
   "metadata": {},
   "outputs": [
    {
     "data": {
      "text/plain": [
       "'Saturday'"
      ]
     },
     "execution_count": 393,
     "metadata": {},
     "output_type": "execute_result"
    }
   ],
   "source": [
    "# 1.3 test\n",
    "day_fun('1/13/1900') # it's correct: Jan 13 , 1900 is Saturday"
   ]
  },
  {
   "cell_type": "code",
   "execution_count": null,
   "metadata": {
    "collapsed": true
   },
   "outputs": [],
   "source": [
    " "
   ]
  },
  {
   "cell_type": "markdown",
   "metadata": {
    "name": "ex1.4"
   },
   "source": [
    "__Exercise 1.4.__ How many times did Friday the 13th occur in the years 1900-1999? Does this number seem to be similar to other centuries?"
   ]
  },
  {
   "cell_type": "code",
   "execution_count": 200,
   "metadata": {},
   "outputs": [],
   "source": [
    "def Friday_count_1(c1,c2):\n",
    "    \"\"\" Count the number of 13th Friday in the requested interval \n",
    "    \n",
    "    Arguemnts: The input is the requested interval, in terms of year. \n",
    "    c1 is the lower end of the interval \n",
    "    c2 is the upper end of the interval\n",
    "    type of c1 and c2 are numeric \n",
    "    \n",
    "    Returns: Sum of the number of 13th Friday in the requested interval \n",
    "    \"\"\"\n",
    "    \n",
    "    i =0\n",
    "    for year in range(c1,c2+1):\n",
    "        for month in range (1,13):\n",
    "            data= str(month) + '/'+ '13' + '/' + str(year)\n",
    "            if day_fun(data) == 'Friday':\n",
    "                i = i+1\n",
    "            else:\n",
    "                i=i\n",
    "            \n",
    "    return i"
   ]
  },
  {
   "cell_type": "code",
   "execution_count": 205,
   "metadata": {},
   "outputs": [
    {
     "data": {
      "text/plain": [
       "(171, 172, 173, 170)"
      ]
     },
     "execution_count": 205,
     "metadata": {},
     "output_type": "execute_result"
    }
   ],
   "source": [
    "# The number of 13th Friday in centries from 18th, 19th, 20th, 21th\n",
    "Friday_count_1(1700,1799), Friday_count_1(1800,1899), Friday_count_1(1900,1999), Friday_count_1(2000,2099)"
   ]
  },
  {
   "cell_type": "markdown",
   "metadata": {},
   "source": [
    "1.4 ANS:\n",
    "The number of 13th Friday seems to be similar among different centries\n",
    "18th  19th  20th  21th\n",
    "(171,  172,  173,  170) "
   ]
  },
  {
   "cell_type": "code",
   "execution_count": null,
   "metadata": {
    "collapsed": true
   },
   "outputs": [],
   "source": [
    " "
   ]
  },
  {
   "cell_type": "markdown",
   "metadata": {
    "name": "ex1.5"
   },
   "source": [
    "__Exercise 1.5.__ How many times did Friday the 13th occur between the year 2000 and today?"
   ]
  },
  {
   "cell_type": "code",
   "execution_count": 333,
   "metadata": {},
   "outputs": [],
   "source": [
    "def Friday_count_2( sdy, today):\n",
    "    \"\"\" Count the number of \"13th Friday\" between a assigned year and today\n",
    "    \n",
    "    Arguments: \n",
    "    sdy is the start year, format= 'Y', ex: '2000'  \n",
    "    today is the date of toda, format = '%m/%d/%Y', ex: '1/19/2018'\n",
    "        \n",
    "    Returns:\n",
    "        the number of \"13th Friday\" within the assigned period\n",
    "    \"\"\"\"\"        \n",
    "    tdy = int( today.split('/')[2] )  # tdy = the year of today\n",
    "    tdm = int( today.split('/')[0] )  # tdm = the month of today\n",
    "    tdd = int( today.split('/')[0] )  # tdd = the day of today\n",
    "    sdy = int(sdy)\n",
    "    \n",
    "    #Part-a  includes the date from year_start to the previous year\n",
    "    a = 0\n",
    "    for Y in range(sdy, tdy):\n",
    "        for M in range (1,13):\n",
    "            data= str(M) + '/'+ '13' + '/' + str(Y)\n",
    "            if day_fun(data) == 'Friday':\n",
    "                a = a+1\n",
    "            else:\n",
    "                a=a\n",
    "            \n",
    "    #Part-b  includes dates in this year unti previous month\n",
    "    b = 0\n",
    "    for M in range(1,tdm):\n",
    "        data= str(M) + '/'+ '13' + '/' + str(tdy)\n",
    "        if day_fun(data) == 'Friday':  #'1/13/2018' = today\n",
    "            b = b+1\n",
    "        else:\n",
    "            b=b\n",
    "            \n",
    "    #Part-c  includes dates in the month of today\n",
    "    c = 0\n",
    "    if (tdd >= 13 and day_fun(data) == 'Friday' ):\n",
    "        c=1\n",
    "        \n",
    "            \n",
    "    return a+b+c"
   ]
  },
  {
   "cell_type": "code",
   "execution_count": 334,
   "metadata": {},
   "outputs": [
    {
     "data": {
      "text/plain": [
       "29"
      ]
     },
     "execution_count": 334,
     "metadata": {},
     "output_type": "execute_result"
    }
   ],
   "source": [
    "Friday_count_2('2000','1/19/2018')"
   ]
  },
  {
   "cell_type": "markdown",
   "metadata": {},
   "source": [
    "1.5 ANS:\n",
    "Between 2000 and today, there were \"29\" 13th Friday."
   ]
  },
  {
   "cell_type": "code",
   "execution_count": null,
   "metadata": {
    "collapsed": true
   },
   "outputs": [],
   "source": [
    " "
   ]
  },
  {
   "cell_type": "markdown",
   "metadata": {
    "name": "ex2.1"
   },
   "source": [
    "## Part 2: 1978 Birthdays\n",
    "\n",
    "__Exercise 2.1.__ The file `birthdays.txt` contains the number of births in the United States for each day in 1978. Inspect the file to determine the format. Note that columns are separated by the tab character, which can be entered in Python as `\\t`. Write a function that uses iterators and list comprehensions with the string methods `split()` and `strip()` to  convert each line of data to the list format\n",
    "\n",
    "```Python\n",
    "[month, day, year, count]\n",
    "```\n",
    "The elements of this list should be integers, not strings. The function `read_birthdays` provided below will help you load the file."
   ]
  },
  {
   "cell_type": "code",
   "execution_count": 335,
   "metadata": {
    "collapsed": true,
    "name": "fill2"
   },
   "outputs": [],
   "source": [
    "def read_birthdays(file_path):\n",
    "    \"\"\"Read the contents of the birthdays file into a string.\n",
    "    \n",
    "    Arguments:\n",
    "        file_path (string): The path to the birthdays file.\n",
    "        \n",
    "    Returns:\n",
    "        string: The contents of the birthdays file.\n",
    "    \"\"\"\n",
    "    with open(file_path) as file:\n",
    "        return file.read()"
   ]
  },
  {
   "cell_type": "code",
   "execution_count": 369,
   "metadata": {},
   "outputs": [],
   "source": [
    "def converter(file_path):\n",
    "    \"\"\" Convert the contents of the birthdays file into one huge list. \n",
    "        In this list, each of element includes [month, day, year, count]\n",
    "    \n",
    "    Arguments:\n",
    "        file_path (string): The path to the birthdays file.\n",
    "        \n",
    "    Returns:\n",
    "        A list, each of its element includes [month, day, year, count]\n",
    "    \"\"\"\n",
    "    \n",
    "    data = read_birthdays (file_path).strip()\n",
    "    result = [0]* 365\n",
    "    i= 0\n",
    "    \n",
    "    for line in data.split('\\n')[6:]:\n",
    "        date, count = line.split('\\t')\n",
    "        month, day, year = date.split('/')\n",
    "        ListA = [int(month), int(day), int(year), int(count)]\n",
    "        result[i] =  ListA \n",
    "        i = i +1\n",
    "    return(result)"
   ]
  },
  {
   "cell_type": "code",
   "execution_count": 372,
   "metadata": {},
   "outputs": [
    {
     "name": "stdout",
     "output_type": "stream",
     "text": [
      "[1, 1, 78, 7701]\n",
      "[1, 2, 78, 7527]\n",
      "[1, 3, 78, 8825]\n",
      "[1, 4, 78, 8859]\n",
      "[1, 5, 78, 9043]\n",
      "[1, 6, 78, 9208]\n",
      "[1, 7, 78, 8084]\n",
      "[1, 8, 78, 7611]\n",
      "[1, 9, 78, 9172]\n"
     ]
    }
   ],
   "source": [
    "file_path = \"C:/Users/WeiKuang/Documents/GitHub/141b-hw1-Wei-Kuang/birthdays.txt\"\n",
    "result_21 = converter(file_path)\n",
    "\n",
    "# To print the first 9 data in the file\n",
    "for i in range(9):\n",
    "    print(result_21[i])"
   ]
  },
  {
   "cell_type": "code",
   "execution_count": null,
   "metadata": {
    "collapsed": true
   },
   "outputs": [],
   "source": [
    " "
   ]
  },
  {
   "cell_type": "markdown",
   "metadata": {
    "name": "ex2.2"
   },
   "source": [
    "__Exercise 2.2.__ Which month had the most births in 1978? Which day of the week had the most births? Which day of the week had the fewest? What conclusions can you draw? You may find the `Counter` class in the `collections` module useful."
   ]
  },
  {
   "cell_type": "code",
   "execution_count": 373,
   "metadata": {},
   "outputs": [
    {
     "name": "stdout",
     "output_type": "stream",
     "text": [
      "[0, 1, 1, 78, 7701]\n",
      "[1, 1, 2, 78, 7527]\n",
      "[2, 1, 3, 78, 8825]\n",
      "[3, 1, 4, 78, 8859]\n",
      "[4, 1, 5, 78, 9043]\n",
      "[5, 1, 6, 78, 9208]\n",
      "[6, 1, 7, 78, 8084]\n",
      "[0, 1, 8, 78, 7611]\n",
      "[1, 1, 9, 78, 9172]\n",
      "[2, 1, 10, 78, 9089]\n",
      "[3, 1, 11, 78, 9210]\n",
      "[4, 1, 12, 78, 9259]\n",
      "[5, 1, 13, 78, 9138]\n",
      "[6, 1, 14, 78, 8299]\n"
     ]
    }
   ],
   "source": [
    "# '1/1/1978' is Sunday. Thus, the sequence of the weekday can starts from \"Sunday\"\n",
    "# Set Sunday = 0, Monday =1, and so forth\n",
    "weekday= [w for w in range(0,7)]\n",
    "\n",
    "# weekday*52 has the first 364 weekdays. There is one weekday left, which is Sunday that represents 0\n",
    "All_weekday = weekday*52 + [0]\n",
    "\n",
    "# Insert weekday info to the fist poistion of each element in the \"result_21\" list\n",
    "for x in range(0,365):\n",
    "    result_21[x].insert(0, All_weekday[x])\n",
    "\n",
    "# print the expaned result\n",
    "for x in range(14):\n",
    "    print(result_21[x]) \n",
    "    # [weekday, month, day, count]"
   ]
  },
  {
   "cell_type": "code",
   "execution_count": 382,
   "metadata": {},
   "outputs": [
    {
     "data": {
      "text/plain": [
       "[270695,\n",
       " 249875,\n",
       " 276584,\n",
       " 254577,\n",
       " 270812,\n",
       " 270756,\n",
       " 294701,\n",
       " 302795,\n",
       " 293891,\n",
       " 288955,\n",
       " 274671,\n",
       " 284927]"
      ]
     },
     "execution_count": 382,
     "metadata": {},
     "output_type": "execute_result"
    }
   ],
   "source": [
    "# sum by month\n",
    "SM= [0]*12\n",
    "\n",
    "for item in result_21:\n",
    "    for m in range(1,13):  # Be careful, m is going to compare with the Jan(1), Feb(2), March(3),..\n",
    "        if item[1] == m:\n",
    "            SM[m-1] = SM[m-1] + item[4]\n",
    "            \n",
    "SM # It has the sum of births by month. The order is [Jan. Feb. Mar. ...]"
   ]
  },
  {
   "cell_type": "code",
   "execution_count": 386,
   "metadata": {},
   "outputs": [
    {
     "data": {
      "text/plain": [
       "(8, 302795)"
      ]
     },
     "execution_count": 386,
     "metadata": {},
     "output_type": "execute_result"
    }
   ],
   "source": [
    "### ANS to 2.2 - 1\n",
    "max_index, max_value = max(enumerate(SM), key=operator.itemgetter(1))\n",
    "\n",
    "max_index +1 , max_value # Month (8 = Agust) with most births, the max value"
   ]
  },
  {
   "cell_type": "code",
   "execution_count": null,
   "metadata": {
    "collapsed": true
   },
   "outputs": [],
   "source": []
  },
  {
   "cell_type": "code",
   "execution_count": 377,
   "metadata": {},
   "outputs": [
    {
     "data": {
      "text/plain": [
       "[421400, 487309, 504858, 493897, 493149, 500541, 432085]"
      ]
     },
     "execution_count": 377,
     "metadata": {},
     "output_type": "execute_result"
    }
   ],
   "source": [
    "# sum by week\n",
    "total = [0,0,0,0,0,0,0] \n",
    "\n",
    "for item in result_21:\n",
    "    for w in range(0,7):\n",
    "        if item[0] == w:\n",
    "            total[w] = total[w] + item[4]\n",
    "    \n",
    "\n",
    "total # It has the total Birthday counts for each weekday.  [Sun, Mon, Tu, ...]"
   ]
  },
  {
   "cell_type": "code",
   "execution_count": null,
   "metadata": {
    "collapsed": true
   },
   "outputs": [],
   "source": [
    "### ANS to 2.2 - 2\n",
    "# Sunday has least births.\n",
    "# Tuesday has the most births."
   ]
  },
  {
   "cell_type": "markdown",
   "metadata": {},
   "source": [
    "__Exercise 2.3.__ What would be an effective way to present the information in exercise 2.2? You don't need to write any code for this exercise, just discuss what you would do."
   ]
  },
  {
   "cell_type": "markdown",
   "metadata": {},
   "source": [
    "Ans 2.3:\n",
    "\n",
    "1. Showing a table with the proportion of the births by groups (ex: Weekday-Sun, Mon,... or Month-Jan, Feb, ...) can be good. However, if we want to show the births by weekday and month at once, a mosaic plot with two factors-levels is definetly an effective way to spot the lowest and highest porprtion of birth under certain weekday-month combinations.\n",
    "\n",
    "2. Another way to visualise a moasic plot could be heat map, the density of the color reflect the porportion of biths in all weekday-month combinations.\n",
    "\n",
    "3. Showing a bar chart with well-explanied lables could be another good way to show the quantity in different Weekdays or Months.\n",
    "\n"
   ]
  }
 ],
 "metadata": {
  "anaconda-cloud": {},
  "kernelspec": {
   "display_name": "Python 3",
   "language": "python",
   "name": "python3"
  },
  "language_info": {
   "codemirror_mode": {
    "name": "ipython",
    "version": 3
   },
   "file_extension": ".py",
   "mimetype": "text/x-python",
   "name": "python",
   "nbconvert_exporter": "python",
   "pygments_lexer": "ipython3",
   "version": "3.6.3"
  }
 },
 "nbformat": 4,
 "nbformat_minor": 2
}
